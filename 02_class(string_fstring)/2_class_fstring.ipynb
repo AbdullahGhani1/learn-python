{
 "cells": [
  {
   "cell_type": "markdown",
   "metadata": {},
   "source": [
    "### String Data Type in python"
   ]
  },
  {
   "cell_type": "code",
   "execution_count": 68,
   "metadata": {},
   "outputs": [
    {
     "name": "stdout",
     "output_type": "stream",
     "text": [
      "<class 'str'>\n",
      "double quotes string: \" \"  Abdullah Ghani\n",
      "<class 'str'>\n",
      "single quotes: ' '  Abdullah Ghani\n",
      "<class 'str'>\n",
      "triple quotes: ''' '''  Abdullah Ghani\n"
     ]
    }
   ],
   "source": [
    "# boundaries\n",
    "# \"string text\", 'string text' , ''' stringm text ''', \"\"\" string text  \"\"\"\n",
    "\n",
    "# double quotes string\n",
    "name : str ='Abdullah Ghani'\n",
    "print(type(name))\n",
    "print('double quotes string: \" \" ',name)\n",
    "\n",
    "# single quotes string\n",
    "name : str ='Abdullah Ghani'\n",
    "print(type(name))\n",
    "print(\"single quotes: ' ' \",name)\n",
    "\n",
    "# triple quotes string\n",
    "name : str ='''Abdullah Ghani'''\n",
    "print(type(name))\n",
    "print(\"triple quotes: ''' ''' \",name)\n"
   ]
  },
  {
   "cell_type": "code",
   "execution_count": 69,
   "metadata": {},
   "outputs": [],
   "source": [
    "message: str = \"PIAIC Student Card\\n Father's Name\"\n",
    "#  if we need both single quote ' and double quote  \" in a string we will use tripple quote    ``` message``` or \"\"\" message \"\"\"\n",
    "message: str = \"\"\" PIAIC special meaning quote's \"\"\"\n"
   ]
  },
  {
   "cell_type": "markdown",
   "metadata": {},
   "source": [
    "## Concatination"
   ]
  },
  {
   "cell_type": "code",
   "execution_count": 70,
   "metadata": {},
   "outputs": [
    {
     "data": {
      "text/plain": [
       "'abc'"
      ]
     },
     "execution_count": 70,
     "metadata": {},
     "output_type": "execute_result"
    }
   ],
   "source": [
    "# stings value concatination\n",
    "'a' + 'b' + 'c'\n"
   ]
  },
  {
   "cell_type": "code",
   "execution_count": 71,
   "metadata": {},
   "outputs": [
    {
     "ename": "TypeError",
     "evalue": "can only concatenate str (not \"int\") to str",
     "output_type": "error",
     "traceback": [
      "\u001b[0;31m---------------------------------------------------------------------------\u001b[0m",
      "\u001b[0;31mTypeError\u001b[0m                                 Traceback (most recent call last)",
      "Cell \u001b[0;32mIn[71], line 2\u001b[0m\n\u001b[1;32m      1\u001b[0m \u001b[38;5;66;03m#  it will give error only string concatinate with strings\u001b[39;00m\n\u001b[0;32m----> 2\u001b[0m \u001b[38;5;124;43m'\u001b[39;49m\u001b[38;5;124;43ma\u001b[39;49m\u001b[38;5;124;43m'\u001b[39;49m\u001b[43m \u001b[49m\u001b[38;5;241;43m+\u001b[39;49m\u001b[38;5;241;43m9\u001b[39;49m\n",
      "\u001b[0;31mTypeError\u001b[0m: can only concatenate str (not \"int\") to str"
     ]
    }
   ],
   "source": [
    "#  it will give error only string concatinate with strings\n",
    "'a' +9\n"
   ]
  },
  {
   "cell_type": "code",
   "execution_count": 72,
   "metadata": {},
   "outputs": [
    {
     "data": {
      "text/plain": [
       "'a9'"
      ]
     },
     "execution_count": 72,
     "metadata": {},
     "output_type": "execute_result"
    }
   ],
   "source": [
    "# we have to make int 9 into string\n",
    "'a' +'9'\n",
    "'a' + str(9)\n"
   ]
  },
  {
   "cell_type": "code",
   "execution_count": 73,
   "metadata": {},
   "outputs": [
    {
     "name": "stdout",
     "output_type": "stream",
     "text": [
      "PIAIC Student Card\n",
      "Student Name:\tAbdullah Ghani\n",
      "age:\t29\n",
      "Father name:\tAbdul Ghani\n",
      "Education:\tBSC Computer Enginering\n"
     ]
    }
   ],
   "source": [
    "father_name: str = \"Abdul Ghani\"\n",
    "education: str = \"BSC Computer Enginering\"\n",
    "age: int = 29\n",
    "\n",
    "card :str = \"PIAIC Student Card\\nStudent Name:\\t\" + name + \"\\nage:\\t\"+ str(age) +\"\\nFather name:\\t\"+father_name+\"\\nEducation:\\t\"+education\n",
    "\n",
    "print(card)\n"
   ]
  },
  {
   "cell_type": "markdown",
   "metadata": {},
   "source": [
    "#### \"\\\\\" Line Continue"
   ]
  },
  {
   "cell_type": "code",
   "execution_count": 74,
   "metadata": {},
   "outputs": [
    {
     "name": "stdout",
     "output_type": "stream",
     "text": [
      "30\n"
     ]
    }
   ],
   "source": [
    "print(5 +\\\n",
    "      10 +\\\n",
    "    15)"
   ]
  },
  {
   "cell_type": "code",
   "execution_count": 75,
   "metadata": {},
   "outputs": [
    {
     "name": "stdout",
     "output_type": "stream",
     "text": [
      "PIAIC Student Card\n",
      "Student Name:\tAbdullah Ghani\n",
      "age:\t29\n",
      "Father name:\tAbdul Ghani\n",
      "Education:\tBSC Computer Enginering\n"
     ]
    }
   ],
   "source": [
    "father_name: str = \"Abdul Ghani\"\n",
    "education: str = \"BSC Computer Enginering\"\n",
    "age: int = 29\n",
    "\n",
    "card :str = \"PIAIC Student Card\\nStudent Name:\\t\" + name + \"\\nage:\\t\"+ str(age) +\"\\nFather name:\\t\"+father_name+\"\\nEducation:\\t\"+education\n",
    "\n",
    "print(card)\n"
   ]
  },
  {
   "cell_type": "code",
   "execution_count": null,
   "metadata": {},
   "outputs": [],
   "source": []
  },
  {
   "cell_type": "markdown",
   "metadata": {},
   "source": [
    "#### Define multiline String \"\"\"  \"\"\" ,''' '''  "
   ]
  },
  {
   "cell_type": "code",
   "execution_count": 76,
   "metadata": {},
   "outputs": [
    {
     "name": "stdout",
     "output_type": "stream",
     "text": [
      "\n",
      "PIAIC Student Card\n",
      "Student Name:\n",
      "Father's Name:\n",
      "Age:\n",
      "Education:\n",
      "\n",
      "\n"
     ]
    }
   ],
   "source": [
    "card : str= \"\"\"\n",
    "PIAIC Student Card\n",
    "Student Name:\n",
    "Father's Name:\n",
    "Age:\n",
    "Education:\n",
    "\n",
    "\"\"\"\n",
    "\n",
    "print(card)\n"
   ]
  },
  {
   "cell_type": "markdown",
   "metadata": {},
   "source": [
    "## F-string"
   ]
  },
  {
   "cell_type": "code",
   "execution_count": 77,
   "metadata": {},
   "outputs": [
    {
     "name": "stdout",
     "output_type": "stream",
     "text": [
      "\n",
      "PIAIC Student Card\n",
      "Student Name: Abdullah Ghani\n",
      "Father's Name:Abdul Ghani\n",
      "Age:29\n",
      "Education:BSC Computer Enginering\n",
      "\n",
      "Total : 15\n",
      "\n"
     ]
    }
   ],
   "source": [
    "name:str = \"Abdullah Ghani\"\n",
    "father_name: str = \"Abdul Ghani\"\n",
    "education: str = \"BSC Computer Enginering\"\n",
    "age: int = 29\n",
    "\n",
    "card : str= f\"\"\"\n",
    "PIAIC Student Card\n",
    "Student Name: {name}\n",
    "Father's Name:{father_name}\n",
    "Age:{age}\n",
    "Education:{education}\n",
    "\n",
    "Total : {2+3+4+2+4}\n",
    "\"\"\"\n",
    "print(card)\n"
   ]
  },
  {
   "cell_type": "markdown",
   "metadata": {},
   "source": [
    "## f-string and Jinja String"
   ]
  },
  {
   "cell_type": "code",
   "execution_count": 78,
   "metadata": {},
   "outputs": [
    {
     "name": "stdout",
     "output_type": "stream",
     "text": [
      "\n",
      "Student name Abdullah Ghani\n",
      "\n",
      "\n",
      "student name: {{name}}\n",
      "\n"
     ]
    }
   ],
   "source": [
    "# f_string\n",
    "print(f\"\"\"\n",
    "Student name {name}\n",
    "\"\"\")\n",
    "# jinja style\n",
    "print(\n",
    "\"\"\"\n",
    "student name: {{name}}\n",
    "\"\"\")\n"
   ]
  },
  {
   "cell_type": "markdown",
   "metadata": {},
   "source": [
    "### Placeholder"
   ]
  },
  {
   "cell_type": "code",
   "execution_count": 79,
   "metadata": {},
   "outputs": [
    {
     "name": "stdout",
     "output_type": "stream",
     "text": [
      "\n",
      "PIAIC Student Card\n",
      "Student Name: {name}\n",
      "Father's Name:{fatherName}\n",
      "Age: {age}\n",
      "Total : {2+3+4+2+4}\n",
      "\n"
     ]
    }
   ],
   "source": [
    "card : str= f\"\"\"\n",
    "PIAIC Student Card\n",
    "Student Name: {{name}}\n",
    "Father's Name:{{fatherName}}\n",
    "Age: {{age}}\n",
    "Total : {{2+3+4+2+4}}\n",
    "\"\"\"\n",
    "print(card)\n"
   ]
  },
  {
   "cell_type": "markdown",
   "metadata": {},
   "source": [
    "### string formatting % operator, which utilizes format specifiers"
   ]
  },
  {
   "cell_type": "code",
   "execution_count": 80,
   "metadata": {},
   "outputs": [
    {
     "name": "stdout",
     "output_type": "stream",
     "text": [
      "\n",
      "PIAIC Student Card\n",
      "Student Name: Abdullah Ghani\n",
      "Father's Name: Abdul Ghani\n",
      "Age: 29\n",
      "Education: BSC Computer Enginering\n",
      "\n",
      "=============================\n",
      "Student Name:    Abdullah Ghani\n",
      "Student Age:    29\n",
      "Student GPA:    3.598909\n",
      "Student GPA:    3.60\n",
      "Lowercase hex: 41, Uppercase hex: 41\n",
      "octal: 101\n",
      "Discount: 40%\n",
      "Value: [1, 2, 3]\n",
      "Character: A\n",
      "Scientific notation: 1.234568e+08 / 1.234568E+08\n"
     ]
    }
   ],
   "source": [
    "card : str= \"\"\"\n",
    "PIAIC Student Card\n",
    "Student Name: %s\n",
    "Father's Name: %s\n",
    "Age: %d\n",
    "Education: %s\n",
    "\"\"\"%(name,father_name,age,education)\n",
    "print(card)\n",
    "print(\"=============================\")\n",
    "\n",
    "# %s - string\n",
    "print(\"Student Name:    %s\"%name)\n",
    "\n",
    "# %d - Decimal Integer:\n",
    "print(\"Student Age:    %s\"%age)\n",
    "\n",
    "# %f - Floating point number:\n",
    "gpa : float = 3.59890898;\n",
    "print(\"Student GPA:    %f\"%gpa)\n",
    "\n",
    "# %.<number>f - Floating point number with fixed precision:\n",
    "print(\"Student GPA:    %.2f\"%gpa)\n",
    "\n",
    "# %x/%X - Integer in hexadecimal (lowercase/uppercase):\n",
    "number = 65\n",
    "print(\"Lowercase hex: %x, Uppercase hex: %X\" % (number, number))\n",
    "\n",
    "# %o - Integer in octal:\n",
    "print(\"octal: %o\" % (number))\n",
    "\n",
    "# %% - Literal '%' character:\n",
    "discount:int = 40\n",
    "print(\"Discount: %d%%\" % discount)  # Output: Discount: 10%\n",
    "\n",
    "# %r - String (using repr), useful for debugging:\n",
    "value = [1, 2, 3]\n",
    "print(\"Value: %r\" % value)\n",
    "\n",
    "# %c - Character (from integer or single character string):\n",
    "char = 65\n",
    "print(\"Character: %c\" % char)  # Output: Character: A\n",
    "\n",
    "# %e/%E - Scientific notation:\n",
    "number = 123456789\n",
    "print(\"Scientific notation: %e / %E\" % (number, number))"
   ]
  },
  {
   "cell_type": "markdown",
   "metadata": {},
   "source": [
    "# Placeholder for Methods"
   ]
  },
  {
   "cell_type": "code",
   "execution_count": 101,
   "metadata": {},
   "outputs": [
    {
     "data": {
      "text/plain": [
       "'Pakistan value a is KARACHI and b is 20'"
      ]
     },
     "execution_count": 101,
     "metadata": {},
     "output_type": "execute_result"
    }
   ],
   "source": [
    "a= \"karachi\"\n",
    "b= 20\n",
    "\"Pakistan value a is {} and b is {}\".format(a.upper(),b)"
   ]
  },
  {
   "cell_type": "code",
   "execution_count": 84,
   "metadata": {},
   "outputs": [
    {
     "name": "stdout",
     "output_type": "stream",
     "text": [
      "\n",
      "PIAIC Student Card\n",
      "Student Name: ABdUlLah gHaNi\n",
      "Father's Name: Abdul Ghani\n",
      "Age: 29\n",
      "\n"
     ]
    }
   ],
   "source": [
    "card : str= \"\"\"\n",
    "PIAIC Student Card\n",
    "Student Name: {2}\n",
    "Father's Name: {0}\n",
    "Age: {1}\n",
    "\"\"\".format(father_name,age,name)\n",
    "#index:     0           1   2\n",
    "print(card)\n"
   ]
  },
  {
   "cell_type": "code",
   "execution_count": 102,
   "metadata": {},
   "outputs": [
    {
     "name": "stdout",
     "output_type": "stream",
     "text": [
      "\n",
      "PIAIC Student Card\n",
      "Student Name: Abdullah Ghani\n",
      "Father's Name: Abdul Ghani\n",
      "Age: 29\n",
      "Education:BSC Computer Enginering\n",
      "\n"
     ]
    }
   ],
   "source": [
    "card : str= \"\"\"\n",
    "PIAIC Student Card\n",
    "Student Name: {a}\n",
    "Father's Name: {b}\n",
    "Age: {c}\n",
    "Education:{d}\n",
    "\"\"\".format(a=name,b=father_name,c=age,d=education)\n",
    "print(card)\n"
   ]
  },
  {
   "cell_type": "markdown",
   "metadata": {},
   "source": [
    "## List comprihensive"
   ]
  },
  {
   "cell_type": "code",
   "execution_count": 81,
   "metadata": {},
   "outputs": [
    {
     "data": {
      "text/plain": [
       "['__add__',\n",
       " '__class__',\n",
       " '__contains__',\n",
       " '__delattr__',\n",
       " '__dir__',\n",
       " '__doc__',\n",
       " '__eq__',\n",
       " '__format__',\n",
       " '__ge__',\n",
       " '__getattribute__',\n",
       " '__getitem__',\n",
       " '__getnewargs__',\n",
       " '__getstate__',\n",
       " '__gt__',\n",
       " '__hash__',\n",
       " '__init__',\n",
       " '__init_subclass__',\n",
       " '__iter__',\n",
       " '__le__',\n",
       " '__len__',\n",
       " '__lt__',\n",
       " '__mod__',\n",
       " '__mul__',\n",
       " '__ne__',\n",
       " '__new__',\n",
       " '__reduce__',\n",
       " '__reduce_ex__',\n",
       " '__repr__',\n",
       " '__rmod__',\n",
       " '__rmul__',\n",
       " '__setattr__',\n",
       " '__sizeof__',\n",
       " '__str__',\n",
       " '__subclasshook__',\n",
       " 'capitalize',\n",
       " 'casefold',\n",
       " 'center',\n",
       " 'count',\n",
       " 'encode',\n",
       " 'endswith',\n",
       " 'expandtabs',\n",
       " 'find',\n",
       " 'format',\n",
       " 'format_map',\n",
       " 'index',\n",
       " 'isalnum',\n",
       " 'isalpha',\n",
       " 'isascii',\n",
       " 'isdecimal',\n",
       " 'isdigit',\n",
       " 'isidentifier',\n",
       " 'islower',\n",
       " 'isnumeric',\n",
       " 'isprintable',\n",
       " 'isspace',\n",
       " 'istitle',\n",
       " 'isupper',\n",
       " 'join',\n",
       " 'ljust',\n",
       " 'lower',\n",
       " 'lstrip',\n",
       " 'maketrans',\n",
       " 'partition',\n",
       " 'removeprefix',\n",
       " 'removesuffix',\n",
       " 'replace',\n",
       " 'rfind',\n",
       " 'rindex',\n",
       " 'rjust',\n",
       " 'rpartition',\n",
       " 'rsplit',\n",
       " 'rstrip',\n",
       " 'split',\n",
       " 'splitlines',\n",
       " 'startswith',\n",
       " 'strip',\n",
       " 'swapcase',\n",
       " 'title',\n",
       " 'translate',\n",
       " 'upper',\n",
       " 'zfill']"
      ]
     },
     "execution_count": 81,
     "metadata": {},
     "output_type": "execute_result"
    }
   ],
   "source": [
    "dir(str)"
   ]
  },
  {
   "cell_type": "code",
   "execution_count": 105,
   "metadata": {},
   "outputs": [
    {
     "name": "stdout",
     "output_type": "stream",
     "text": [
      "['capitalize', 'casefold', 'center', 'count', 'encode', 'endswith', 'expandtabs', 'find', 'format', 'format_map', 'index', 'isalnum', 'isalpha', 'isascii', 'isdecimal', 'isdigit', 'isidentifier', 'islower', 'isnumeric', 'isprintable', 'isspace', 'istitle', 'isupper', 'join', 'ljust', 'lower', 'lstrip', 'maketrans', 'partition', 'removeprefix', 'removesuffix', 'replace', 'rfind', 'rindex', 'rjust', 'rpartition', 'rsplit', 'rstrip', 'split', 'splitlines', 'startswith', 'strip', 'swapcase', 'title', 'translate', 'upper', 'zfill']\n"
     ]
    }
   ],
   "source": [
    "a:list[str]=[i for i in dir(str) if \"__\" not in i]\n",
    "print(a)"
   ]
  },
  {
   "cell_type": "code",
   "execution_count": 106,
   "metadata": {},
   "outputs": [
    {
     "data": {
      "text/plain": [
       "47"
      ]
     },
     "execution_count": 106,
     "metadata": {},
     "output_type": "execute_result"
    }
   ],
   "source": [
    "len(a)"
   ]
  },
  {
   "cell_type": "markdown",
   "metadata": {},
   "source": [
    "# String Methods\n",
    "pre-define global function we havew used\n",
    "- print\n",
    "- type\n",
    "- id\n",
    "- dir\n",
    "- len"
   ]
  },
  {
   "cell_type": "code",
   "execution_count": 109,
   "metadata": {},
   "outputs": [
    {
     "name": "stdout",
     "output_type": "stream",
     "text": [
      "\n",
      "    capitalize:   Abdullah ghani\n",
      "    title: Abdullah Ghani\n",
      "    casefold: abdullah ghani\n",
      "    lower: abdullah ghani\n",
      "    upper: ABDULLAH GHANI\n",
      "    swapcase: abDuLlAH GhAnI\n",
      "\n",
      "    \n"
     ]
    }
   ],
   "source": [
    "name:str = \"ABdUlLah gHaNi\"\n",
    "print(\n",
    "    f\"\"\"\n",
    "    capitalize:   {name.capitalize()}\n",
    "    title: {name.title()}\n",
    "    casefold: {name.casefold()}\n",
    "    lower: {name.lower()}\n",
    "    upper: {name.upper()}\n",
    "    swapcase: {name.swapcase()}\n",
    "\n",
    "    \"\"\")\n",
    "\n",
    "\n",
    "\n"
   ]
  },
  {
   "cell_type": "code",
   "execution_count": 86,
   "metadata": {},
   "outputs": [
    {
     "name": "stdout",
     "output_type": "stream",
     "text": [
      "ABDULLAH GHANI\n",
      "abdullah ghani\n"
     ]
    }
   ],
   "source": [
    "name = \"Abdullah Ghani\"\n",
    "print(name.upper())\n",
    "print(name.lower())"
   ]
  },
  {
   "cell_type": "code",
   "execution_count": 87,
   "metadata": {},
   "outputs": [
    {
     "name": "stdout",
     "output_type": "stream",
     "text": [
      "Abdullah Ghani\n",
      "Python\n"
     ]
    }
   ],
   "source": [
    "f_name = \"Abdullah\"\n",
    "l_name = \"Ghani\"\n",
    "full_name = f\"{f_name} {l_name}\"\n",
    "print(full_name.title())\n",
    "print(\n",
    "    \"Python\"\n",
    ")\n"
   ]
  },
  {
   "cell_type": "code",
   "execution_count": 122,
   "metadata": {},
   "outputs": [
    {
     "data": {
      "text/plain": [
       "'Name:        Abdullah Ghani      '"
      ]
     },
     "metadata": {},
     "output_type": "display_data"
    },
    {
     "data": {
      "text/plain": [
       "'Abdullah Ghani      '"
      ]
     },
     "metadata": {},
     "output_type": "display_data"
    },
    {
     "data": {
      "text/plain": [
       "'       Abdullah Ghani'"
      ]
     },
     "metadata": {},
     "output_type": "display_data"
    },
    {
     "data": {
      "text/plain": [
       "'Abdullah Ghani'"
      ]
     },
     "metadata": {},
     "output_type": "display_data"
    }
   ],
   "source": [
    "name: str = '       Abdullah Ghani      '\n",
    "display(f\"Name: {name}\")\n",
    "#variable.lstrip() remove space from left side\n",
    "display(f\"{name.lstrip()}\")\n",
    "#variable.rstrip() remove space from right side\n",
    "display(f\"{name.rstrip()}\")\n",
    "#variable.strip() remove space from both side\n",
    "display(name.strip())\n"
   ]
  },
  {
   "cell_type": "markdown",
   "metadata": {},
   "source": [
    "## Escape characters\n"
   ]
  },
  {
   "cell_type": "code",
   "execution_count": 115,
   "metadata": {},
   "outputs": [
    {
     "name": "stdout",
     "output_type": "stream",
     "text": [
      "Name:\tAbdullah\tGhani\n",
      "Name:\n",
      "Abdullah\n",
      "Ghani\n",
      "Name Abdullah\tGhani\n",
      "Abdullah Ghani\n",
      "Name:\fAbdullah Ghani\n"
     ]
    }
   ],
   "source": [
    "# /n new line\n",
    "# /t tab\n",
    "# /b backspace\n",
    "# /r carriage return\n",
    "# /f form feed\n",
    "# /ooo octal value\n",
    "# /xhh hex value\n",
    "# /uxxxx unicode value\n",
    "\n",
    "\n",
    "print(\"Name:\\tAbdullah\\tGhani\")\n",
    "print(\"Name:\\nAbdullah\\nGhani\")\n",
    "print(\"Name :\\bAbdullah\\tGhani\")\n",
    "print(\"Name:\\rAbdullah Ghani\")\n",
    "print(\"Name:\\fAbdullah Ghani\")\n"
   ]
  },
  {
   "cell_type": "code",
   "execution_count": 123,
   "metadata": {},
   "outputs": [
    {
     "name": "stdout",
     "output_type": "stream",
     "text": [
      "This is the exec\n",
      "81\n"
     ]
    }
   ],
   "source": [
    "card : str= \"\"\"\n",
    "print(\"This is the exec\")\n",
    "a:int=3\n",
    "b:int= 4\n",
    "print(a**b)\n",
    "\"\"\"\n",
    "exec(card)\n"
   ]
  },
  {
   "cell_type": "markdown",
   "metadata": {},
   "source": [
    "# Regix\n",
    "Regular Expression"
   ]
  },
  {
   "cell_type": "code",
   "execution_count": 129,
   "metadata": {},
   "outputs": [
    {
     "data": {
      "text/plain": [
       "'        Abdullah    Ghani       '"
      ]
     },
     "metadata": {},
     "output_type": "display_data"
    },
    {
     "data": {
      "text/plain": [
       "'Abdullah Ghani'"
      ]
     },
     "metadata": {},
     "output_type": "display_data"
    }
   ],
   "source": [
    "import re\n",
    "name: str =\"        Abdullah    Ghani       \"\n",
    "display(name)\n",
    "formatName:str= re.sub(' {2,100}',' ',name).strip()\n",
    "display(formatName)"
   ]
  },
  {
   "cell_type": "code",
   "execution_count": 96,
   "metadata": {},
   "outputs": [
    {
     "data": {
      "text/plain": [
       "['21:37:13 Prom Engr M Khubaib To Everyone:\\nPIAIC202714']"
      ]
     },
     "execution_count": 96,
     "metadata": {},
     "output_type": "execute_result"
    }
   ],
   "source": [
    "import re\n",
    "pattern =\"\"\"21:37:13 Prom Engr M Khubaib To Everyone:\n",
    "PIAIC202714\"\"\"\n",
    "rows:list[str] = re.findall(pattern,chat)\n",
    "rows\n"
   ]
  },
  {
   "cell_type": "code",
   "execution_count": 93,
   "metadata": {},
   "outputs": [],
   "source": [
    "nostarch_url: str = \"https://nostarch.com,https://google.com\"\n"
   ]
  },
  {
   "cell_type": "code",
   "execution_count": 94,
   "metadata": {},
   "outputs": [
    {
     "data": {
      "text/plain": [
       "'nostarch.com,https://google.com'"
      ]
     },
     "execution_count": 94,
     "metadata": {},
     "output_type": "execute_result"
    }
   ],
   "source": [
    "nostarch_url.removeprefix('https://')\n"
   ]
  },
  {
   "cell_type": "code",
   "execution_count": 95,
   "metadata": {},
   "outputs": [],
   "source": [
    "chat =\"\"\"\n",
    "21:36:31 From Muhammad shahbaz To Everyone:\n",
    "PIAIC 207920\n",
    "21:36:3* Prom Ammar To Everyone:\n",
    "PIAIC-105491\n",
    "21:36:32 From arijraees To Everyone:\n",
    "PIAIC 186180\n",
    "21:36:34 Prom Abiha Fatima To Everyone:\n",
    "PIAIC185515\n",
    "21:36:35 From Danish To Everyone:\n",
    "PIAIC*160897*\n",
    "21:36:35 From Sohaib To Everyone:\n",
    "PIAIC99662\n",
    "21:36:39 From Muhammad Tariq Baig To Everyone:\n",
    "PIAIC 70721\n",
    "21:36:41 From Muhammad Hashim To Everyone:\n",
    "PIAIC83847\n",
    "21:36:48 From Sharmeen Fatima To Everyone:\n",
    "PIAIC185494\n",
    "21:36:48 From arijraees To Everyone:\n",
    "PIAIC-186180\n",
    "21:36:58 From Muhammad Awais To Everyone:\n",
    "PIAIC!105507\n",
    "21:37:07 From Ammar To Everyone:\n",
    "piaic#104900\n",
    "21:37:13 Prom Engr M Khubaib To Everyone:\n",
    "PIAIC202714\n",
    "\"\"\"\n"
   ]
  },
  {
   "cell_type": "code",
   "execution_count": 98,
   "metadata": {},
   "outputs": [
    {
     "name": "stdout",
     "output_type": "stream",
     "text": [
      "[]\n"
     ]
    }
   ],
   "source": [
    "import re\n",
    "pattern = r\"(\\d{2}:\\d{2}:\\d{2}) From (Engr M Khubaib) To Everyone:\\n(PIAIC202714)\"\n",
    "rows: list[str] = re.findall(pattern, chat)\n",
    "print(rows)\n"
   ]
  }
 ],
 "metadata": {
  "kernelspec": {
   "display_name": "Python 3 (ipykernel)",
   "language": "python",
   "name": "python3"
  },
  "language_info": {
   "codemirror_mode": {
    "name": "ipython",
    "version": 3
   },
   "file_extension": ".py",
   "mimetype": "text/x-python",
   "name": "python",
   "nbconvert_exporter": "python",
   "pygments_lexer": "ipython3",
   "version": "3.12.0"
  }
 },
 "nbformat": 4,
 "nbformat_minor": 2
}
