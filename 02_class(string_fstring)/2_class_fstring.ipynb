{
 "cells": [
  {
   "cell_type": "markdown",
   "metadata": {},
   "source": [
    "### String Data Type in python"
   ]
  },
  {
   "cell_type": "code",
   "execution_count": 4,
   "metadata": {},
   "outputs": [
    {
     "name": "stdout",
     "output_type": "stream",
     "text": [
      "<class 'str'>\n",
      "double quotes string: \" \"  Abdullah Ghani\n",
      "<class 'str'>\n",
      "single quotes: ' '  Abdullah Ghani\n",
      "<class 'str'>\n",
      "triple quotes: ''' '''  Abdullah Ghani\n"
     ]
    }
   ],
   "source": [
    "# boundaries\n",
    "# \"string text\", 'string text' , ''' stringm text ''', \"\"\" string text  \"\"\"\n",
    "\n",
    "# double quotes string\n",
    "name : str ='Abdullah Ghani'\n",
    "print(type(name))\n",
    "print('double quotes string: \" \" ',name)\n",
    "\n",
    "# single quotes string\n",
    "name : str ='Abdullah Ghani'\n",
    "print(type(name))\n",
    "print(\"single quotes: ' ' \",name)\n",
    "\n",
    "# triple quotes string\n",
    "name : str ='''Abdullah Ghani'''\n",
    "print(type(name))\n",
    "print(\"triple quotes: ''' ''' \",name)\n"
   ]
  },
  {
   "cell_type": "code",
   "execution_count": 3,
   "metadata": {},
   "outputs": [],
   "source": [
    "message: str = \"PIAIC Student Card\\n Father's Name\"\n",
    "#  if we need both single quote ' and double quote  \" in a string we will use tripple quote    ``` message``` or \"\"\" message \"\"\"\n",
    "message: str = \"\"\" PIAIC special meaning quote's \"\"\"\n"
   ]
  },
  {
   "cell_type": "markdown",
   "metadata": {},
   "source": [
    "## Concatination"
   ]
  },
  {
   "cell_type": "code",
   "execution_count": 5,
   "metadata": {},
   "outputs": [
    {
     "data": {
      "text/plain": [
       "'abc'"
      ]
     },
     "execution_count": 5,
     "metadata": {},
     "output_type": "execute_result"
    }
   ],
   "source": [
    "# stings value concatination\n",
    "'a' + 'b' + 'c'\n"
   ]
  },
  {
   "cell_type": "code",
   "execution_count": 6,
   "metadata": {},
   "outputs": [
    {
     "ename": "TypeError",
     "evalue": "can only concatenate str (not \"int\") to str",
     "output_type": "error",
     "traceback": [
      "\u001b[0;31m---------------------------------------------------------------------------\u001b[0m",
      "\u001b[0;31mTypeError\u001b[0m                                 Traceback (most recent call last)",
      "\u001b[1;32m/Users/abdullahghani/Work/practice/python/panacloudDao/python/2_class_string.ipynb Cell 7\u001b[0m line \u001b[0;36m2\n\u001b[1;32m      <a href='vscode-notebook-cell:/Users/abdullahghani/Work/practice/python/panacloudDao/python/2_class_string.ipynb#W6sZmlsZQ%3D%3D?line=0'>1</a>\u001b[0m \u001b[39m#  it will give error only string concatinate with strings\u001b[39;00m\n\u001b[0;32m----> <a href='vscode-notebook-cell:/Users/abdullahghani/Work/practice/python/panacloudDao/python/2_class_string.ipynb#W6sZmlsZQ%3D%3D?line=1'>2</a>\u001b[0m \u001b[39m'\u001b[39;49m\u001b[39ma\u001b[39;49m\u001b[39m'\u001b[39;49m \u001b[39m+\u001b[39;49m\u001b[39m9\u001b[39;49m\n",
      "\u001b[0;31mTypeError\u001b[0m: can only concatenate str (not \"int\") to str"
     ]
    }
   ],
   "source": [
    "#  it will give error only string concatinate with strings\n",
    "'a' +9\n"
   ]
  },
  {
   "cell_type": "code",
   "execution_count": 7,
   "metadata": {},
   "outputs": [
    {
     "data": {
      "text/plain": [
       "'a9'"
      ]
     },
     "execution_count": 7,
     "metadata": {},
     "output_type": "execute_result"
    }
   ],
   "source": [
    "# we have to make int 9 into string\n",
    "'a' +'9'\n",
    "'a' + str(9)\n"
   ]
  },
  {
   "cell_type": "code",
   "execution_count": 9,
   "metadata": {},
   "outputs": [
    {
     "name": "stdout",
     "output_type": "stream",
     "text": [
      "PIAIC Student Card\n",
      "Student Name:\tAbdullah Ghani\n",
      "age:\t29\n",
      "Father name:\tAbdul Ghani\n",
      "Education:\tBSC Computer Enginering\n"
     ]
    }
   ],
   "source": [
    "father_name: str = \"Abdul Ghani\"\n",
    "education: str = \"BSC Computer Enginering\"\n",
    "age: int = 29\n",
    "\n",
    "card :str = \"PIAIC Student Card\\nStudent Name:\\t\" + name + \"\\nage:\\t\"+ str(age) +\"\\nFather name:\\t\"+father_name+\"\\nEducation:\\t\"+education\n",
    "\n",
    "print(card)\n"
   ]
  },
  {
   "cell_type": "markdown",
   "metadata": {},
   "source": [
    "#### \"\\\\\" Line Continue"
   ]
  },
  {
   "cell_type": "code",
   "execution_count": 31,
   "metadata": {},
   "outputs": [
    {
     "name": "stdout",
     "output_type": "stream",
     "text": [
      "30\n"
     ]
    }
   ],
   "source": [
    "print(5 +\\\n",
    "      10 +\\\n",
    "    15)"
   ]
  },
  {
   "cell_type": "code",
   "execution_count": null,
   "metadata": {},
   "outputs": [],
   "source": [
    "father_name: str = \"Abdul Ghani\"\n",
    "education: str = \"BSC Computer Enginering\"\n",
    "age: int = 29\n",
    "\n",
    "card :str = \"PIAIC Student Card\\nStudent Name:\\t\" + name + \"\\nage:\\t\"+ str(age) +\"\\nFather name:\\t\"+father_name+\"\\nEducation:\\t\"+education\n",
    "\n",
    "print(card)\n"
   ]
  },
  {
   "cell_type": "code",
   "execution_count": null,
   "metadata": {},
   "outputs": [],
   "source": []
  },
  {
   "cell_type": "markdown",
   "metadata": {},
   "source": [
    "#### Define multiline String \"\"\"  \"\"\" ,''' '''  "
   ]
  },
  {
   "cell_type": "code",
   "execution_count": 35,
   "metadata": {},
   "outputs": [
    {
     "name": "stdout",
     "output_type": "stream",
     "text": [
      "\n",
      "PIAIC Student Card\n",
      "Student Name:\n",
      "Father's Name:\n",
      "Age:\n",
      "Education:\n",
      "\n",
      "\n"
     ]
    }
   ],
   "source": [
    "card : str= \"\"\"\n",
    "PIAIC Student Card\n",
    "Student Name:\n",
    "Father's Name:\n",
    "Age:\n",
    "Education:\n",
    "\n",
    "\"\"\"\n",
    "\n",
    "print(card)\n"
   ]
  },
  {
   "cell_type": "markdown",
   "metadata": {},
   "source": [
    "## F-string"
   ]
  },
  {
   "cell_type": "code",
   "execution_count": 36,
   "metadata": {},
   "outputs": [
    {
     "name": "stdout",
     "output_type": "stream",
     "text": [
      "\n",
      "PIAIC Student Card\n",
      "Student Name: Abdullah Ghani\n",
      "Father's Name:Abdul Ghani\n",
      "Age:29\n",
      "Education:BSC Computer Enginering\n",
      "\n",
      "Total : 15\n",
      "\n"
     ]
    }
   ],
   "source": [
    "name:str = \"Abdullah Ghani\"\n",
    "father_name: str = \"Abdul Ghani\"\n",
    "education: str = \"BSC Computer Enginering\"\n",
    "age: int = 29\n",
    "\n",
    "card : str= f\"\"\"\n",
    "PIAIC Student Card\n",
    "Student Name: {name}\n",
    "Father's Name:{father_name}\n",
    "Age:{age}\n",
    "Education:{education}\n",
    "\n",
    "Total : {2+3+4+2+4}\n",
    "\"\"\"\n",
    "print(card)\n"
   ]
  },
  {
   "cell_type": "markdown",
   "metadata": {},
   "source": [
    "## f-string and Jinja String"
   ]
  },
  {
   "cell_type": "code",
   "execution_count": 44,
   "metadata": {},
   "outputs": [
    {
     "name": "stdout",
     "output_type": "stream",
     "text": [
      "\n",
      "Student name Abdullah Ghani\n",
      "\n",
      "\n",
      "student name: {{name}}\n",
      "\n"
     ]
    }
   ],
   "source": [
    "# f_string\n",
    "print(f\"\"\"\n",
    "Student name {name}\n",
    "\"\"\")\n",
    "# jinja style\n",
    "print(\n",
    "\"\"\"\n",
    "student name: {{name}}\n",
    "\"\"\")\n"
   ]
  },
  {
   "cell_type": "code",
   "execution_count": 37,
   "metadata": {},
   "outputs": [
    {
     "name": "stdout",
     "output_type": "stream",
     "text": [
      "\n",
      "PIAIC Student Card\n",
      "Student Name: {name}\n",
      "Father's Name:{fatherName}\n",
      "Age: {age}\n",
      "Total : {2+3+4+2+4}\n",
      "\n"
     ]
    }
   ],
   "source": [
    "card : str= f\"\"\"\n",
    "PIAIC Student Card\n",
    "Student Name: {{name}}\n",
    "Father's Name:{{fatherName}}\n",
    "Age: {{age}}\n",
    "Total : {{2+3+4+2+4}}\n",
    "\"\"\"\n",
    "print(card)\n"
   ]
  },
  {
   "cell_type": "markdown",
   "metadata": {},
   "source": [
    "### string formatting % operator, which utilizes format specifiers\n",
    "- placeholder"
   ]
  },
  {
   "cell_type": "code",
   "execution_count": 51,
   "metadata": {},
   "outputs": [
    {
     "name": "stdout",
     "output_type": "stream",
     "text": [
      "\n",
      "PIAIC Student Card\n",
      "Student Name: Abdullah Ghani\n",
      "Father's Name: Abdul Ghani\n",
      "Age: 29\n",
      "Education: BSC Computer Enginering\n",
      "\n",
      "=============================\n",
      "Student Name:    Abdullah Ghani\n",
      "Student Age:    29\n",
      "Student GPA:    3.598909\n",
      "Student GPA:    3.60\n"
     ]
    }
   ],
   "source": [
    "card : str= \"\"\"\n",
    "PIAIC Student Card\n",
    "Student Name: %s\n",
    "Father's Name: %s\n",
    "Age: %d\n",
    "Education: %s\n",
    "\"\"\"%(name,father_name,age,education)\n",
    "print(card)\n",
    "print(\"=============================\")\n",
    "\n",
    "# %s - string\n",
    "print(\"Student Name:    %s\"%name)\n",
    "\n",
    "# %d - Decimal Integer:\n",
    "print(\"Student Age:    %s\"%age)\n",
    "\n",
    "# %f - Floating point number:\n",
    "gpa : float = 3.59890898;\n",
    "print(\"Student GPA:    %f\"%gpa)\n",
    "\n",
    "# %.<number>f - Floating point number with fixed precision:\n",
    "print(\"Student GPA:    %.2f\"%gpa)\n",
    "\n",
    "# %x/%X - Integer in hexadecimal (lowercase/uppercase):\n",
    "# %o - Integer in octal:\n",
    "# %% - Literal '%' character:\n",
    "\n",
    "# %r - String (using repr), useful for debugging:\n",
    "\n",
    "\n",
    "# %c - Character (from integer or single character string):\n",
    "\n",
    "# %e/%E - Scientific notation:\n",
    "\n",
    "# %g/%G - Floating point format. Uses lowercase/uppercase exponential format if exponent is less than -4 or not less than precision, decimal format otherwise:\n",
    "\n",
    "# %p - Used for pointers (addresses), mostly relevant in C extensions, not typically used in standard Python code.\n",
    "# (width)d - Integer with a minimum width, padded with spaces:\n",
    "# - (width)d - Left-aligned integer with a minimum width:\n",
    "# (width).(precision)f - Floating-point number with fixed width and precision:\n",
    "# (width)s - String with minimum width, right-aligned by default:\n",
    "# +d - Signed decimal integer, force sign for positive numbers:\n",
    "# 0(width)d - Zero-padded integer with minimum width:\n",
    "# #x/#X - Prefixed hexadecimal format with '0x' or '0X':\n",
    "# #o - Prefixed octal format with '0':\n",
    "# %u - Obsolete placeholder for unsigned decimal integer:\n",
    "\n"
   ]
  },
  {
   "cell_type": "code",
   "execution_count": 14,
   "metadata": {},
   "outputs": [
    {
     "data": {
      "text/plain": [
       "['capitalize',\n",
       " 'casefold',\n",
       " 'center',\n",
       " 'count',\n",
       " 'encode',\n",
       " 'endswith',\n",
       " 'expandtabs',\n",
       " 'find',\n",
       " 'format',\n",
       " 'format_map',\n",
       " 'index',\n",
       " 'isalnum',\n",
       " 'isalpha',\n",
       " 'isascii',\n",
       " 'isdecimal',\n",
       " 'isdigit',\n",
       " 'isidentifier',\n",
       " 'islower',\n",
       " 'isnumeric',\n",
       " 'isprintable',\n",
       " 'isspace',\n",
       " 'istitle',\n",
       " 'isupper',\n",
       " 'join',\n",
       " 'ljust',\n",
       " 'lower',\n",
       " 'lstrip',\n",
       " 'maketrans',\n",
       " 'partition',\n",
       " 'removeprefix',\n",
       " 'removesuffix',\n",
       " 'replace',\n",
       " 'rfind',\n",
       " 'rindex',\n",
       " 'rjust',\n",
       " 'rpartition',\n",
       " 'rsplit',\n",
       " 'rstrip',\n",
       " 'split',\n",
       " 'splitlines',\n",
       " 'startswith',\n",
       " 'strip',\n",
       " 'swapcase',\n",
       " 'title',\n",
       " 'translate',\n",
       " 'upper',\n",
       " 'zfill']"
      ]
     },
     "execution_count": 14,
     "metadata": {},
     "output_type": "execute_result"
    }
   ],
   "source": [
    "[i for i in dir(str) if \"__\" not in i]\n"
   ]
  },
  {
   "cell_type": "code",
   "execution_count": 15,
   "metadata": {},
   "outputs": [
    {
     "name": "stdout",
     "output_type": "stream",
     "text": [
      "Abdullah ghani \n",
      " Abdullah Ghani\n"
     ]
    }
   ],
   "source": [
    "name:str = \"ABdUlLah gHaNi\"\n",
    "print(name.capitalize(),\"\\n\",name.title())\n",
    "\n"
   ]
  },
  {
   "cell_type": "code",
   "execution_count": 16,
   "metadata": {},
   "outputs": [
    {
     "name": "stdout",
     "output_type": "stream",
     "text": [
      "\n",
      "PIAIC Student Card\n",
      "Student Name: ABdUlLah gHaNi\n",
      "Father's Name: Hafiz Abdul Ghani Bari\n",
      "Age: 30\n",
      "\n"
     ]
    }
   ],
   "source": [
    "card : str= \"\"\"\n",
    "PIAIC Student Card\n",
    "Student Name: {2}\n",
    "Father's Name: {0}\n",
    "Age: {1}\n",
    "\"\"\".format(fatherName,age,name)\n",
    "print(card)\n"
   ]
  },
  {
   "cell_type": "code",
   "execution_count": 17,
   "metadata": {},
   "outputs": [
    {
     "name": "stdout",
     "output_type": "stream",
     "text": [
      "This is the exec\n",
      "81\n"
     ]
    }
   ],
   "source": [
    "card : str= \"\"\"\n",
    "print(\"This is the exec\")\n",
    "a:int=3\n",
    "b:int= 4\n",
    "print(a**b)\n",
    "\"\"\"\n",
    "exec(card)\n"
   ]
  },
  {
   "cell_type": "code",
   "execution_count": 18,
   "metadata": {},
   "outputs": [
    {
     "name": "stdout",
     "output_type": "stream",
     "text": [
      "ABDULLAH GHANI\n",
      "abdullah ghani\n"
     ]
    }
   ],
   "source": [
    "name = \"Abdullah Ghani\"\n",
    "print(name.upper())\n",
    "print(name.lower())\n",
    "\n"
   ]
  },
  {
   "cell_type": "code",
   "execution_count": 19,
   "metadata": {},
   "outputs": [
    {
     "name": "stdout",
     "output_type": "stream",
     "text": [
      "Abdullah Ghani\n",
      "Python\n"
     ]
    }
   ],
   "source": [
    "f_name = \"Abdullah\"\n",
    "l_name = \"Ghani\"\n",
    "full_name = f\"{f_name} {l_name}\"\n",
    "print(full_name.title())\n",
    "print(\n",
    "    \"Python\"\n",
    ")\n"
   ]
  },
  {
   "cell_type": "code",
   "execution_count": 20,
   "metadata": {},
   "outputs": [
    {
     "name": "stdout",
     "output_type": "stream",
     "text": [
      "Name:\tAbdullah\tGhani\n",
      "Name:\n",
      "Abdullah\n",
      "Ghani\n",
      "NameAbdullah\tGhani\n"
     ]
    }
   ],
   "source": [
    "# /n\n",
    "# /t\n",
    "# /b\n",
    "\n",
    "print(\"Name:\\tAbdullah\\tGhani\")\n",
    "print(\"Name:\\nAbdullah\\nGhani\")\n",
    "print(\"Name:\\bAbdullah\\tGhani\")\n"
   ]
  },
  {
   "cell_type": "code",
   "execution_count": 21,
   "metadata": {},
   "outputs": [],
   "source": [
    "best_Language = '   python  '\n"
   ]
  },
  {
   "cell_type": "code",
   "execution_count": 22,
   "metadata": {},
   "outputs": [
    {
     "data": {
      "text/plain": [
       "'   python'"
      ]
     },
     "execution_count": 22,
     "metadata": {},
     "output_type": "execute_result"
    }
   ],
   "source": [
    "best_Language.rstrip()\n"
   ]
  },
  {
   "cell_type": "code",
   "execution_count": 23,
   "metadata": {},
   "outputs": [
    {
     "data": {
      "text/plain": [
       "'python  '"
      ]
     },
     "execution_count": 23,
     "metadata": {},
     "output_type": "execute_result"
    }
   ],
   "source": [
    "best_Language.lstrip()\n"
   ]
  },
  {
   "cell_type": "code",
   "execution_count": 24,
   "metadata": {},
   "outputs": [
    {
     "data": {
      "text/plain": [
       "'python'"
      ]
     },
     "execution_count": 24,
     "metadata": {},
     "output_type": "execute_result"
    }
   ],
   "source": [
    "best_Language.strip()\n"
   ]
  },
  {
   "cell_type": "code",
   "execution_count": 25,
   "metadata": {},
   "outputs": [],
   "source": [
    "nostarch_url: str = \"https://nostarch.com,https://google.com\"\n"
   ]
  },
  {
   "cell_type": "code",
   "execution_count": 26,
   "metadata": {},
   "outputs": [
    {
     "data": {
      "text/plain": [
       "'nostarch.com,https://google.com'"
      ]
     },
     "execution_count": 26,
     "metadata": {},
     "output_type": "execute_result"
    }
   ],
   "source": [
    "nostarch_url.removeprefix('https://')\n"
   ]
  },
  {
   "cell_type": "code",
   "execution_count": 27,
   "metadata": {},
   "outputs": [],
   "source": [
    "chat =\"\"\"\n",
    "21:36:31 From Muhammad shahbaz To Everyone:\n",
    "PIAIC 207920\n",
    "21:36:3* Prom Ammar To Everyone:\n",
    "PIAIC-105491\n",
    "21:36:32 From arijraees To Everyone:\n",
    "PIAIC 186180\n",
    "21:36:34 Prom Abiha Fatima To Everyone:\n",
    "PIAIC185515\n",
    "21:36:35 From Danish To Everyone:\n",
    "PIAIC*160897*\n",
    "21:36:35 From Sohaib To Everyone:\n",
    "PIAIC99662\n",
    "21:36:39 From Muhammad Tariq Baig To Everyone:\n",
    "PIAIC 70721\n",
    "21:36:41 From Muhammad Hashim To Everyone:\n",
    "PIAIC83847\n",
    "21:36:48 From Sharmeen Fatima To Everyone:\n",
    "PIAIC185494\n",
    "21:36:48 From arijraees To Everyone:\n",
    "PIAIC-186180\n",
    "21:36:58 From Muhammad Awais To Everyone:\n",
    "PIAIC!105507\n",
    "21:37:07 From Ammar To Everyone:\n",
    "piaic#104900\n",
    "21:37:13 Prom Engr M Khubaib To Everyone:\n",
    "PIAIC202714\n",
    "\"\"\"\n"
   ]
  },
  {
   "cell_type": "code",
   "execution_count": 28,
   "metadata": {},
   "outputs": [
    {
     "data": {
      "text/plain": [
       "['21:37:13 Prom Engr M Khubaib To Everyone:\\nPIAIC202714']"
      ]
     },
     "execution_count": 28,
     "metadata": {},
     "output_type": "execute_result"
    }
   ],
   "source": [
    "import re\n",
    "pattern =\"\"\"21:37:13 Prom Engr M Khubaib To Everyone:\n",
    "PIAIC202714\"\"\"\n",
    "rows:list[str] = re.findall(pattern,chat)\n",
    "rows\n"
   ]
  },
  {
   "cell_type": "code",
   "execution_count": 29,
   "metadata": {},
   "outputs": [
    {
     "name": "stdout",
     "output_type": "stream",
     "text": [
      "[]\n"
     ]
    }
   ],
   "source": [
    "import re\n",
    "pattern = r\"(\\d{2}:\\d{2}:\\d{2}) From (Engr M Khubaib) To Everyone:\\n(PIAIC202714)\"\n",
    "rows: list[str] = re.findall(pattern, chat)\n",
    "print(rows)\n"
   ]
  },
  {
   "cell_type": "code",
   "execution_count": null,
   "metadata": {},
   "outputs": [],
   "source": []
  }
 ],
 "metadata": {
  "kernelspec": {
   "display_name": "Python 3 (ipykernel)",
   "language": "python",
   "name": "python3"
  },
  "language_info": {
   "codemirror_mode": {
    "name": "ipython",
    "version": 3
   },
   "file_extension": ".py",
   "mimetype": "text/x-python",
   "name": "python",
   "nbconvert_exporter": "python",
   "pygments_lexer": "ipython3",
   "version": "3.12.0"
  }
 },
 "nbformat": 4,
 "nbformat_minor": 2
}
