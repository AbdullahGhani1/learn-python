{
 "cells": [
  {
   "cell_type": "markdown",
   "metadata": {},
   "source": [
    "# Python Functions Guide\n",
    "\n",
    "\n",
    "Python functions are a cornerstone of the language, providing modularity and code reusability. \n",
    "\n",
    "- **Pre-defined Functions**: Python comes with a variety of built-in functions like `len()` that are ready to use without any additional imports.\n",
    "- **User-defined Functions**: Users can define their own functions using the `def` keyword, allowing for customized functionality tailored to specific needs.\n",
    "- **Arguments and Parameters**: Functions can accept inputs in the form of arguments, and these inputs are defined in the function signature as parameters.\n",
    "- **Default Functions**: Parameters can be given default values, making them optional when the function is called.\n",
    "- **Optional, Positional, and Keyword Arguments**: Functions can accept different types of arguments, including optional arguments with default values, positional arguments that depend on order, and keyword arguments that are specified by name.\n",
    "- **Lambda Functions**: Anonymous functions can be defined on-the-fly using the `lambda` keyword.\n",
    "- **Recursive Functions**: Functions can call themselves to solve problems in a recursive manner.\n",
    "- **Decorators**: Functions can be wrapped by other functions to extend their behavior without modifying their code.\n",
    "- **Functions with Unlimited Arguments**: Functions can be designed to accept an arbitrary number of arguments, either as positional arguments or keyword arguments.\n",
    "\n",
    "By understanding and utilizing these different aspects of Python functions, developers can write cleaner, more efficient, and more maintainable code.\n",
    "\n",
    "\n",
    "\n",
    "## Table of Contents\n",
    "1. [Pre-defined Functions](#pre-defined-functions)\n",
    "2. [User-defined Functions](#user-defined-functions)\n",
    "3. [Arguments and Parameters](#arguments-and-parameters)\n",
    "4. [Default Functions](#default-functions)\n",
    "5. [Optional, Positional, and Keyword Arguments](#optional-positional-and-keyword-arguments)\n",
    "6. [Lambda Functions](#lambda-functions)\n",
    "7. [Recursive Functions](#recursive-functions)\n",
    "8. [Decorators](#decorators)\n",
    "9. [Functions with Unlimited Arguments](#functions-with-unlimited-arguments)\n",
    "\n",
    "---\n",
    "\n",
    "## YouTube link\n",
    "[2 hour live session](https://youtube.com/live/Iztf55Cs4pw)\n",
    "\n",
    "## Pre-defined Functions\n",
    "\n",
    "Python provides several built-in functions that are readily available for use.\n",
    "\n",
    "```python\n",
    "# Example of a pre-defined function\n",
    "result: int = len(\"Hello, World!\")\n",
    "print(result)  # Output: 12\n",
    "```\n",
    "\n",
    "---\n",
    "\n",
    "## User-defined Functions\n",
    "\n",
    "You can define your own functions in Python using the `def` keyword.\n",
    "\n",
    "```python\n",
    "def greet(name: str) -> None:\n",
    "    print(f\"Hello, {name}!\")\n",
    "\n",
    "greet(\"John\")  # Output: Hello, John!\n",
    "```\n",
    "\n",
    "---\n",
    "\n",
    "## Arguments and Parameters\n",
    "\n",
    "Parameters are the variables listed inside the parentheses in the function definition, whereas arguments are the values passed to the function when it is called.\n",
    "\n",
    "```python\n",
    "def add(a: int, b: int) -> int:\n",
    "    return a + b\n",
    "\n",
    "result: int = add(5, 3)\n",
    "print(result)  # Output: 8\n",
    "```\n",
    "\n",
    "---\n",
    "\n",
    "## Default Functions\n",
    "\n",
    "You can assign default values to parameters, making them optional during a function call.\n",
    "\n",
    "```python\n",
    "def power(base: int, exponent: int = 2) -> int:\n",
    "    return base ** exponent\n",
    "\n",
    "print(power(3))        # Output: 9\n",
    "print(power(3, 3))     # Output: 27\n",
    "```\n",
    "\n",
    "---\n",
    "\n",
    "## Optional, Positional, and Keyword Arguments\n",
    "\n",
    "### Optional Arguments\n",
    "Optional arguments are those that have a default value.\n",
    "\n",
    "```python\n",
    "def greet(name: str = \"Guest\") -> None:\n",
    "    print(f\"Hello, {name}!\")\n",
    "\n",
    "greet()            # Output: Hello, Guest!\n",
    "greet(\"John\")      # Output: Hello, John!\n",
    "```\n",
    "\n",
    "### Positional Arguments\n",
    "Positional arguments are arguments that need to be included in the proper position or order.\n",
    "\n",
    "```python\n",
    "def subtract(a: int, b: int) -> int:\n",
    "    return a - b\n",
    "\n",
    "result: int = subtract(10, 5)\n",
    "print(result)  # Output: 5\n",
    "```\n",
    "\n",
    "### Keyword Arguments\n",
    "Keyword arguments are arguments passed to a function by explicitly specifying the name of the parameter.\n",
    "\n",
    "```python\n",
    "def divide(dividend: int, divisor: int) -> float:\n",
    "    return dividend / divisor\n",
    "\n",
    "result: float = divide(divisor=5, dividend=25)\n",
    "print(result)  # Output: 5.0\n",
    "```\n",
    "\n",
    "---\n",
    "\n",
    "## Lambda Functions\n",
    "\n",
    "Lambda functions are anonymous functions defined using the `lambda` keyword.\n",
    "\n",
    "```python\n",
    "square: callable = lambda x: x * x\n",
    "print(square(4))  # Output: 16\n",
    "```\n",
    "\n",
    "---\n",
    "\n",
    "## Recursive Functions\n",
    "\n",
    "A recursive function is a function that calls itself.\n",
    "\n",
    "```python\n",
    "def factorial(n: int) -> int:\n",
    "    if n == 0:\n",
    "        return 1\n",
    "    else:\n",
    "        return n * factorial(n - 1)\n",
    "\n",
    "result: int = factorial(5)\n",
    "print(result)  # Output: 120\n",
    "```\n",
    "\n",
    "---\n",
    "\n",
    "## Decorators\n",
    "\n",
    "Decorators are a way to modify or extend the behavior of a function.\n",
    "\n",
    "```python\n",
    "def my_decorator(func: callable) -> callable:\n",
    "    def wrapper(*args, **kwargs) -> None:\n",
    "        print(\"Something is happening before the function is called.\")\n",
    "        func(*args, **kwargs)\n",
    "        print(\"Something is happening after the function is called.\")\n",
    "    return wrapper\n",
    "\n",
    "@my_decorator\n",
    "def say_hello(name: str) -> None:\n",
    "    print(f\"Hello {name}!\")\n",
    "\n",
    "say_hello(\"John\")\n",
    "```\n",
    "\n",
    "---\n",
    "\n",
    "## Functions with Unlimited Arguments\n",
    "\n",
    "You can define functions that accept an arbitrary number of arguments.\n",
    "\n",
    "### Unlimited Positional Arguments\n",
    "\n",
    "```python\n",
    "def add(*numbers: int) -> int:\n",
    "    return sum(numbers)\n",
    "\n",
    "result: int = add(1, 2, 3, 4, 5)\n",
    "print(result)  # Output: 15\n",
    "```\n",
    "\n",
    "### Unlimited Keyword Arguments\n",
    "\n",
    "```python\n",
    "def print_key_values(**kwargs: str) -> None:\n",
    "    for key, value in kwargs.items():\n",
    "        print(f\"{key}: {value}\")\n",
    "\n",
    "print_key_values(name=\"John\", age=\"30\", country=\"USA\")\n",
    "```\n"
   ]
  },
  {
   "cell_type": "markdown",
   "metadata": {},
   "source": [
    "### Function\n",
    "\n",
    "- pre-define function\n",
    "  - PROVIDED BY IN LANGUAGE\n",
    "- USER-DEFINE Function\n",
    "  - custom function\n",
    "- Return and Non-Return function\n",
    "  - Return\n",
    "    - We can assign this function output in any variables\n",
    "  - No Return\n",
    "    - only run  we can't assign value to variable\n",
    "\n",
    "### Components\n",
    "- function declaration\n",
    "- function body\n",
    "- function calling\n",
    "\n",
    "### Syntax Function\n",
    "\n",
    "```python\n",
    "def function_name(parm1:type,param2:type,...)->Return_type:\n",
    "    function_body\n",
    "# function Calling\n",
    "function_name(arg1,arg2)\n",
    "```"
   ]
  },
  {
   "cell_type": "code",
   "execution_count": 1,
   "metadata": {},
   "outputs": [],
   "source": [
    "def add_two_numbers(num1: int, num2: int) -> int:\n",
    "    return num1 + num2"
   ]
  },
  {
   "cell_type": "code",
   "execution_count": 2,
   "metadata": {},
   "outputs": [
    {
     "data": {
      "text/plain": [
       "7"
      ]
     },
     "execution_count": 2,
     "metadata": {},
     "output_type": "execute_result"
    }
   ],
   "source": [
    "add_two_numbers(3,4) #args1, args2"
   ]
  },
  {
   "cell_type": "markdown",
   "metadata": {},
   "source": [
    "### Pre-definded Functions\n",
    "\n",
    "- print\n",
    "- len \n",
    "- id\n",
    "- dir\n",
    "- chr\n"
   ]
  },
  {
   "cell_type": "code",
   "execution_count": 6,
   "metadata": {},
   "outputs": [
    {
     "name": "stdout",
     "output_type": "stream",
     "text": [
      "aa\n",
      "2\n"
     ]
    }
   ],
   "source": [
    "print('aa')\n",
    "print(len('aa'))"
   ]
  },
  {
   "cell_type": "markdown",
   "metadata": {},
   "source": [
    "## Return and non_return Function"
   ]
  },
  {
   "cell_type": "code",
   "execution_count": 8,
   "metadata": {},
   "outputs": [
    {
     "name": "stdout",
     "output_type": "stream",
     "text": [
      "Pakistan\n"
     ]
    },
    {
     "data": {
      "text/plain": [
       "None"
      ]
     },
     "metadata": {},
     "output_type": "display_data"
    }
   ],
   "source": [
    "a: str = print(\"Pakistan\")  # type: ignore # a = pakistan -> Return Function | None -> none-return function\n",
    "display(a) # none -> None-return function\n"
   ]
  },
  {
   "cell_type": "code",
   "execution_count": 9,
   "metadata": {},
   "outputs": [
    {
     "data": {
      "text/plain": [
       "8"
      ]
     },
     "metadata": {},
     "output_type": "display_data"
    }
   ],
   "source": [
    "a:int = len('Pakistan')\n",
    "\n",
    "display(a) # 8 -> Return Function\n"
   ]
  },
  {
   "cell_type": "markdown",
   "metadata": {},
   "source": [
    "### Create function without any argument (default Function)"
   ]
  },
  {
   "cell_type": "code",
   "execution_count": 11,
   "metadata": {},
   "outputs": [
    {
     "name": "stdout",
     "output_type": "stream",
     "text": [
      "Pakistan\n"
     ]
    }
   ],
   "source": [
    "def piaic()->None: # declaration / function definition / function signature\n",
    "    # function body / function implementation\n",
    "    print(\"Pakistan\")\n",
    "    # function body ends\n",
    "\n",
    "piaic() # function calling / function invocation"
   ]
  },
  {
   "cell_type": "markdown",
   "metadata": {},
   "source": [
    "### Function with required params"
   ]
  },
  {
   "cell_type": "code",
   "execution_count": 12,
   "metadata": {},
   "outputs": [
    {
     "data": {
      "text/plain": [
       "7"
      ]
     },
     "execution_count": 12,
     "metadata": {},
     "output_type": "execute_result"
    }
   ],
   "source": [
    "def add_two_numbers(num1: int, num2: int) -> int: # function signature\n",
    "    return num1 + num2\n",
    "\n",
    "\n",
    "add_two_numbers(3,4) #args1, args2"
   ]
  },
  {
   "cell_type": "markdown",
   "metadata": {},
   "source": [
    "### Function with Optional Parameters"
   ]
  },
  {
   "cell_type": "code",
   "execution_count": 2,
   "metadata": {},
   "outputs": [],
   "source": [
    "def add_two_numbers_v2(num1: int, num2: int=0) -> int:\n",
    "    return num1 + num2"
   ]
  },
  {
   "cell_type": "code",
   "execution_count": 3,
   "metadata": {},
   "outputs": [
    {
     "data": {
      "text/plain": [
       "5"
      ]
     },
     "execution_count": 3,
     "metadata": {},
     "output_type": "execute_result"
    }
   ],
   "source": [
    "add_two_numbers_v2(5)"
   ]
  },
  {
   "cell_type": "code",
   "execution_count": 4,
   "metadata": {},
   "outputs": [
    {
     "data": {
      "text/plain": [
       "7"
      ]
     },
     "execution_count": 4,
     "metadata": {},
     "output_type": "execute_result"
    }
   ],
   "source": [
    "add_two_numbers_v2(5,2)"
   ]
  },
  {
   "cell_type": "markdown",
   "metadata": {},
   "source": [
    "### Syntax lambda functions\n",
    "- one line function\n",
    "- without name\n",
    "- only use in this line\n",
    "\n",
    "```python\n",
    "lambda param1, param2: function_body\n",
    "```"
   ]
  },
  {
   "cell_type": "code",
   "execution_count": 13,
   "metadata": {},
   "outputs": [
    {
     "data": {
      "text/plain": [
       "7"
      ]
     },
     "execution_count": 13,
     "metadata": {},
     "output_type": "execute_result"
    }
   ],
   "source": [
    "from typing import Callable\n",
    "a: Callable[[int,int],int]= lambda param1, param2 : param1 + param2 \n",
    "\n",
    "a(3,4)"
   ]
  },
  {
   "cell_type": "code",
   "execution_count": 9,
   "metadata": {},
   "outputs": [
    {
     "data": {
      "text/plain": [
       "[1, 4, 9, 16, 25]"
      ]
     },
     "metadata": {},
     "output_type": "display_data"
    }
   ],
   "source": [
    "data :list[int] = [1,2,3,4,5]\n",
    "data = list(map(lambda x: x**2, data))\n",
    "display(data)"
   ]
  },
  {
   "cell_type": "code",
   "execution_count": 12,
   "metadata": {},
   "outputs": [
    {
     "name": "stdout",
     "output_type": "stream",
     "text": [
      "4\n"
     ]
    }
   ],
   "source": [
    "from typing import Callable\n",
    "add: Callable[[int,int],int] = lambda x,y: x+y\n",
    "result = add(2,2)\n",
    "\n",
    "print(result)"
   ]
  },
  {
   "cell_type": "code",
   "execution_count": 18,
   "metadata": {},
   "outputs": [
    {
     "data": {
      "text/plain": [
       "[4, 16, 36, 64, 100]"
      ]
     },
     "metadata": {},
     "output_type": "display_data"
    }
   ],
   "source": [
    "numbers: list[int] = [1,2,3,4,5,6,7,8,9,10]\n",
    "data : list =  list(map(lambda x: x**2, filter(lambda x:x%2==0 , numbers)))\n",
    "\n",
    "display(data)"
   ]
  },
  {
   "cell_type": "markdown",
   "metadata": {},
   "source": [
    "## Generator Function\n",
    "\n",
    "- itereate on element one by one\n",
    "- stop after each iteration\n",
    "- remember old iteration value (last iterate value)\n",
    "- newxt iterate\n",
    "  - go farward from last iterate value"
   ]
  },
  {
   "cell_type": "code",
   "execution_count": 31,
   "metadata": {},
   "outputs": [],
   "source": [
    "def my_range(start: int, end: int, step: int):\n",
    "    for i in range(start, end+1, step):\n",
    "        yield i\n",
    "\n",
    "\n",
    "generate=my_range(1,10,1)"
   ]
  },
  {
   "cell_type": "code",
   "execution_count": 41,
   "metadata": {},
   "outputs": [
    {
     "name": "stdout",
     "output_type": "stream",
     "text": [
      "10\n"
     ]
    }
   ],
   "source": [
    "print(next(generate))"
   ]
  },
  {
   "cell_type": "code",
   "execution_count": 53,
   "metadata": {},
   "outputs": [],
   "source": [
    "from collections.abc import Iterator\n",
    "\n",
    "def my_range(start: int, end: int, step: int=1)->Iterator[int]:\n",
    "    for i in range(start, end+1, step):\n",
    "        yield i\n",
    "a : Iterator[int] = my_range(1,10,1)\n"
   ]
  },
  {
   "cell_type": "code",
   "execution_count": 58,
   "metadata": {},
   "outputs": [
    {
     "name": "stdout",
     "output_type": "stream",
     "text": [
      "<class 'generator'>\n",
      "3\n"
     ]
    }
   ],
   "source": [
    "print(type(a))\n",
    "print(next(a))"
   ]
  },
  {
   "cell_type": "code",
   "execution_count": 65,
   "metadata": {},
   "outputs": [],
   "source": [
    "from collections.abc import Iterator,Generator\n",
    "\n",
    "def my_range(start: int, end: int, step: int=1)->Generator[int]:\n",
    "    for i in range(start, end+1, step):\n",
    "        yield i\n",
    "geerator_var : Generator[int] = my_range(1,10,1)\n"
   ]
  },
  {
   "cell_type": "code",
   "execution_count": 66,
   "metadata": {},
   "outputs": [
    {
     "name": "stdout",
     "output_type": "stream",
     "text": [
      "<class 'generator'>\n",
      "1\n"
     ]
    }
   ],
   "source": [
    "print(type(geerator_var))\n",
    "print(next(geerator_var))"
   ]
  },
  {
   "cell_type": "code",
   "execution_count": 68,
   "metadata": {},
   "outputs": [
    {
     "name": "stdout",
     "output_type": "stream",
     "text": [
      "3\n",
      "4\n",
      "5\n",
      "6\n",
      "7\n",
      "8\n",
      "9\n",
      "10\n"
     ]
    }
   ],
   "source": [
    "for i in geerator_var :\n",
    "    print(i)"
   ]
  },
  {
   "cell_type": "code",
   "execution_count": 69,
   "metadata": {},
   "outputs": [
    {
     "data": {
      "text/plain": [
       "['__class__',\n",
       " '__del__',\n",
       " '__delattr__',\n",
       " '__dir__',\n",
       " '__doc__',\n",
       " '__eq__',\n",
       " '__format__',\n",
       " '__ge__',\n",
       " '__getattribute__',\n",
       " '__getstate__',\n",
       " '__gt__',\n",
       " '__hash__',\n",
       " '__init__',\n",
       " '__init_subclass__',\n",
       " '__iter__',\n",
       " '__le__',\n",
       " '__lt__',\n",
       " '__name__',\n",
       " '__ne__',\n",
       " '__new__',\n",
       " '__next__',\n",
       " '__qualname__',\n",
       " '__reduce__',\n",
       " '__reduce_ex__',\n",
       " '__repr__',\n",
       " '__setattr__',\n",
       " '__sizeof__',\n",
       " '__str__',\n",
       " '__subclasshook__',\n",
       " 'close',\n",
       " 'gi_code',\n",
       " 'gi_frame',\n",
       " 'gi_running',\n",
       " 'gi_suspended',\n",
       " 'gi_yieldfrom',\n",
       " 'send',\n",
       " 'throw']"
      ]
     },
     "execution_count": 69,
     "metadata": {},
     "output_type": "execute_result"
    }
   ],
   "source": [
    "dir(geerator_var)"
   ]
  },
  {
   "cell_type": "markdown",
   "metadata": {},
   "source": [
    "### 1 Function Basics\n",
    "\n",
    "A function is a block of code that performs a specific task. Here's a simple function that greets the person whose name is passed as a parameter:"
   ]
  },
  {
   "cell_type": "code",
   "execution_count": 70,
   "metadata": {},
   "outputs": [
    {
     "name": "stdout",
     "output_type": "stream",
     "text": [
      "Assalmualaikum Fareen Waheed. I hope you are doing well. sorry for what i did to you. sorry for my mistakes. I hope you will forgive me\n"
     ]
    }
   ],
   "source": [
    "def greet(name: str)->None:\n",
    "    print( \"Assalmualaikum \"+ name + \". I hope you are doing well. sorry for what i did to you. sorry for my mistakes. I hope you will forgive me\")\n",
    "\n",
    "greet(\"Fareen Waheed\")"
   ]
  },
  {
   "cell_type": "markdown",
   "metadata": {},
   "source": [
    "### 2  Default Arguments\n",
    "\n",
    "Default arguments in a function can be specified by assigning a default value to the parameter in the function definition. This allows you to call the function without providing those arguments."
   ]
  },
  {
   "cell_type": "code",
   "execution_count": null,
   "metadata": {},
   "outputs": [],
   "source": []
  },
  {
   "cell_type": "markdown",
   "metadata": {},
   "source": [
    "### Pass "
   ]
  },
  {
   "cell_type": "code",
   "execution_count": null,
   "metadata": {},
   "outputs": [],
   "source": []
  }
 ],
 "metadata": {
  "kernelspec": {
   "display_name": "python12",
   "language": "python",
   "name": "python3"
  },
  "language_info": {
   "codemirror_mode": {
    "name": "ipython",
    "version": 3
   },
   "file_extension": ".py",
   "mimetype": "text/x-python",
   "name": "python",
   "nbconvert_exporter": "python",
   "pygments_lexer": "ipython3",
   "version": "3.12.4"
  }
 },
 "nbformat": 4,
 "nbformat_minor": 2
}
