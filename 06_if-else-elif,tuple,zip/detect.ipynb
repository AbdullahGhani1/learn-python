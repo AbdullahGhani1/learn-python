{
 "cells": [
  {
   "cell_type": "code",
   "execution_count": null,
   "metadata": {},
   "outputs": [],
   "source": [
    "# Import necessary libraries\n",
    "import cv2\n",
    "import matplotlib.pyplot as plt\n",
    "from IPython.display import clear_output\n",
    "\n",
    "# Initialize the HOG descriptor/person detector\n",
    "hog = cv2.HOGDescriptor()\n",
    "hog.setSVMDetector(cv2.HOGDescriptor_getDefaultPeopleDetector())\n",
    "\n",
    "# Open video file\n",
    "video_path = './drive.mp4'  # Replace with the path to your video file\n",
    "cap = cv2.VideoCapture(video_path)\n",
    "\n",
    "try:\n",
    "    while True:\n",
    "        # Read a new frame\n",
    "        ret, frame = cap.read()\n",
    "        if not ret:\n",
    "            break\n",
    "\n",
    "        # Detect people in the image\n",
    "        # Adjust parameters as needed\n",
    "        boxes, weights = hog.detectMultiScale(frame, winStride=(8, 8), padding=(8, 8), scale=1.05)\n",
    "\n",
    "        # Draw the detected boxes\n",
    "        for (x, y, w, h) in boxes:\n",
    "            cv2.rectangle(frame, (x, y), (x + w, y + h), (0, 255, 0), 2)\n",
    "\n",
    "        # Display the resulting frame\n",
    "        plt.figure(figsize=(10, 10))\n",
    "        plt.imshow(cv2.cvtColor(frame, cv2.COLOR_BGR2RGB))\n",
    "        plt.show()\n",
    "        clear_output(wait=True)\n",
    "\n",
    "except KeyboardInterrupt:\n",
    "    print('Interrupted')\n",
    "\n",
    "cap.release()\n"
   ]
  },
  {
   "cell_type": "markdown",
   "metadata": {},
   "source": []
  },
  {
   "cell_type": "code",
   "execution_count": null,
   "metadata": {},
   "outputs": [],
   "source": [
    "%pip install matplotlib\n"
   ]
  },
  {
   "cell_type": "code",
   "execution_count": null,
   "metadata": {},
   "outputs": [],
   "source": [
    "import cv2\n",
    "import torch\n",
    "import numpy as np\n",
    "import matplotlib.pyplot as plt\n",
    "\n",
    "# Load the YOLO model\n",
    "model = torch.hub.load('ultralytics/yolov5', 'yolov5s', pretrained=True).to('mps')"
   ]
  },
  {
   "cell_type": "code",
   "execution_count": null,
   "metadata": {},
   "outputs": [],
   "source": [
    "# Load the YOLO model\n",
    "model = torch.hub.load('ultralytics/yolov5', 'yolov5s', pretrained=True).to('mps')  # Use 'mps' for Apple M1 GPU\n"
   ]
  },
  {
   "cell_type": "code",
   "execution_count": null,
   "metadata": {},
   "outputs": [],
   "source": [
    "# Load your video\n",
    "cap = cv2.VideoCapture('./drive.mp4')\n"
   ]
  },
  {
   "cell_type": "code",
   "execution_count": null,
   "metadata": {},
   "outputs": [],
   "source": [
    "# Prepare for histogram data (example for humans)\n",
    "human_confidences = []"
   ]
  },
  {
   "cell_type": "code",
   "execution_count": null,
   "metadata": {},
   "outputs": [],
   "source": [
    "while cap.isOpened():\n",
    "    ret, frame = cap.read()\n",
    "    if not ret:\n",
    "        break\n",
    "\n",
    "    # Convert frame to RGB (YOLOv5 expects RGB)\n",
    "    frame_rgb = cv2.cvtColor(frame, cv2.COLOR_BGR2RGB)\n",
    "\n",
    "    # Inference\n",
    "    results = model([frame_rgb])\n",
    "\n",
    "    # Extract results\n",
    "    detections = results.xyxy[0].cpu().numpy()  # Convert detections to NumPy array\n",
    "\n",
    "    for *xyxy, conf, cls in detections:\n",
    "        if cls == 0:  # Assuming class 0 is person\n",
    "            human_confidences.append(conf)\n",
    "            # For demonstration, let's print the confidence level of each detected human\n",
    "            print(f'Human detected with confidence: {conf}')"
   ]
  },
  {
   "cell_type": "code",
   "execution_count": null,
   "metadata": {},
   "outputs": [],
   "source": [
    "# Plot histogram of human detection confidences\n",
    "plt.hist(human_confidences, bins=20, alpha=0.75)\n",
    "plt.title('Histogram of Human Detection Confidences')\n",
    "plt.xlabel('Confidence')\n",
    "plt.ylabel('Frequency')\n",
    "plt.show()\n"
   ]
  },
  {
   "cell_type": "code",
   "execution_count": null,
   "metadata": {},
   "outputs": [],
   "source": [
    "plt.hist(human_confidences, bins=20, alpha=0.75)\n",
    "plt.show()\n"
   ]
  },
  {
   "cell_type": "code",
   "execution_count": null,
   "metadata": {},
   "outputs": [],
   "source": [
    "cap.release()\n",
    "cv2.destroyAllWindows()"
   ]
  },
  {
   "cell_type": "code",
   "execution_count": null,
   "metadata": {},
   "outputs": [],
   "source": [
    "%pip install yolov5"
   ]
  },
  {
   "cell_type": "code",
   "execution_count": 3,
   "metadata": {},
   "outputs": [
    {
     "name": "stderr",
     "output_type": "stream",
     "text": [
      "Using cache found in /Users/abdullahghani/.cache/torch/hub/ultralytics_yolov5_master\n",
      "YOLOv5 🚀 2024-3-18 Python-3.12.0 torch-2.2.1 CPU\n",
      "\n",
      "Fusing layers... \n",
      "YOLOv5s summary: 213 layers, 7225885 parameters, 0 gradients, 16.4 GFLOPs\n",
      "Adding AutoShape... \n"
     ]
    }
   ],
   "source": [
    "import cv2\n",
    "import torch\n",
    "\n",
    "# Load the YOLOv5 model\n",
    "model = torch.hub.load('ultralytics/yolov5', 'yolov5s', device='cpu')  # Change 'cpu' to 'mps' for M1\n",
    "\n",
    "def process_frame(frame):\n",
    "    # Convert frame from BGR to RGB\n",
    "    frame_rgb = cv2.cvtColor(frame, cv2.COLOR_BGR2RGB)\n",
    "    # Inference\n",
    "    results = model(frame_rgb)\n",
    "    # Render results on frame\n",
    "    frame_result = results.render()[0]\n",
    "    # Convert frame from RGB back to BGR\n",
    "    frame_bgr = cv2.cvtColor(frame_result, cv2.COLOR_RGB2BGR)\n",
    "    return frame_bgr\n",
    "\n",
    "# Video processing (simplified for demonstration)\n",
    "cap = cv2.VideoCapture('./drive.mp4')\n",
    "while cap.isOpened():\n",
    "    ret, frame = cap.read()\n",
    "    if not ret:\n",
    "        break\n",
    "    # Process and display frame\n",
    "    processed_frame = process_frame(frame)\n",
    "    cv2.imshow('Processed Frame', processed_frame)\n",
    "    if cv2.waitKey(1) & 0xFF == ord('q'):\n",
    "        break\n",
    "\n",
    "cap.release()\n",
    "cv2.destroyAllWindows()\n"
   ]
  },
  {
   "cell_type": "code",
   "execution_count": 1,
   "metadata": {},
   "outputs": [
    {
     "name": "stderr",
     "output_type": "stream",
     "text": [
      "Using cache found in /Users/abdullahghani/.cache/torch/hub/ultralytics_yolov5_master\n",
      "YOLOv5 🚀 2024-3-18 Python-3.12.0 torch-2.2.1 CPU\n",
      "\n",
      "Fusing layers... \n",
      "YOLOv5s summary: 213 layers, 7225885 parameters, 0 gradients, 16.4 GFLOPs\n",
      "Adding AutoShape... \n"
     ]
    }
   ],
   "source": [
    "import torch\n",
    "from pathlib import Path\n",
    "import cv2\n",
    "import numpy as np\n",
    "\n",
    "# Load the model\n",
    "model = torch.hub.load('ultralytics/yolov5', 'yolov5s', pretrained=True)\n",
    "\n",
    "# Define the video path and output path\n",
    "video_path = './drive.mp4'\n",
    "output_path = './output_video.mp4'\n",
    "\n",
    "# Load the video\n",
    "cap = cv2.VideoCapture(video_path)\n",
    "width = int(cap.get(cv2.CAP_PROP_FRAME_WIDTH))\n",
    "height = int(cap.get(cv2.CAP_PROP_FRAME_HEIGHT))\n",
    "fps = cap.get(cv2.CAP_PROP_FPS)\n",
    "\n",
    "# Define the codec and create VideoWriter object\n",
    "fourcc = cv2.VideoWriter_fourcc(*'mp4v')\n",
    "out = cv2.VideoWriter(output_path, fourcc, fps, (width, height))\n",
    "\n",
    "while cap.isOpened():\n",
    "    ret, frame = cap.read()\n",
    "    if not ret:\n",
    "        break\n",
    "\n",
    "    # Convert frame to RGB (YOLOv5 expects RGB images)\n",
    "    frame_rgb = cv2.cvtColor(frame, cv2.COLOR_BGR2RGB)\n",
    "    results = model([frame_rgb], size=640)\n",
    "\n",
    "    # Extract detected humans and their coordinates\n",
    "    for *xyxy, conf, cls in results.xyxy[0]:\n",
    "        if int(cls) == 0:  # Class 0 usually corresponds to person in COCO dataset\n",
    "            label = f'{results.names[int(cls)]} {conf:.2f}'\n",
    "            cv2.rectangle(frame, (int(xyxy[0]), int(xyxy[1])), (int(xyxy[2]), int(xyxy[3])), (255,0,0), 2)\n",
    "            cv2.putText(frame, label, (int(xyxy[0]), int(xyxy[1])-10), cv2.FONT_HERSHEY_SIMPLEX, 0.5, (255,255,255), 2)\n",
    "\n",
    "    out.write(frame)\n",
    "\n",
    "cap.release()\n",
    "out.release()\n"
   ]
  },
  {
   "cell_type": "code",
   "execution_count": 1,
   "metadata": {},
   "outputs": [
    {
     "name": "stderr",
     "output_type": "stream",
     "text": [
      "Using cache found in /Users/abdullahghani/.cache/torch/hub/ultralytics_yolov5_master\n",
      "YOLOv5 🚀 2024-3-18 Python-3.12.0 torch-2.2.1 CPU\n",
      "\n",
      "Fusing layers... \n",
      "YOLOv5s summary: 213 layers, 7225885 parameters, 0 gradients, 16.4 GFLOPs\n",
      "Adding AutoShape... \n"
     ]
    }
   ],
   "source": [
    "import torch\n",
    "import cv2\n",
    "import numpy as np\n",
    "\n",
    "def cartoon_effect(frame):\n",
    "    \"\"\"Apply a cartoon effect to an image frame.\"\"\"\n",
    "    # Convert image to grayscale\n",
    "    gray = cv2.cvtColor(frame, cv2.COLOR_BGR2GRAY)\n",
    "    # Apply median blur\n",
    "    gray = cv2.medianBlur(gray, 5)\n",
    "    # Detect edges in the image\n",
    "    edges = cv2.adaptiveThreshold(gray, 255, cv2.ADAPTIVE_THRESH_MEAN_C, cv2.THRESH_BINARY, 9, 9)\n",
    "    # Convert back to color\n",
    "    color = cv2.bilateralFilter(frame, 9, 300, 300)\n",
    "    # Combine edges and color\n",
    "    cartoon = cv2.bitwise_and(color, color, mask=edges)\n",
    "    return cartoon\n",
    "\n",
    "def enhance_effect(frame):\n",
    "    \"\"\"Enhance the video frame.\"\"\"\n",
    "    # Convert to HSV (hue, saturation, value) color space for easier adjustments\n",
    "    hsv = cv2.cvtColor(frame, cv2.COLOR_BGR2HSV)\n",
    "    h, s, v = cv2.split(hsv)\n",
    "    # Adjust the value channel to enhance brightness\n",
    "    v = cv2.equalizeHist(v)\n",
    "    enhanced_hsv = cv2.merge((h, s, v))\n",
    "    # Convert back to BGR color space\n",
    "    enhanced_frame = cv2.cvtColor(enhanced_hsv, cv2.COLOR_HSV2BGR)\n",
    "    return enhanced_frame\n",
    "\n",
    "# Load the model\n",
    "model = torch.hub.load('ultralytics/yolov5', 'yolov5s', pretrained=True)\n",
    "\n",
    "# Define the video path and output paths\n",
    "video_path = './drive.mp4'\n",
    "output_path_cartoon = './output_video_cartoon.mp4'\n",
    "output_path_enhanced = './output_video_enhanced.mp4'\n",
    "\n",
    "# Load the video\n",
    "cap = cv2.VideoCapture(video_path)\n",
    "width = int(cap.get(cv2.CAP_PROP_FRAME_WIDTH))\n",
    "height = int(cap.get(cv2.CAP_PROP_FRAME_HEIGHT))\n",
    "fps = cap.get(cv2.CAP_PROP_FPS)\n",
    "\n",
    "# Define the codec and create VideoWriter objects\n",
    "fourcc = cv2.VideoWriter_fourcc(*'mp4v')\n",
    "out_cartoon = cv2.VideoWriter(output_path_cartoon, fourcc, fps, (width, height))\n",
    "out_enhanced = cv2.VideoWriter(output_path_enhanced, fourcc, fps, (width, height))\n",
    "\n",
    "while cap.isOpened():\n",
    "    ret, frame = cap.read()\n",
    "    if not ret:\n",
    "        break\n",
    "\n",
    "    # Process the frame\n",
    "    cartoon_frame = cartoon_effect(frame)\n",
    "    enhanced_frame = enhance_effect(frame)\n",
    "\n",
    "    # Write the processed frames to the respective videos\n",
    "    out_cartoon.write(cartoon_frame)\n",
    "    out_enhanced.write(enhanced_frame)\n",
    "\n",
    "cap.release()\n",
    "out_cartoon.release()\n",
    "out_enhanced.release()\n"
   ]
  },
  {
   "cell_type": "code",
   "execution_count": null,
   "metadata": {},
   "outputs": [],
   "source": []
  }
 ],
 "metadata": {
  "kernelspec": {
   "display_name": "myenv",
   "language": "python",
   "name": "python3"
  },
  "language_info": {
   "codemirror_mode": {
    "name": "ipython",
    "version": 3
   },
   "file_extension": ".py",
   "mimetype": "text/x-python",
   "name": "python",
   "nbconvert_exporter": "python",
   "pygments_lexer": "ipython3",
   "version": "3.12.0"
  }
 },
 "nbformat": 4,
 "nbformat_minor": 2
}
