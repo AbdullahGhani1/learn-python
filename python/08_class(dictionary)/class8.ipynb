{
 "cells": [
  {
   "cell_type": "markdown",
   "metadata": {},
   "source": [
    "🚀 *What You'll Learn:*\n",
    "📚 Basics of Python dictionaries\n",
    "🛠️ How to create, access, and manipulate dictionary data\n",
    "🧠 In-depth explanations of various dictionary methods with code examples\n",
    "\n",
    "👨‍💻 *Follow Along with the Code:*\n",
    "\n",
    "*Creating a Dictionary:*\n",
    "```python\n",
    "my_dict = {'apple': 5, 'banana': 3}\n",
    "print(my_dict)  # Output: {'apple': 5, 'banana': 3}\n",
    "```\n",
    "\n",
    "*Accessing Values:*\n",
    "```python\n",
    "value = my_dict['apple']\n",
    "print(value)  # Output: 5\n",
    "```\n",
    "\n",
    "*Adding Key-Value Pairs:*\n",
    "```python\n",
    "my_dict['cherry'] = 7\n",
    "print(my_dict)  # Output: {'apple': 5, 'banana': 3, 'cherry': 7}\n",
    "```\n",
    "\n",
    "🛠️ *Must-Know Dictionary Methods:*\n",
    "\n",
    "1. *clear:* Removes all items.\n",
    "   ```python\n",
    "   my_dict.clear()\n",
    "   ```\n",
    "2. *copy:* Creates a shallow copy.\n",
    "   ```python\n",
    "   copy_dict = my_dict.copy()\n",
    "   ```\n",
    "3. *fromkeys:* Creates a new dictionary from a sequence of keys.\n",
    "   ```python\n",
    "   new_dict = dict.fromkeys(['apple', 'banana'], 0)\n",
    "   ```\n",
    "4. *get:* Retrieves the value for a given key.\n",
    "   ```python\n",
    "   value = my_dict.get('apple', 'Not Found')\n",
    "   ```\n",
    "5. *items:* Returns a view of all key-value pairs.\n",
    "   ```python\n",
    "   items = my_dict.items()\n",
    "   ```\n",
    "6. *keys:* Returns all the keys.\n",
    "   ```python\n",
    "   keys = my_dict.keys()\n",
    "   ```\n",
    "7. *pop:* Removes an item by key.\n",
    "   ```python\n",
    "   my_dict.pop('apple')\n",
    "   ```\n",
    "8. *popitem:* Removes the last key-value pair.\n",
    "   ```python\n",
    "   my_dict.popitem()\n",
    "   ```\n",
    "9. *setdefault:* Gets the value of a key, and if not present, sets a default value.\n",
    "   ```python\n",
    "   value = my_dict.setdefault('banana', 6)\n",
    "   ```\n",
    "10. *update:* Updates the dictionary.\n",
    "    ```python\n",
    "    my_dict.update({'banana': 4})\n",
    "    ```\n",
    "11. *values:* Returns all the values.\n",
    "    ```python\n",
    "    values = my_dict.values()\n",
    "    ```\n",
    "\n",
    "🔥 *Pro Tips:*\n",
    "Use `get` to avoid KeyError when accessing non-existent keys.\n",
    "Utilize `update` to merge two dictionaries easily.\n",
    "Remember that dictionaries are unordered collections of data (until Python 3.7, where they are insertion ordered).\n",
    "\n",
    "💡 *Conclusion:*\n",
    "Dictionaries are a powerful feature in Python, perfect for handling key-value paired data. Mastering them can significantly enhance your coding efficiency.\n"
   ]
  },
  {
   "cell_type": "code",
   "execution_count": 5,
   "metadata": {},
   "outputs": [
    {
     "name": "stdout",
     "output_type": "stream",
     "text": [
      "Before\t {'fName': 'Abdul Ghani', 'name': 'Abdullah', 'rollNo': '23L8027', 'city': 'Lahore', 'university': 'Fast-NUCES', 'mobileNo': '+923008108534'}\n",
      "After\t {}\n"
     ]
    }
   ],
   "source": [
    "from typing import Dict,Union\n",
    "\n",
    "Key = Union[str,int] # Create Custom Type\n",
    "\n",
    "Value = Union[str,int,list,dict,bool,tuple,set] # Create Custom Type\n",
    "\n",
    "data : Dict[Key,Value] = {\n",
    "    \"fName\":\"Abdul Ghani\",\n",
    "    \"name\":\"Abdullah\",\n",
    "    \"rollNo\":\"23L8027\",\n",
    "    \"city\":\"Lahore\",\n",
    "    \"university\":\"Fast-NUCES\",\n",
    "    \"mobileNo\":\"+923008108534\",\n",
    "}\n",
    "\n",
    "print(f\"Before\\t {data}\")\n",
    "\n",
    "data.clear()\n",
    "\n",
    "print(f\"After\\t {data}\")\n",
    "methods: list[str]=[m for m in dir(data) if \"__\" not in m] # List Comprehension"
   ]
  },
  {
   "cell_type": "code",
   "execution_count": 6,
   "metadata": {},
   "outputs": [
    {
     "name": "stdout",
     "output_type": "stream",
     "text": [
      "Before\t {'fName': 'Abdul Ghani', 'name': 'Abdullah', 'rollNo': '23L8027', 'city': 'Lahore', 'university': 'Fast-NUCES', 'mobileNo': '+923008108534'}\n"
     ]
    }
   ],
   "source": [
    "from typing import Dict,Union\n",
    "\n",
    "Key = Union[str,int] # Create Custom Type\n",
    "\n",
    "Value = Union[str,int,list,dict,bool,tuple,set] # Create Custom Type\n",
    "\n",
    "data : Dict[Key,Value] = {\n",
    "    \"fName\":\"Abdul Ghani\",\n",
    "    \"name\":\"Abdullah\",\n",
    "    \"rollNo\":\"23L8027\",\n",
    "    \"city\":\"Lahore\",\n",
    "    \"university\":\"Fast-NUCES\",\n",
    "    \"mobileNo\":\"+923008108534\",\n",
    "}\n",
    "\n",
    "print(f\"Before\\t {data}\")\n",
    "\n",
    "del data"
   ]
  },
  {
   "cell_type": "code",
   "execution_count": 8,
   "metadata": {},
   "outputs": [
    {
     "name": "stdout",
     "output_type": "stream",
     "text": [
      "Before\t {'fName': 'Abdul Ghani', 'name': 'Abdullah', 'rollNo': '23L8027', 'city': 'Lahore', 'university': 'Fast-NUCES', 'mobileNo': '+923008108534'}\n",
      "Fast-NUCES\n",
      "After\t {'fName': 'Abdul Ghani', 'name': 'Abdullah', 'rollNo': '23L8027', 'city': 'Lahore', 'mobileNo': '+923008108534'}\n"
     ]
    }
   ],
   "source": [
    "from typing import Dict,Union\n",
    "\n",
    "Key = Union[str,int] # Create Custom Type\n",
    "\n",
    "Value = Union[str,int,list,dict,bool,tuple,set] # Create Custom Type\n",
    "\n",
    "data : Dict[Key,Value] = {\n",
    "    \"fName\":\"Abdul Ghani\",\n",
    "    \"name\":\"Abdullah\",\n",
    "    \"rollNo\":\"23L8027\",\n",
    "    \"city\":\"Lahore\",\n",
    "    \"university\":\"Fast-NUCES\",\n",
    "    \"mobileNo\":\"+923008108534\",\n",
    "}\n",
    "\n",
    "print(f\"Before\\t {data}\")\n",
    "\n",
    "a: Value = data.pop(\"university\")\n",
    "\n",
    "print(a)\n",
    "\n",
    "print(f\"After\\t {data}\")\n",
    "methods: list[str]=[m for m in dir(data) if \"__\" not in m] # List Comprehension"
   ]
  },
  {
   "cell_type": "code",
   "execution_count": 11,
   "metadata": {},
   "outputs": [
    {
     "name": "stdout",
     "output_type": "stream",
     "text": [
      "Before\t {'fName': 'Abdul Ghani', 'name': 'Abdullah', 'rollNo': '23L8027', 'city': 'Lahore', 'university': 'Fast-NUCES', 'mobileNo': '+923008108534'}\n",
      "('mobileNo', '+923008108534')\n",
      "After\t {'fName': 'Abdul Ghani', 'name': 'Abdullah', 'rollNo': '23L8027', 'city': 'Lahore', 'university': 'Fast-NUCES'}\n",
      "['clear',\n",
      " 'copy',\n",
      " 'fromkeys',\n",
      " 'get',\n",
      " 'items',\n",
      " 'keys',\n",
      " 'pop',\n",
      " 'popitem',\n",
      " 'setdefault',\n",
      " 'update',\n",
      " 'values']\n"
     ]
    }
   ],
   "source": [
    "from typing import Dict,Union\n",
    "from pprint import pprint\n",
    "Key = Union[str,int] # Create Custom Type\n",
    "\n",
    "Value = Union[str,int,list,dict,bool,tuple,set] # Create Custom Type\n",
    "\n",
    "data : Dict[Key,Value] = {\n",
    "    \"fName\":\"Abdul Ghani\",\n",
    "    \"name\":\"Abdullah\",\n",
    "    \"rollNo\":\"23L8027\",\n",
    "    \"city\":\"Lahore\",\n",
    "    \"university\":\"Fast-NUCES\",\n",
    "    \"mobileNo\":\"+923008108534\",\n",
    "}\n",
    "\n",
    "print(f\"Before\\t {data}\")\n",
    "\n",
    "a: Value = data.popitem() # Remove Last Item\n",
    "\n",
    "print(a)\n",
    "\n",
    "print(f\"After\\t {data}\")\n",
    "methods: list[str]=[m for m in dir(data) if \"__\" not in m] # List Comprehension\n",
    "pprint(methods)"
   ]
  },
  {
   "cell_type": "code",
   "execution_count": 13,
   "metadata": {},
   "outputs": [
    {
     "name": "stdout",
     "output_type": "stream",
     "text": [
      "Before\t {'fName': 'Abdul Ghani', 'name': 'Abdullah', 'rollNo': '23L8027', 'city': 'Lahore', 'university': 'Fast-NUCES', 'mobileNo': '+923008108534'}\n",
      "('mobileNo', '+923008108534')\n",
      "After\t {'fName': 'Abdul Ghani', 'name': 'Abdullah', 'rollNo': '23L8027', 'city': 'Lahore', 'university': 'Fast-NUCES'}\n",
      "['clear',\n",
      " 'copy',\n",
      " 'fromkeys',\n",
      " 'get',\n",
      " 'items',\n",
      " 'keys',\n",
      " 'pop',\n",
      " 'popitem',\n",
      " 'setdefault',\n",
      " 'update',\n",
      " 'values']\n"
     ]
    }
   ],
   "source": [
    "from typing import Dict,Union\n",
    "\n",
    "Key = Union[str,int] # Create Custom Type\n",
    "\n",
    "Value = Union[str,int,list,dict,bool,tuple,set] # Create Custom Type\n",
    "\n",
    "data : Dict[Key,Value] = {\n",
    "    \"fName\":\"Abdul Ghani\",\n",
    "    \"name\":\"Abdullah\",\n",
    "    \"rollNo\":\"23L8027\",\n",
    "    \"city\":\"Lahore\",\n",
    "    \"university\":\"Fast-NUCES\",\n",
    "    \"mobileNo\":\"+923008108534\",\n",
    "}\n",
    "\n",
    "print(f\"Before\\t {data}\")\n",
    "\n",
    "a: Value = data.popitem() # Remove Last Item\n",
    "\n",
    "print(a)\n",
    "\n",
    "print(f\"After\\t {data}\")\n",
    "methods: list[str]=[m for m in dir(data) if \"__\" not in m] # List Comprehension\n",
    "pprint(methods)"
   ]
  },
  {
   "cell_type": "code",
   "execution_count": 14,
   "metadata": {},
   "outputs": [
    {
     "name": "stdout",
     "output_type": "stream",
     "text": [
      "Before\t {'fName': 'Abdul Ghani', 'name': 'Abdullah', 'rollNo': '23L8027', 'city': 'Lahore', 'university': 'Fast-NUCES', 'mobileNo': '+923008108534'}\n",
      "Pakistan\n",
      "After\t {'fName': 'Abdul Ghani', 'name': 'Abdullah', 'rollNo': '23L8027', 'city': 'Lahore', 'university': 'Fast-NUCES', 'mobileNo': '+923008108534', 'Country': 'Pakistan'}\n",
      "['clear', 'copy', 'fromkeys', 'get', 'items', 'keys', 'pop', 'popitem', 'setdefault', 'update', 'values']\n"
     ]
    }
   ],
   "source": [
    "from typing import Dict,Union\n",
    "\n",
    "Key = Union[str,int] # Create Custom Type\n",
    "\n",
    "Value = Union[str,int,list,dict,bool,tuple,set] # Create Custom Type\n",
    "\n",
    "data : Dict[Key,Value] = {\n",
    "    \"fName\":\"Abdul Ghani\",\n",
    "    \"name\":\"Abdullah\",\n",
    "    \"rollNo\":\"23L8027\",\n",
    "    \"city\":\"Lahore\",\n",
    "    \"university\":\"Fast-NUCES\",\n",
    "    \"mobileNo\":\"+923008108534\",\n",
    "}\n",
    "\n",
    "print(f\"Before\\t {data}\")\n",
    "\n",
    "a: Value = data.setdefault(\"Country\",\"Pakistan\") # Remove Last Item\n",
    "\n",
    "print(a)\n",
    "\n",
    "print(f\"After\\t {data}\")\n",
    "methods: list[str]=[m for m in dir(data) if \"__\" not in m] # List Comprehension\n",
    "print(methods)"
   ]
  },
  {
   "cell_type": "code",
   "execution_count": 17,
   "metadata": {},
   "outputs": [
    {
     "name": "stdout",
     "output_type": "stream",
     "text": [
      "Before\t {'fName': 'Abdul Ghani', 'name': 'Abdullah', 'rollNo': '23L8027', 'city': 'Lahore', 'university': 'Fast-NUCES', 'mobileNo': '+923008108534'}\n",
      "After\t {'fName': 'Abdul Ghani', 'name': 'Abdullah Ghani', 'rollNo': '23L8027', 'city': 'Lahore', 'university': 'Fast-NUCES', 'mobileNo': '+923008108534', 'age': 30}\n",
      "['clear', 'copy', 'fromkeys', 'get', 'items', 'keys', 'pop', 'popitem', 'setdefault', 'update', 'values']\n"
     ]
    }
   ],
   "source": [
    "from typing import Dict,Union\n",
    "\n",
    "Key = Union[str,int] # Create Custom Type\n",
    "  \n",
    "Value = Union[str,int,list,dict,bool,tuple,set] # Create Custom Type\n",
    "\n",
    "data : Dict[Key,Value] = {\n",
    "    \"fName\":\"Abdul Ghani\",\n",
    "    \"name\":\"Abdullah\",\n",
    "    \"rollNo\":\"23L8027\",\n",
    "    \"city\":\"Lahore\",\n",
    "    \"university\":\"Fast-NUCES\",\n",
    "    \"mobileNo\":\"+923008108534\",\n",
    "}\n",
    "\n",
    "print(f\"Before\\t {data}\")\n",
    "\n",
    "data1: Dict[Key,Value] = {\"name\":\"Abdullah Ghani\",\"age\":30} # Remove Last Item\n",
    "\n",
    "a = data.update(data1)\n",
    "\n",
    "print(f\"After\\t {data}\")\n",
    "methods: list[str]=[m for m in dir(data) if \"__\" not in m] # List Comprehension\n",
    "print(methods)"
   ]
  },
  {
   "cell_type": "code",
   "execution_count": 19,
   "metadata": {},
   "outputs": [
    {
     "data": {
      "text/html": [
       "<div>\n",
       "<style scoped>\n",
       "    .dataframe tbody tr th:only-of-type {\n",
       "        vertical-align: middle;\n",
       "    }\n",
       "\n",
       "    .dataframe tbody tr th {\n",
       "        vertical-align: top;\n",
       "    }\n",
       "\n",
       "    .dataframe thead th {\n",
       "        text-align: right;\n",
       "    }\n",
       "</style>\n",
       "<table border=\"1\" class=\"dataframe\">\n",
       "  <thead>\n",
       "    <tr style=\"text-align: right;\">\n",
       "      <th></th>\n",
       "      <th>rollNo</th>\n",
       "      <th>name</th>\n",
       "      <th>education</th>\n",
       "    </tr>\n",
       "  </thead>\n",
       "  <tbody>\n",
       "    <tr>\n",
       "      <th>0</th>\n",
       "      <td>23L8027</td>\n",
       "      <td>Abdullah</td>\n",
       "      <td>BS</td>\n",
       "    </tr>\n",
       "    <tr>\n",
       "      <th>1</th>\n",
       "      <td>23L8028</td>\n",
       "      <td>Abdul Ghani</td>\n",
       "      <td>MS</td>\n",
       "    </tr>\n",
       "    <tr>\n",
       "      <th>2</th>\n",
       "      <td>23L8029</td>\n",
       "      <td>Muhammad Ali</td>\n",
       "      <td>BS</td>\n",
       "    </tr>\n",
       "    <tr>\n",
       "      <th>3</th>\n",
       "      <td>23L8030</td>\n",
       "      <td>Ali Raza</td>\n",
       "      <td>MS</td>\n",
       "    </tr>\n",
       "    <tr>\n",
       "      <th>4</th>\n",
       "      <td>23L8031</td>\n",
       "      <td>Ahmed Ali</td>\n",
       "      <td>BS</td>\n",
       "    </tr>\n",
       "  </tbody>\n",
       "</table>\n",
       "</div>"
      ],
      "text/plain": [
       "    rollNo          name education\n",
       "0  23L8027      Abdullah        BS\n",
       "1  23L8028   Abdul Ghani        MS\n",
       "2  23L8029  Muhammad Ali        BS\n",
       "3  23L8030      Ali Raza        MS\n",
       "4  23L8031     Ahmed Ali        BS"
      ]
     },
     "metadata": {},
     "output_type": "display_data"
    }
   ],
   "source": [
    "import pandas as pd\n",
    "\n",
    "student_data : Dict[str,list] = {\n",
    "    \"rollNo\":[\"23L8027\",\"23L8028\",\"23L8029\",\"23L8030\",\"23L8031\"],\n",
    "    \"name\":[\"Abdullah\",\"Abdul Ghani\",\"Muhammad Ali\",\"Ali Raza\",\"Ahmed Ali\"],\n",
    "    \"education\":[\"BS\",\"MS\",\"BS\",\"MS\",\"BS\"],\n",
    "}\n",
    "\n",
    "\n",
    "df: pd.DataFrame = pd.DataFrame(student_data)\n",
    "\n",
    "display(df)"
   ]
  },
  {
   "cell_type": "code",
   "execution_count": null,
   "metadata": {},
   "outputs": [],
   "source": []
  }
 ],
 "metadata": {
  "kernelspec": {
   "display_name": "python12",
   "language": "python",
   "name": "python3"
  },
  "language_info": {
   "codemirror_mode": {
    "name": "ipython",
    "version": 3
   },
   "file_extension": ".py",
   "mimetype": "text/x-python",
   "name": "python",
   "nbconvert_exporter": "python",
   "pygments_lexer": "ipython3",
   "version": "3.12.4"
  }
 },
 "nbformat": 4,
 "nbformat_minor": 2
}
