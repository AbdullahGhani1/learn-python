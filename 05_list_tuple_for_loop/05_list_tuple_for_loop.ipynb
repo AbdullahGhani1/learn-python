{
 "cells": [
  {
   "cell_type": "markdown",
   "metadata": {},
   "source": [
    "# List\n",
    "- iteration operation with loop\n",
    "- apply any operation on element\n",
    "- Introduction\n",
    "- What is List Comprehension?\n",
    "- Advantages of Using List Comprehensions\n",
    "- Practical Examples of List Comprehensions\n",
    "- Understanding Tuples in Python\n",
    "- Tuple vs List: When to Use Each?\n",
    "- For Loops Explained\n",
    "- Practical Examples Using For Loops\n",
    "- For-Else Loop: What and Why?\n",
    "- Real-world Examples of For-Else Loops\n",
    "- Conclusion and Recap"
   ]
  },
  {
   "cell_type": "code",
   "execution_count": 1,
   "metadata": {},
   "outputs": [
    {
     "name": "stdout",
     "output_type": "stream",
     "text": [
      "['sir Zia', 'Abdullah Ghani', 'Qasim']\n"
     ]
    }
   ],
   "source": [
    "names: list[str] = ['sir Zia','Abdullah Ghani','Qasim']\n",
    "print(f'{names}')"
   ]
  },
  {
   "cell_type": "code",
   "execution_count": 1,
   "metadata": {},
   "outputs": [
    {
     "name": "stdout",
     "output_type": "stream",
     "text": [
      "sir Zia\n",
      "Abdullah Ghani\n",
      "Qasim\n"
     ]
    }
   ],
   "source": [
    "names: list[str] = ['sir Zia','Abdullah Ghani','Qasim']\n",
    "\n",
    "for name in names:\n",
    "    print(f'{name}')"
   ]
  },
  {
   "cell_type": "code",
   "execution_count": 3,
   "metadata": {},
   "outputs": [
    {
     "name": "stdout",
     "output_type": "stream",
     "text": [
      "sir Zia\n",
      "Abdullah Ghani\n",
      "Qasim\n"
     ]
    }
   ],
   "source": [
    "counter: int = 0\n",
    "\n",
    "while counter<len(names):\n",
    "    print(f'{names[counter]}')\n",
    "    counter+=1"
   ]
  },
  {
   "cell_type": "code",
   "execution_count": 8,
   "metadata": {},
   "outputs": [
    {
     "data": {
      "text/plain": [
       "\"\\nfor( counter=0; counter<len(names); counter+=1){\\n    print(f'{names[counter]}')\\n}\\n\""
      ]
     },
     "execution_count": 8,
     "metadata": {},
     "output_type": "execute_result"
    }
   ],
   "source": [
    "'''\n",
    "for( counter=0; counter<len(names); counter+=1){\n",
    "    print(f'{names[counter]}')\n",
    "}\n",
    "'''"
   ]
  },
  {
   "cell_type": "markdown",
   "metadata": {},
   "source": [
    "for `name` in `names` `:`<br>\n",
    "<pre>   print(f'{name}')"
   ]
  },
  {
   "cell_type": "code",
   "execution_count": 14,
   "metadata": {},
   "outputs": [
    {
     "name": "stdout",
     "output_type": "stream",
     "text": [
      "Welcome Dear Teacher Sir Zia\n",
      "PIAIC GEN AI Team\n",
      "Welcome Dear Teacher Abdullah Ghani\n",
      "PIAIC GEN AI Team\n",
      "Welcome Dear Teacher Qasim\n",
      "PIAIC GEN AI Team\n",
      "\n",
      "PAKISTAN Zinda Bad\n"
     ]
    }
   ],
   "source": [
    "for name in names:\n",
    "    print(f'Welcome Dear Teacher {name.title()}')\n",
    "\n",
    "    print (\"PIAIC GEN AI Team\")\n",
    "\n",
    "print (\"\\nPAKISTAN Zinda Bad\")\n"
   ]
  },
  {
   "cell_type": "code",
   "execution_count": 19,
   "metadata": {},
   "outputs": [
    {
     "name": "stdout",
     "output_type": "stream",
     "text": [
      "Welcome Dear Teacher Qasim\n",
      "Welcome Dear Teacher Abdullah Ghani\n",
      "Welcome Dear Teacher Sir Zia\n"
     ]
    }
   ],
   "source": [
    "names: list[str] = ['sir Zia','Abdullah Ghani','Qasim']\n",
    "# reverse the loop\n",
    "for name in names[::-1]:\n",
    "    print(f'Welcome Dear Teacher {name.title()}')"
   ]
  },
  {
   "cell_type": "code",
   "execution_count": 21,
   "metadata": {},
   "outputs": [
    {
     "name": "stdout",
     "output_type": "stream",
     "text": [
      "('sir Zia', '123')\n",
      "('Abdullah Ghani', '223')\n",
      "('Qasim', '323')\n"
     ]
    }
   ],
   "source": [
    "#  not change the original tupples\n",
    "#\n",
    "data_base : list[tuple[str,str]]= [\n",
    "    ('sir Zia','123'),\n",
    "    ('Abdullah Ghani','223'),\n",
    "    ('Qasim','323')\n",
    "]\n",
    "\n",
    "for row in data_base:\n",
    "    user,password = row\n",
    "    print(f'{user,password}')"
   ]
  },
  {
   "cell_type": "code",
   "execution_count": 22,
   "metadata": {},
   "outputs": [
    {
     "name": "stdout",
     "output_type": "stream",
     "text": [
      "('sir Zia', '123')\n",
      "('Abdullah Ghani', '223')\n",
      "('Qasim', '323')\n",
      "Invalid User\n"
     ]
    }
   ],
   "source": [
    "data_base : list[tuple[str,str]]= [\n",
    "    ('sir Zia','123'),\n",
    "    ('Abdullah Ghani','223'),\n",
    "    ('Qasim','323')\n",
    "]\n",
    "input_user = input('Enter user name')\n",
    "input_password = input('Enter password')\n",
    "\n",
    "for row in data_base:\n",
    "    user,password = row\n",
    "    if input_user == user and input_password == password:\n",
    "        print('Valid User')\n",
    "        break\n",
    "    print(f'{user,password}')\n",
    "else:\n",
    "    print('not found or Invalid User')"
   ]
  }
 ],
 "metadata": {
  "kernelspec": {
   "display_name": "myenv",
   "language": "python",
   "name": "python3"
  },
  "language_info": {
   "codemirror_mode": {
    "name": "ipython",
    "version": 3
   },
   "file_extension": ".py",
   "mimetype": "text/x-python",
   "name": "python",
   "nbconvert_exporter": "python",
   "pygments_lexer": "ipython3",
   "version": "3.12.0"
  }
 },
 "nbformat": 4,
 "nbformat_minor": 2
}
