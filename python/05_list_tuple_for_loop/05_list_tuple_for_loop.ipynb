{
 "cells": [
  {
   "cell_type": "markdown",
   "metadata": {},
   "source": [
    "# List\n",
    "- iteration operation with loop\n",
    "- apply any operation on element\n",
    "- Introduction\n",
    "- What is List Comprehension?\n",
    "- Advantages of Using List Comprehensions\n",
    "- Practical Examples of List Comprehensions\n",
    "- Understanding Tuples in Python\n",
    "- Tuple vs List: When to Use Each?\n",
    "- For Loops Explained\n",
    "- Practical Examples Using For Loops\n",
    "- For-Else Loop: What and Why?\n",
    "- Real-world Examples of For-Else Loops\n",
    "- Conclusion and Recap"
   ]
  },
  {
   "cell_type": "code",
   "execution_count": 1,
   "metadata": {},
   "outputs": [
    {
     "name": "stdout",
     "output_type": "stream",
     "text": [
      "['sir Zia', 'Abdullah Ghani', 'Qasim']\n"
     ]
    }
   ],
   "source": [
    "names: list[str] = ['sir Zia','Abdullah Ghani','Qasim']\n",
    "print(f'{names}')"
   ]
  },
  {
   "cell_type": "code",
   "execution_count": 2,
   "metadata": {},
   "outputs": [
    {
     "name": "stdout",
     "output_type": "stream",
     "text": [
      "sir Zia\n",
      "Abdullah Ghani\n",
      "Qasim\n"
     ]
    }
   ],
   "source": [
    "names: list[str] = ['sir Zia','Abdullah Ghani','Qasim']\n",
    "\n",
    "for name in names:\n",
    "    print(f'{name}')"
   ]
  },
  {
   "cell_type": "code",
   "execution_count": 3,
   "metadata": {},
   "outputs": [
    {
     "name": "stdout",
     "output_type": "stream",
     "text": [
      "sir Zia\n",
      "Abdullah Ghani\n",
      "Qasim\n"
     ]
    }
   ],
   "source": [
    "counter :int = 0;\n",
    "while counter<len(names):\n",
    "    print(f'{names[counter]}')\n",
    "    counter+=1"
   ]
  },
  {
   "cell_type": "code",
   "execution_count": 4,
   "metadata": {},
   "outputs": [
    {
     "data": {
      "text/plain": [
       "\"\\nfor( counter=0; counter<len(names); counter+=1){\\n    print(f'{names[counter]}')\\n}\\n\""
      ]
     },
     "execution_count": 4,
     "metadata": {},
     "output_type": "execute_result"
    }
   ],
   "source": [
    "'''\n",
    "for( counter=0; counter<len(names); counter+=1){\n",
    "    print(f'{names[counter]}')\n",
    "}\n",
    "'''"
   ]
  },
  {
   "cell_type": "markdown",
   "metadata": {},
   "source": [
    "for `name` in `names` `:`<br>\n",
    "<pre>   print(f'{name}')"
   ]
  },
  {
   "cell_type": "code",
   "execution_count": 14,
   "metadata": {},
   "outputs": [
    {
     "name": "stdout",
     "output_type": "stream",
     "text": [
      "Welcome Dear Teacher Sir Zia\n",
      "PIAIC GEN AI Team\n",
      "Welcome Dear Teacher Abdullah Ghani\n",
      "PIAIC GEN AI Team\n",
      "Welcome Dear Teacher Qasim\n",
      "PIAIC GEN AI Team\n",
      "\n",
      "PAKISTAN Zinda Bad\n"
     ]
    }
   ],
   "source": [
    "for name in names:\n",
    "    print(f'Welcome Dear Teacher {name.title()}')\n",
    "\n",
    "    print (\"PIAIC GEN AI Team\")\n",
    "\n",
    "print (\"\\nPAKISTAN Zinda Bad\")\n"
   ]
  },
  {
   "cell_type": "code",
   "execution_count": 19,
   "metadata": {},
   "outputs": [
    {
     "name": "stdout",
     "output_type": "stream",
     "text": [
      "Welcome Dear Teacher Qasim\n",
      "Welcome Dear Teacher Abdullah Ghani\n",
      "Welcome Dear Teacher Sir Zia\n"
     ]
    }
   ],
   "source": [
    "names: list[str] = ['sir Zia','Abdullah Ghani','Qasim']\n",
    "# reverse the loop\n",
    "for name in names[::-1]:\n",
    "    print(f'Welcome Dear Teacher {name.title()}')"
   ]
  },
  {
   "cell_type": "code",
   "execution_count": 21,
   "metadata": {},
   "outputs": [
    {
     "name": "stdout",
     "output_type": "stream",
     "text": [
      "('sir Zia', '123')\n",
      "('Abdullah Ghani', '223')\n",
      "('Qasim', '323')\n"
     ]
    }
   ],
   "source": [
    "#  not change the original tupples\n",
    "#\n",
    "data_base : list[tuple[str,str]]= [\n",
    "    ('sir Zia','123'),\n",
    "    ('Abdullah Ghani','223'),\n",
    "    ('Qasim','323')\n",
    "]\n",
    "\n",
    "for row in data_base:\n",
    "    user,password = row\n",
    "    print(f'{user,password}')"
   ]
  },
  {
   "cell_type": "code",
   "execution_count": 5,
   "metadata": {},
   "outputs": [
    {
     "name": "stdout",
     "output_type": "stream",
     "text": [
      "('sir Zia', '123')\n",
      "('Abdullah Ghani', '223')\n",
      "Valid User\n"
     ]
    }
   ],
   "source": [
    "data_base : list[tuple[str,str]]= [\n",
    "    ('sir Zia','123'),\n",
    "    ('Abdullah Ghani','223'),\n",
    "    ('Qasim','323')\n",
    "]\n",
    "input_user = input('Enter user name')\n",
    "input_password = input('Enter password')\n",
    "\n",
    "for row in data_base:\n",
    "    user,password = row\n",
    "    if input_user == user and input_password == password:\n",
    "        print('Valid User')\n",
    "        break\n",
    "    print(f'{user,password}')\n",
    "else:\n",
    "    print('not found or Invalid User')"
   ]
  },
  {
   "cell_type": "code",
   "execution_count": 6,
   "metadata": {},
   "outputs": [
    {
     "name": "stdout",
     "output_type": "stream",
     "text": [
      "Sir Zia\n",
      "Abdullah Ghani\n",
      "Qasim\n",
      "No Name Found\n"
     ]
    }
   ],
   "source": [
    "names: list[str] = ['sir Zia','Abdullah Ghani','Qasim']\n",
    "# reverse the loop\n",
    "for name in names:\n",
    "    print(f'{name.title()}')\n",
    "\n",
    "else:\n",
    "    print('No Name Found')"
   ]
  },
  {
   "cell_type": "code",
   "execution_count": 7,
   "metadata": {},
   "outputs": [
    {
     "name": "stdout",
     "output_type": "stream",
     "text": [
      "Sir Zia\n",
      "Abdullah Ghani\n",
      "Qasim\n"
     ]
    }
   ],
   "source": [
    "names: list[str] = ['sir Zia','Abdullah Ghani','Qasim']\n",
    "for name in names:\n",
    "    print(f'{name.title()}')"
   ]
  },
  {
   "cell_type": "code",
   "execution_count": 9,
   "metadata": {},
   "outputs": [
    {
     "name": "stdout",
     "output_type": "stream",
     "text": [
      "Qasim\n",
      "Abdullah Ghani\n",
      "Sir Zia\n"
     ]
    }
   ],
   "source": [
    "names: list[str] = ['sir Zia','Abdullah Ghani','Qasim']\n",
    "# reverse the loop\n",
    "for name in names[::-1]:\n",
    "    print(f'{name.title()}')"
   ]
  },
  {
   "cell_type": "code",
   "execution_count": 11,
   "metadata": {},
   "outputs": [
    {
     "name": "stdout",
     "output_type": "stream",
     "text": [
      "Alice\n",
      "David\n",
      "Carolina\n",
      "I can't wait to see your next trick, Carolina\n"
     ]
    }
   ],
   "source": [
    "magicians: list[str] = ['alice','david','carolina']\n",
    "for magician in magicians:\n",
    "    print(f'{magician.title()}')\n",
    "\n",
    "print(f'I can\\'t wait to see your next trick, {magician.title()}')"
   ]
  },
  {
   "cell_type": "code",
   "execution_count": 13,
   "metadata": {},
   "outputs": [
    {
     "ename": "IndentationError",
     "evalue": "unexpected indent (3115137365.py, line 2)",
     "output_type": "error",
     "traceback": [
      "\u001b[0;36m  Cell \u001b[0;32mIn[13], line 2\u001b[0;36m\u001b[0m\n\u001b[0;31m    print(message)\u001b[0m\n\u001b[0m    ^\u001b[0m\n\u001b[0;31mIndentationError\u001b[0m\u001b[0;31m:\u001b[0m unexpected indent\n"
     ]
    }
   ],
   "source": [
    "message= \"Hello Un nacessary indentation\"\n",
    "    print(message)\n"
   ]
  },
  {
   "cell_type": "markdown",
   "metadata": {},
   "source": [
    "# Numbers with loop\n",
    " * range(start,end,step)"
   ]
  },
  {
   "cell_type": "code",
   "execution_count": 1,
   "metadata": {},
   "outputs": [
    {
     "data": {
      "text/plain": [
       "range(0, 10)"
      ]
     },
     "execution_count": 1,
     "metadata": {},
     "output_type": "execute_result"
    }
   ],
   "source": [
    "range(1,10)"
   ]
  },
  {
   "cell_type": "code",
   "execution_count": 2,
   "metadata": {},
   "outputs": [
    {
     "data": {
      "text/plain": [
       "[0, 1, 2, 3, 4, 5, 6, 7, 8, 9]"
      ]
     },
     "execution_count": 2,
     "metadata": {},
     "output_type": "execute_result"
    }
   ],
   "source": [
    "list(range(10)) # starting=0 ending n-1"
   ]
  },
  {
   "cell_type": "code",
   "execution_count": 8,
   "metadata": {},
   "outputs": [
    {
     "data": {
      "text/plain": [
       "[2, 4, 6, 8, 10, 12, 14, 16, 18, 20]"
      ]
     },
     "execution_count": 8,
     "metadata": {},
     "output_type": "execute_result"
    }
   ],
   "source": [
    "list(range(2,21,2))"
   ]
  },
  {
   "cell_type": "code",
   "execution_count": 7,
   "metadata": {},
   "outputs": [
    {
     "data": {
      "text/plain": [
       "[3, 6, 9, 12, 15, 18, 21, 24, 27, 30]"
      ]
     },
     "execution_count": 7,
     "metadata": {},
     "output_type": "execute_result"
    }
   ],
   "source": [
    "list(range(3,31,3))"
   ]
  },
  {
   "cell_type": "code",
   "execution_count": 14,
   "metadata": {},
   "outputs": [
    {
     "name": "stdout",
     "output_type": "stream",
     "text": [
      "2 * 1 = 2\n",
      "2 * 2 = 4\n",
      "2 * 3 = 6\n",
      "2 * 4 = 8\n",
      "2 * 5 = 10\n",
      "2 * 6 = 12\n",
      "2 * 7 = 14\n",
      "2 * 8 = 16\n",
      "2 * 9 = 18\n",
      "2 * 10 = 20\n"
     ]
    }
   ],
   "source": [
    "for n in range(2,21,2):\n",
    "    print(f'2 * {int(n/2)} = {n}')"
   ]
  },
  {
   "cell_type": "code",
   "execution_count": 18,
   "metadata": {},
   "outputs": [
    {
     "data": {
      "text/plain": [
       "[(0, 'alice'), (1, 'david'), (2, 'carolina')]"
      ]
     },
     "execution_count": 18,
     "metadata": {},
     "output_type": "execute_result"
    }
   ],
   "source": [
    "                    #      0       0       0\n",
    "magicians: list[str] = ['alice','david','carolina']\n",
    "list(enumerate(magicians))"
   ]
  },
  {
   "cell_type": "code",
   "execution_count": 21,
   "metadata": {},
   "outputs": [
    {
     "name": "stdout",
     "output_type": "stream",
     "text": [
      "0 alice\n",
      "1 david\n",
      "2 carolina\n"
     ]
    }
   ],
   "source": [
    "for index, name in enumerate(magicians):\n",
    "    print(f'{index} {name}')"
   ]
  },
  {
   "cell_type": "code",
   "execution_count": 10,
   "metadata": {},
   "outputs": [
    {
     "name": "stdout",
     "output_type": "stream",
     "text": [
      "1\n",
      "2\n",
      "3\n",
      "4\n",
      "5\n",
      "6\n",
      "7\n",
      "8\n",
      "9\n",
      "10\n"
     ]
    }
   ],
   "source": [
    "for n in range(1,11):\n",
    "    print(f'{n}')"
   ]
  },
  {
   "cell_type": "code",
   "execution_count": 24,
   "metadata": {},
   "outputs": [
    {
     "name": "stdout",
     "output_type": "stream",
     "text": [
      "5 * 1 = 5\n",
      "5 * 2 = 10\n",
      "5 * 3 = 15\n",
      "5 * 4 = 20\n",
      "5 * 5 = 25\n",
      "5 * 6 = 30\n",
      "5 * 7 = 35\n",
      "5 * 8 = 40\n",
      "5 * 9 = 45\n",
      "5 * 10 = 50\n"
     ]
    }
   ],
   "source": [
    "table = input('Enter a number to print table')\n",
    "for n in range(1,11,1):\n",
    "    print(f'{table} * {n} = {n*int(table)}')"
   ]
  },
  {
   "cell_type": "code",
   "execution_count": 25,
   "metadata": {},
   "outputs": [
    {
     "name": "stdout",
     "output_type": "stream",
     "text": [
      "[1, 4, 9, 16, 25, 36, 49, 64, 81, 100]\n"
     ]
    }
   ],
   "source": [
    "squares= [ ]\n",
    "for value in range(1,11):\n",
    "    square= value **2\n",
    "    squares.append(square)\n",
    "print(squares)"
   ]
  },
  {
   "cell_type": "markdown",
   "metadata": {},
   "source": [
    "# List Comprehansive\n",
    "```\n",
    "for item in item_list:\n",
    "    loop_body\n",
    "```\n",
    "\n",
    "### Comprehensive Style\n",
    "\n",
    "```\n",
    "loop_body for item in items_list\n",
    "```\n"
   ]
  },
  {
   "cell_type": "code",
   "execution_count": 11,
   "metadata": {},
   "outputs": [
    {
     "data": {
      "text/plain": [
       "[1, 4, 9, 16, 25, 36, 49, 64, 81, 100]"
      ]
     },
     "execution_count": 11,
     "metadata": {},
     "output_type": "execute_result"
    }
   ],
   "source": [
    "[i**2 for i in range(1,11)]"
   ]
  },
  {
   "cell_type": "code",
   "execution_count": 27,
   "metadata": {},
   "outputs": [
    {
     "data": {
      "text/plain": [
       "[1, 4, 9, 16, 25, 36, 49, 64, 81, 100]"
      ]
     },
     "execution_count": 27,
     "metadata": {},
     "output_type": "execute_result"
    }
   ],
   "source": [
    "[i**2 for i in range(1,11)]"
   ]
  },
  {
   "cell_type": "code",
   "execution_count": 17,
   "metadata": {},
   "outputs": [
    {
     "name": "stdout",
     "output_type": "stream",
     "text": [
      "[0, 1, 2, 3, 4, 5, 6, 7, 8, 9]\n",
      "0\n",
      "9\n",
      "45\n"
     ]
    }
   ],
   "source": [
    "digits:list[int]=[0,1,2,3,4,5,6,7,8,9]\n",
    "print(digits)\n",
    "print(min(digits))\n",
    "print(max(digits))\n",
    "print(sum(digits))\n",
    "\n"
   ]
  },
  {
   "cell_type": "code",
   "execution_count": 30,
   "metadata": {},
   "outputs": [
    {
     "name": "stdout",
     "output_type": "stream",
     "text": [
      "[0, 1, 2, 3, 4, 5, 6, 7, 8, 9]\n",
      "9\n",
      "0\n",
      "45\n"
     ]
    }
   ],
   "source": [
    "digits :list[int] = [0,1,2,3,4,5,6,7,8,9]\n",
    "print(digits)\n",
    "print(max(digits))\n",
    "print(min(digits))\n",
    "print(sum(digits))"
   ]
  },
  {
   "cell_type": "markdown",
   "metadata": {},
   "source": [
    "### Shallow Copy | Deep Copy"
   ]
  },
  {
   "cell_type": "code",
   "execution_count": 34,
   "metadata": {},
   "outputs": [
    {
     "name": "stdout",
     "output_type": "stream",
     "text": [
      "['pizza', 'falafel', 'carrot cake']\n",
      "['pizza', 'falafel', 'carrot cake']\n",
      "['pizza', 'falafel', 'carrot cake']\n",
      "['Tikka', 'falafel', 'carrot cake']\n"
     ]
    }
   ],
   "source": [
    "my_foods = ['pizza','falafel','carrot cake']\n",
    "friend_foods = my_foods[:] #slicing alway provide deep copy\n",
    "\n",
    "print(f'{my_foods}')\n",
    "print(f'{friend_foods}')\n",
    "\n",
    "friend_foods[0] = \"Tikka\"\n",
    "\n",
    "print(f'{my_foods}')\n",
    "print(f'{friend_foods}')\n",
    "\n"
   ]
  },
  {
   "cell_type": "markdown",
   "metadata": {},
   "source": [
    "## Tuples"
   ]
  },
  {
   "cell_type": "code",
   "execution_count": 38,
   "metadata": {},
   "outputs": [
    {
     "name": "stdout",
     "output_type": "stream",
     "text": [
      "A\n",
      "('A', 'B')\n"
     ]
    }
   ],
   "source": [
    "names: tuple[str] = (\"A\",\"B\",\"C\")\n",
    "print(f'{names[0]}')\n",
    "print(f'{names[0:2]}')"
   ]
  },
  {
   "cell_type": "code",
   "execution_count": 39,
   "metadata": {},
   "outputs": [
    {
     "ename": "TypeError",
     "evalue": "'tuple' object does not support item assignment",
     "output_type": "error",
     "traceback": [
      "\u001b[0;31m---------------------------------------------------------------------------\u001b[0m",
      "\u001b[0;31mTypeError\u001b[0m                                 Traceback (most recent call last)",
      "Cell \u001b[0;32mIn[39], line 2\u001b[0m\n\u001b[1;32m      1\u001b[0m names: \u001b[38;5;28mtuple\u001b[39m[\u001b[38;5;28mstr\u001b[39m] \u001b[38;5;241m=\u001b[39m (\u001b[38;5;124m\"\u001b[39m\u001b[38;5;124mA\u001b[39m\u001b[38;5;124m\"\u001b[39m,\u001b[38;5;124m\"\u001b[39m\u001b[38;5;124mB\u001b[39m\u001b[38;5;124m\"\u001b[39m,\u001b[38;5;124m\"\u001b[39m\u001b[38;5;124mC\u001b[39m\u001b[38;5;124m\"\u001b[39m)\n\u001b[0;32m----> 2\u001b[0m \u001b[43mnames\u001b[49m\u001b[43m[\u001b[49m\u001b[38;5;241;43m0\u001b[39;49m\u001b[43m]\u001b[49m \u001b[38;5;241m=\u001b[39m \u001b[38;5;124m\"\u001b[39m\u001b[38;5;124mPakistan\u001b[39m\u001b[38;5;124m\"\u001b[39m\n",
      "\u001b[0;31mTypeError\u001b[0m: 'tuple' object does not support item assignment"
     ]
    }
   ],
   "source": [
    "names: tuple[str] = (\"A\",\"B\",\"C\")\n",
    "names[0] = \"Pakistan\" #tupple does not support item assignment and uodation\n"
   ]
  },
  {
   "cell_type": "code",
   "execution_count": 42,
   "metadata": {},
   "outputs": [
    {
     "name": "stdout",
     "output_type": "stream",
     "text": [
      "Pakistan\n",
      "('Pakistan', [100, 2, 3], 'C')\n"
     ]
    }
   ],
   "source": [
    "data: tuple = (\"Pakistan\",[1,2,3],\"C\")\n",
    "print(f'{data[0]}')\n",
    "# data[0]=\"China\"\n",
    "data[1][0]=100\n",
    "print(f'{data}')\n",
    "\n"
   ]
  },
  {
   "cell_type": "markdown",
   "metadata": {},
   "source": [
    "4-1. Pizzas: Think of at least three kinds of your favorite pizza. Store these\n",
    "pizza names in a list, and then use a for loop to print the name of each pizza.\n",
    "\n",
    "- Modify your for loop to print a sentence using the name of the pizza,\n",
    "instead of printing just the name of the pizza. For each pizza, you should\n",
    "have one line of output containing a simple statement like I like pep-\n",
    "peroni pizza.\n",
    "\n",
    "- Add a line at the end of your program, outside the for loop, that states\n",
    "how much you like pizza. The output should consist of three or more lines\n",
    "about the kinds of pizza you like and then an additional sentence, such as\n",
    "I really love pizza!"
   ]
  },
  {
   "cell_type": "code",
   "execution_count": 44,
   "metadata": {},
   "outputs": [
    {
     "name": "stdout",
     "output_type": "stream",
     "text": [
      "I like Margherita pizza.\n",
      "I like Pepperoni pizza.\n",
      "I like Hawaiian pizza.\n",
      "I'm particularly fond of classic Margherita pizzas, with their simple yet perfect combination of fresh mozzarella, and tomatoes on a thin crust. Another favorite is the spicy pepperoni pizza, especially when it's loaded with extra cheese and has that slightly crispy edge to the pepperoni. I really love pizza!\n"
     ]
    }
   ],
   "source": [
    "pizzas = ['Margherita', 'Pepperoni', 'Hawaiian']\n",
    "\n",
    "for pizza in pizzas:\n",
    "    print(f'I like {pizza} pizza.')\n",
    "\n",
    "print('I\\'m particularly fond of classic Margherita pizzas, with their simple yet perfect combination of fresh mozzarella, and tomatoes on a thin crust. Another favorite is the spicy pepperoni pizza, especially when it\\'s loaded with extra cheese and has that slightly crispy edge to the pepperoni. I really love pizza!')\n"
   ]
  },
  {
   "cell_type": "markdown",
   "metadata": {},
   "source": [
    "4-2. Animals: Think of at least three different animals that have a common char-\n",
    "acteristic. Store the names of these animals in a list, and then use a for loop to\n",
    "print out the name of each animal.\n",
    "\n",
    "- Modify your program to print a statement about each animal, such as A\n",
    "dog would make a great pet.\n",
    "\n",
    "- Add a line at the end of your program, stating what these animals have in\n",
    "common. You could print a sentence, such as Any of these animals would\n",
    "make a great pet!"
   ]
  },
  {
   "cell_type": "code",
   "execution_count": 43,
   "metadata": {},
   "outputs": [
    {
     "name": "stdout",
     "output_type": "stream",
     "text": [
      "I like Margherita pizza.\n",
      "I like Pepperoni pizza.\n",
      "I like Hawaiian pizza.\n",
      "I'm particularly fond of classic Margherita pizzas, with their simple yet perfect combination of fresh mozzarella, tomatoes, and basil on a thin crust. Another favorite is the spicy pepperoni pizza, especially when it's loaded with extra cheese and has that slightly crispy edge to the pepperoni. I really love pizza!\n"
     ]
    }
   ],
   "source": []
  },
  {
   "cell_type": "markdown",
   "metadata": {},
   "source": [
    "4-3. Counting to Twenty: Use a for loop to print the numbers from 1 to 20,\n",
    "inclusive."
   ]
  },
  {
   "cell_type": "code",
   "execution_count": null,
   "metadata": {},
   "outputs": [],
   "source": []
  },
  {
   "cell_type": "markdown",
   "metadata": {},
   "source": [
    "4-4. One Million: Make a list of the numbers from one to one million, and then\n",
    "use a for loop to print the numbers. (If the output is taking too long, stop it by\n",
    "pressing CTRL-C or by closing the output window.)"
   ]
  },
  {
   "cell_type": "code",
   "execution_count": null,
   "metadata": {},
   "outputs": [],
   "source": []
  },
  {
   "cell_type": "markdown",
   "metadata": {},
   "source": [
    "4-5. Summing a Million: Make a list of the numbers from one to one million, and\n",
    "then use min() and max() to make sure your list actually starts at one and ends\n",
    "at one million. Also, use the sum() function to see how quickly Python can add\n",
    "a million numbers."
   ]
  },
  {
   "cell_type": "code",
   "execution_count": null,
   "metadata": {},
   "outputs": [],
   "source": []
  },
  {
   "cell_type": "markdown",
   "metadata": {},
   "source": [
    "4-6. Odd Numbers: Use the third argument of the range() function to make a list\n",
    "of the odd numbers from 1 to 20. Use a for loop to print each number."
   ]
  },
  {
   "cell_type": "code",
   "execution_count": null,
   "metadata": {},
   "outputs": [],
   "source": []
  },
  {
   "cell_type": "markdown",
   "metadata": {},
   "source": [
    "4-7. Threes: Make a list of the multiples of 3, from 3 to 30. Use a for loop to\n",
    "print the numbers in your list."
   ]
  },
  {
   "cell_type": "code",
   "execution_count": null,
   "metadata": {},
   "outputs": [],
   "source": []
  },
  {
   "cell_type": "markdown",
   "metadata": {},
   "source": [
    "4-8. Cubes: A number raised to the third power is called a cube. For example,\n",
    "the cube of 2 is written as 2**3 in Python. Make a list of the first 10 cubes (that\n",
    "is, the cube of each integer from 1 through 10), and use a for loop to print out\n",
    "the value of each cube."
   ]
  },
  {
   "cell_type": "code",
   "execution_count": null,
   "metadata": {},
   "outputs": [],
   "source": []
  },
  {
   "cell_type": "markdown",
   "metadata": {},
   "source": [
    "4-9. Cube Comprehension: Use a list comprehension to generate a list of the first\n",
    "10 cubes."
   ]
  },
  {
   "cell_type": "code",
   "execution_count": 2,
   "metadata": {},
   "outputs": [
    {
     "name": "stdout",
     "output_type": "stream",
     "text": [
      "2.2.1\n"
     ]
    }
   ],
   "source": [
    "# %pip install torch torchvision torchaudio\n",
    "import torch\n",
    "print(torch.__version__)"
   ]
  },
  {
   "cell_type": "code",
   "execution_count": 3,
   "metadata": {},
   "outputs": [
    {
     "name": "stdout",
     "output_type": "stream",
     "text": [
      "Collecting youtube-dl\n",
      "  Downloading youtube_dl-2021.12.17-py2.py3-none-any.whl.metadata (1.5 kB)\n",
      "Downloading youtube_dl-2021.12.17-py2.py3-none-any.whl (1.9 MB)\n",
      "\u001b[2K   \u001b[90m━━━━━━━━━━━━━━━━━━━━━━━━━━━━━━━━━━━━━━━━\u001b[0m \u001b[32m1.9/1.9 MB\u001b[0m \u001b[31m161.8 kB/s\u001b[0m eta \u001b[36m0:00:00\u001b[0m00:01\u001b[0m00:01\u001b[0m\n",
      "\u001b[?25hInstalling collected packages: youtube-dl\n",
      "Successfully installed youtube-dl-2021.12.17\n",
      "Note: you may need to restart the kernel to use updated packages.\n"
     ]
    }
   ],
   "source": [
    "# %pip install youtube-dl"
   ]
  },
  {
   "cell_type": "markdown",
   "metadata": {},
   "source": [
    "4-10. Slices: Using one of the programs you wrote in this chapter, add several\n",
    "lines to the end of the program that do the following:\n",
    "\n",
    "- Print the message The first three items in the list are:. Then use a slice to\n",
    "print the first three items from that program’s list.\n",
    "\n",
    "- Print the message Three items from the middle of the list are:. Then use a\n",
    "slice to print three items from the middle of the list.\n",
    "\n",
    "- Print the message The last three items in the list are:. Then use a slice to\n",
    "print the last three items in the list."
   ]
  },
  {
   "cell_type": "code",
   "execution_count": null,
   "metadata": {},
   "outputs": [],
   "source": []
  },
  {
   "cell_type": "markdown",
   "metadata": {},
   "source": [
    "4-11. My Pizzas, Your Pizzas: Start with your program from Exercise 4-1 (page 56).\n",
    "Make a copy of the list of pizzas, and call it friend_pizzas. Then, do the\n",
    "following:\n",
    "\n",
    "- Add a new pizza to the original list.\n",
    "\n",
    "- Add a different pizza to the list friend_pizzas.\n",
    "\n",
    "- Prove that you have two separate lists. Print the message My favorite piz-\n",
    "zas are:, and then use a for loop to print the first list. Print the message My\n",
    "friend’s favorite pizzas are:, and then use a for loop to print the second list.\n",
    "Make sure each new pizza is stored in the appropriate list."
   ]
  },
  {
   "cell_type": "code",
   "execution_count": null,
   "metadata": {},
   "outputs": [],
   "source": []
  },
  {
   "cell_type": "markdown",
   "metadata": {},
   "source": [
    "4-12. More Loops: All versions of foods.py in this section have avoided using\n",
    "for loops when printing, to save space. Choose a version of foods.py, and\n",
    "write two for loops to print each list of foods."
   ]
  },
  {
   "cell_type": "markdown",
   "metadata": {},
   "source": [
    "4-13. Buffet: A buffet-style restaurant offers only five basic foods. Think of five\n",
    "simple foods, and store them in a tuple.\n",
    "\n",
    "- Use a for loop to print each food the restaurant offers.\n",
    "- Try to modify one of the items, and make sure that Python rejects the\n",
    "change.\n",
    "\n",
    "- The restaurant changes its menu, replacing two of the items with different\n",
    "foods. Add a line that rewrites the tuple, and then use a for loop to print\n",
    "each of the items on the revised menu."
   ]
  },
  {
   "cell_type": "code",
   "execution_count": null,
   "metadata": {},
   "outputs": [],
   "source": []
  },
  {
   "cell_type": "markdown",
   "metadata": {},
   "source": [
    "4-14. PEP 8: Look through the original PEP 8 style guide at https://python.org/\n",
    "dev/peps/pep-0008. You won’t use much of it now, but it might be interesting\n",
    "to skim through it."
   ]
  },
  {
   "cell_type": "code",
   "execution_count": null,
   "metadata": {},
   "outputs": [],
   "source": []
  },
  {
   "cell_type": "markdown",
   "metadata": {},
   "source": [
    "4-15. Code Review: Choose three of the programs you’ve written in this chapter\n",
    "and modify each one to comply with PEP 8.\n",
    "\n",
    "- Use four spaces for each indentation level. Set your text editor to insert four\n",
    "spaces every time you press the TAB key, if you haven’t already done so\n",
    "(see Appendix B for instructions on how to do this).\n",
    "\n",
    "-  Use less than 80 characters on each line, and set your editor to show a\n",
    "vertical guideline at the 80th character position.\n",
    "\n",
    "- Don’t use blank lines excessively in your program files."
   ]
  },
  {
   "cell_type": "code",
   "execution_count": null,
   "metadata": {},
   "outputs": [],
   "source": []
  }
 ],
 "metadata": {
  "kernelspec": {
   "display_name": "myenv",
   "language": "python",
   "name": "python3"
  },
  "language_info": {
   "codemirror_mode": {
    "name": "ipython",
    "version": 3
   },
   "file_extension": ".py",
   "mimetype": "text/x-python",
   "name": "python",
   "nbconvert_exporter": "python",
   "pygments_lexer": "ipython3",
   "version": "3.12.0"
  }
 },
 "nbformat": 4,
 "nbformat_minor": 2
}
