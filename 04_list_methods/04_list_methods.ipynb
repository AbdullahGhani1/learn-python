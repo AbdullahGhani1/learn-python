{
 "cells": [
  {
   "cell_type": "markdown",
   "metadata": {},
   "source": [
    "# List\n",
    "* dynamic length\n",
    "* hetrogenous data types (Multiple type)\n",
    "* index\n",
    "  * positive 0 to n-1\n",
    "  * negative -1 to length\n",
    "* slicing\n",
    "  * start : int = include\n",
    "  * end : int = n-1 \n",
    "  * step : int = sequence"
   ]
  },
  {
   "cell_type": "code",
   "execution_count": 18,
   "metadata": {},
   "outputs": [
    {
     "name": "stdout",
     "output_type": "stream",
     "text": [
      "Qasim\n",
      "Sir Inam\n",
      "Qasim\n",
      "Sir Inam\n"
     ]
    }
   ],
   "source": [
    "# ->        0        1         2\n",
    "names = [\"Qasim\",\"Sir Zia\",\"Sir Inam\"]\n",
    "# <-       -3       -2        -1\n",
    "\n",
    "print(names[0])\n",
    "print(names[2])\n",
    "print(names[-3])\n",
    "print(names[-1])\n"
   ]
  },
  {
   "cell_type": "code",
   "execution_count": 16,
   "metadata": {},
   "outputs": [
    {
     "name": "stdout",
     "output_type": "stream",
     "text": [
      "1 2 3 4 5 6 7 8 9 10\n"
     ]
    }
   ],
   "source": [
    "data = [1,2,3,4,5,6,7,8,9,10]\n",
    "print(*data)"
   ]
  },
  {
   "cell_type": "code",
   "execution_count": 28,
   "metadata": {},
   "outputs": [
    {
     "name": "stdout",
     "output_type": "stream",
     "text": [
      "Qasim\n",
      "9.4\n",
      "<class 'float'>\n",
      "<class 'str'>\n"
     ]
    }
   ],
   "source": [
    "from typing import Any\n",
    "# ->                   0        1         2       3  4    5\n",
    "names: list[Any] = [\"Qasim\",\"Sir Zia\",\"Sir Inam\",20,True,9.4]\n",
    "# <-                    -6       -5      -4      -3  2   -1\n",
    "print(names[0])\n",
    "print(names[-1])\n",
    "print(type(names[-1]))\n",
    "print(type(names[0]))\n"
   ]
  },
  {
   "cell_type": "code",
   "execution_count": 30,
   "metadata": {},
   "outputs": [
    {
     "name": "stdout",
     "output_type": "stream",
     "text": [
      "Qasim\n",
      "9.4\n",
      "<class 'list'>\n",
      "<class 'float'>\n",
      "<class 'str'>\n"
     ]
    }
   ],
   "source": []
  },
  {
   "cell_type": "markdown",
   "metadata": {},
   "source": [
    "# Slicing"
   ]
  },
  {
   "cell_type": "code",
   "execution_count": 32,
   "metadata": {},
   "outputs": [
    {
     "name": "stdout",
     "output_type": "stream",
     "text": [
      "['A', 'B', 'C', 'D', 'E', 'F', 'G', 'H', 'I', 'J', 'K', 'L', 'M', 'N', 'O', 'P', 'Q', 'R', 'S', 'T', 'U', 'V', 'W', 'X', 'Y', 'Z']\n"
     ]
    }
   ],
   "source": [
    "characters: list[str] = list(\"ABCDEFGHIJKLMNOPQRSTUVWXYZ\")\n",
    "print(characters)"
   ]
  },
  {
   "cell_type": "code",
   "execution_count": 38,
   "metadata": {},
   "outputs": [
    {
     "name": "stdout",
     "output_type": "stream",
     "text": [
      "['A', 'B']\n",
      "['A', 'B']\n",
      "['A', 'B']\n",
      "['A', 'B']\n",
      "['A', 'C', 'E', 'G']\n",
      "['A', 'B', 'C']\n"
     ]
    }
   ],
   "source": [
    "                    #     0    1    2    3    4    5    6    7    8    9   10   11   12   13   14   15   16   17   18   19   20   21   22   23   24   25\n",
    "characters: list[str] = ['A', 'B', 'C', 'D', 'E', 'F', 'G', 'H', 'I', 'J', 'K', 'L', 'M', 'N', 'O', 'P', 'Q', 'R', 'S', 'T', 'U', 'V', 'W', 'X', 'Y', 'Z']\n",
    "#                        -26  -25  -24  -23  -22  -21  -20  -19  -18  -17  -16  -15  -14  -13  -12  -11  -10  -9   -8   -7   -6   -5   -4   -3   -2   -1\n",
    "#  default slicing go from left to right\n",
    "print(characters[0:2]) # start:end  0:2 -> 0= include : index 2-1 = 1 = 2 exclude\n",
    "print(characters[:2])   # start:end 0:2\n",
    "print(characters[-26:-24])\n",
    "print(characters[0:2:1]) # start:end:step 0:2:1\n",
    "print(characters[0:8:2]) # start:end:step 0:5:2\n",
    "print(characters[0:3:]) # start:end:step 0:3:1\n",
    "\n"
   ]
  },
  {
   "cell_type": "code",
   "execution_count": 41,
   "metadata": {},
   "outputs": [
    {
     "name": "stdout",
     "output_type": "stream",
     "text": [
      "['A', 'B', 'C', 'D', 'E', 'F', 'G', 'H', 'I', 'J', 'K', 'L', 'M', 'N', 'O', 'P', 'Q', 'R', 'S', 'T', 'U', 'V', 'W', 'X', 'Y', 'Z']\n",
      "['A', 'C', 'E', 'G', 'I', 'K', 'M', 'O', 'Q', 'S', 'U', 'W', 'Y']\n",
      "['Z', 'Y', 'X', 'W', 'V', 'U', 'T', 'S', 'R', 'Q', 'P', 'O', 'N', 'M', 'L', 'K', 'J', 'I', 'H', 'G', 'F', 'E', 'D', 'C', 'B', 'A']\n"
     ]
    }
   ],
   "source": [
    "characters: list[str] = ['A', 'B', 'C', 'D', 'E', 'F', 'G', 'H', 'I', 'J', 'K', 'L', 'M', 'N', 'O', 'P', 'Q', 'R', 'S', 'T', 'U', 'V', 'W', 'X', 'Y', 'Z']\n",
    "print(characters[::])\n",
    "print(characters[::2])\n",
    "print(characters[::-1]) # reverse list <-\n"
   ]
  },
  {
   "cell_type": "code",
   "execution_count": 43,
   "metadata": {},
   "outputs": [
    {
     "name": "stdout",
     "output_type": "stream",
     "text": [
      "['H', 'G', 'F', 'E']\n"
     ]
    }
   ],
   "source": [
    "#                         0    1    2    3    4    5    6    7\n",
    "characters: list[str] = ['A', 'B', 'C', 'D', 'E', 'F', 'G', 'H' ]\n",
    "#                        -8   -7   -6   -5   -4   -3   -2   -1\n",
    "print(characters[-1:-5:-1])"
   ]
  },
  {
   "cell_type": "markdown",
   "metadata": {},
   "source": [
    "# List Methods\n",
    "- list is mutable"
   ]
  },
  {
   "cell_type": "code",
   "execution_count": 49,
   "metadata": {},
   "outputs": [
    {
     "data": {
      "text/plain": [
       "['append',\n",
       " 'clear',\n",
       " 'copy',\n",
       " 'count',\n",
       " 'extend',\n",
       " 'index',\n",
       " 'insert',\n",
       " 'pop',\n",
       " 'remove',\n",
       " 'reverse',\n",
       " 'sort']"
      ]
     },
     "execution_count": 49,
     "metadata": {},
     "output_type": "execute_result"
    }
   ],
   "source": [
    "[i for i in dir(list) if not i.startswith(\"_\")]\n",
    "[i for i in dir(list) if \"_\" not in i]"
   ]
  },
  {
   "cell_type": "code",
   "execution_count": 46,
   "metadata": {},
   "outputs": [
    {
     "name": "stdout",
     "output_type": "stream",
     "text": [
      "A\n",
      "Alpha\n"
     ]
    }
   ],
   "source": [
    "#                         0    1    2    3    4    5    6    7\n",
    "characters: list[str] = ['A', 'B', 'C', 'D', 'E', 'F', 'G', 'H' ]\n",
    "#                        -8   -7   -6   -5   -4   -3   -2   -1\n",
    "print(characters[0])\n",
    "characters[0] = \"Alpha\" # update mutable list -> editable\n",
    "print(characters[0])\n"
   ]
  },
  {
   "cell_type": "markdown",
   "metadata": {},
   "source": [
    "# Help\n",
    "* help(object)\n",
    "* object?\n",
    "* obbject??\n",
    "* ?object\n",
    "* ??object"
   ]
  },
  {
   "cell_type": "code",
   "execution_count": 55,
   "metadata": {},
   "outputs": [
    {
     "name": "stdout",
     "output_type": "stream",
     "text": [
      "\u001b[0;31mSignature:\u001b[0m \u001b[0mprint\u001b[0m\u001b[0;34m(\u001b[0m\u001b[0;34m*\u001b[0m\u001b[0margs\u001b[0m\u001b[0;34m,\u001b[0m \u001b[0msep\u001b[0m\u001b[0;34m=\u001b[0m\u001b[0;34m' '\u001b[0m\u001b[0;34m,\u001b[0m \u001b[0mend\u001b[0m\u001b[0;34m=\u001b[0m\u001b[0;34m'\\n'\u001b[0m\u001b[0;34m,\u001b[0m \u001b[0mfile\u001b[0m\u001b[0;34m=\u001b[0m\u001b[0;32mNone\u001b[0m\u001b[0;34m,\u001b[0m \u001b[0mflush\u001b[0m\u001b[0;34m=\u001b[0m\u001b[0;32mFalse\u001b[0m\u001b[0;34m)\u001b[0m\u001b[0;34m\u001b[0m\u001b[0;34m\u001b[0m\u001b[0m\n",
      "\u001b[0;31mDocstring:\u001b[0m\n",
      "Prints the values to a stream, or to sys.stdout by default.\n",
      "\n",
      "sep\n",
      "  string inserted between values, default a space.\n",
      "end\n",
      "  string appended after the last value, default a newline.\n",
      "file\n",
      "  a file-like object (stream); defaults to the current sys.stdout.\n",
      "flush\n",
      "  whether to forcibly flush the stream.\n",
      "\u001b[0;31mType:\u001b[0m      builtin_function_or_method"
     ]
    }
   ],
   "source": [
    "?print"
   ]
  },
  {
   "cell_type": "code",
   "execution_count": 58,
   "metadata": {},
   "outputs": [
    {
     "name": "stdout",
     "output_type": "stream",
     "text": [
      "['Qasim', 'Sir Zia', 'Sir Inam']\n",
      "['Sir Zia', 'Sir Inam']\n"
     ]
    }
   ],
   "source": [
    "# ->        0        1         2\n",
    "names = [\"Qasim\",\"Sir Zia\",\"Sir Inam\"]\n",
    "# <-       -3       -2        -1\n",
    "\n",
    "print(names)\n",
    "\n",
    "del names[0]\n",
    "print(names)\n"
   ]
  },
  {
   "cell_type": "code",
   "execution_count": 67,
   "metadata": {},
   "outputs": [
    {
     "name": "stdout",
     "output_type": "stream",
     "text": [
      "['Qasim', 'Sir Zia', 'Sir Inam']\n",
      "Qasim\n",
      "Sir Inam\n",
      "Sir Zia\n"
     ]
    }
   ],
   "source": [
    "# ->        0        1         2\n",
    "names = [\"Qasim\",\"Sir Zia\",\"Sir Inam\"]\n",
    "# <-       -3       -2        -1\n",
    "print(names)\n",
    "a:str = names.pop(0) # pop return method-> remove from list and return the value\n",
    "print(a)\n",
    "print(names.pop())\n",
    "names = [\"Qasim\",\"Sir Zia\",\"Sir Inam\"]\n",
    "\n",
    "print(names.pop(1))"
   ]
  },
  {
   "cell_type": "code",
   "execution_count": 61,
   "metadata": {},
   "outputs": [
    {
     "name": "stdout",
     "output_type": "stream",
     "text": [
      "['Sir Zia', 'Sir Inam']\n",
      "None\n"
     ]
    }
   ],
   "source": [
    "print(print(names)) # print not a return method #  None"
   ]
  },
  {
   "cell_type": "code",
   "execution_count": 63,
   "metadata": {},
   "outputs": [
    {
     "name": "stdout",
     "output_type": "stream",
     "text": [
      "['Qasim', 'Sir Zia', 'Sir Inam']\n"
     ]
    }
   ],
   "source": [
    "names: list[str] = []\n",
    "names.append(\"Qasim\")\n",
    "names.append(\"Sir Zia\")\n",
    "names.append(\"Sir Inam\")\n",
    "\n",
    "print(names)"
   ]
  },
  {
   "cell_type": "code",
   "execution_count": 70,
   "metadata": {},
   "outputs": [
    {
     "name": "stdout",
     "output_type": "stream",
     "text": [
      "['Qasim', 'Abdullah', 'Sir Zia', 'Sir Inam']\n"
     ]
    }
   ],
   "source": [
    "names = [\"Qasim\",\"Sir Zia\",\"Sir Inam\"]\n",
    "names.insert(1,\"Abdullah\")\n",
    "print(names)"
   ]
  },
  {
   "cell_type": "code",
   "execution_count": 71,
   "metadata": {},
   "outputs": [],
   "source": [
    "names = [\"Qasim\",\"Sir Zia\",\"Sir Inam\"]\n",
    "names.clear() # clear list remove all elements"
   ]
  },
  {
   "cell_type": "code",
   "execution_count": null,
   "metadata": {},
   "outputs": [],
   "source": [
    "names = [\"Qasim\",\"Sir Zia\",\"Sir Inam\"]\n",
    "names.delete() # delete object from memory"
   ]
  },
  {
   "cell_type": "code",
   "execution_count": 73,
   "metadata": {},
   "outputs": [
    {
     "name": "stdout",
     "output_type": "stream",
     "text": [
      "[1, 2, 3, 4, 5]\n",
      "[1, 2, 3, 4, 5]\n",
      "['PAKISTAN', 2, 3, 4, 5]\n",
      "['PAKISTAN', 2, 3, 4, 5]\n"
     ]
    }
   ],
   "source": [
    "a: list[int] = [1,2,3,4,5]\n",
    "b =a # shallow copy\n",
    "print(a)\n",
    "print(b)\n",
    "\n",
    "b[0] = \"PAKISTAN\" #change in both  a b # shallow copy -> same object -> same memory location\n",
    "print(a)\n",
    "print(b)\n"
   ]
  },
  {
   "cell_type": "code",
   "execution_count": 75,
   "metadata": {},
   "outputs": [
    {
     "name": "stdout",
     "output_type": "stream",
     "text": [
      "[1, 2, 3, 4, 5]\n",
      "[1, 2, 3, 4, 5]\n",
      "[1, 2, 3, 4, 5]\n",
      "['PAKISTAN', 2, 3, 4, 5]\n"
     ]
    }
   ],
   "source": [
    "a: list[int] = [1,2,3,4,5]\n",
    "b = a.copy() # deep copy\n",
    "print(a)\n",
    "print(b)\n",
    "b[0] = \"PAKISTAN\" #deap copy -> different object -> different memory location\n",
    "print(a)\n",
    "print(b)\n",
    "\n"
   ]
  },
  {
   "cell_type": "code",
   "execution_count": 79,
   "metadata": {},
   "outputs": [
    {
     "name": "stdout",
     "output_type": "stream",
     "text": [
      "2\n"
     ]
    }
   ],
   "source": [
    "#count\n",
    "a: list[int] = [1,2,3,4,5,1,1,6,1,1,3,1,3,1,1,2]\n",
    "\n",
    "print(a.count(2))"
   ]
  },
  {
   "cell_type": "code",
   "execution_count": 85,
   "metadata": {},
   "outputs": [
    {
     "name": "stdout",
     "output_type": "stream",
     "text": [
      "['Qasim', 'Sir Zia', ['Sir Inam', 'Dr. Noman']]\n"
     ]
    }
   ],
   "source": [
    "names: list[str] = [\"Qasim\",\"Sir Zia\"] #GenAI founder\n",
    "new_faculity_members: list[str] = [\"Sir Inam\",\"Dr. Noman\"]\n",
    "names.append(new_faculity_members)\n",
    "print(names)"
   ]
  },
  {
   "cell_type": "code",
   "execution_count": 86,
   "metadata": {},
   "outputs": [
    {
     "name": "stdout",
     "output_type": "stream",
     "text": [
      "['Qasim', 'Sir Zia', 'Sir Inam', 'Dr. Noman']\n"
     ]
    }
   ],
   "source": [
    "names: list[str] = [\"Qasim\",\"Sir Zia\"] #GenAI founder\n",
    "new_faculity_members: list[str] = [\"Sir Inam\",\"Dr. Noman\"]\n",
    "names.extend(new_faculity_members)\n",
    "print(names)"
   ]
  },
  {
   "cell_type": "code",
   "execution_count": 87,
   "metadata": {},
   "outputs": [
    {
     "name": "stdout",
     "output_type": "stream",
     "text": [
      "['Qasim', 'Sir Inam', 'Dr. Noman']\n"
     ]
    }
   ],
   "source": [
    "names: list[str] = ['Qasim', 'Sir Zia', 'Sir Inam', 'Dr. Noman']\n",
    "names.remove(\"Sir Zia\") # remove by value\n",
    "print(names)"
   ]
  },
  {
   "cell_type": "code",
   "execution_count": 91,
   "metadata": {},
   "outputs": [
    {
     "data": {
      "text/plain": [
       "3"
      ]
     },
     "execution_count": 91,
     "metadata": {},
     "output_type": "execute_result"
    }
   ],
   "source": [
    "names: list[str] = ['Qasim', 'Sir Zia', 'Sir Inam','Sir Zia', 'Dr. Noman','Sir Zia']\n",
    "names.index(\"Sir Zia\",2) #  find index of value"
   ]
  },
  {
   "cell_type": "code",
   "execution_count": 94,
   "metadata": {},
   "outputs": [
    {
     "name": "stdout",
     "output_type": "stream",
     "text": [
      "['Qasim', 'Sir Zia', 'Sir Inam', 'Sir Zia', 'Dr. Noman', 'Sir Zia']\n",
      "['Sir Zia', 'Dr. Noman', 'Sir Zia', 'Sir Inam', 'Sir Zia', 'Qasim']\n"
     ]
    }
   ],
   "source": [
    "names: list[str] = ['Qasim', 'Sir Zia', 'Sir Inam','Sir Zia', 'Dr. Noman','Sir Zia']\n",
    "print(names)\n",
    "names.reverse() # reverse list in place -> in memory\n",
    "print(names)"
   ]
  },
  {
   "cell_type": "code",
   "execution_count": 96,
   "metadata": {},
   "outputs": [
    {
     "name": "stdout",
     "output_type": "stream",
     "text": [
      "['A', 'C', 'E', 'B', 'G', 'H', 'F', 'D']\n",
      "['A', 'B', 'C', 'D', 'E', 'F', 'G', 'H']\n"
     ]
    }
   ],
   "source": [
    "names: list[str] = ['A',  'C', 'E','B','G','H','F','D']\n",
    "print(names)\n",
    "names.sort() # sort list in place -> in memory -> ascending order\n",
    "print(names)"
   ]
  },
  {
   "cell_type": "code",
   "execution_count": 97,
   "metadata": {},
   "outputs": [
    {
     "name": "stdout",
     "output_type": "stream",
     "text": [
      "['A', 'C', 'E', 'B', 'G', 'H', 'F', 'D']\n",
      "['H', 'G', 'F', 'E', 'D', 'C', 'B', 'A']\n"
     ]
    }
   ],
   "source": [
    "names: list[str] = ['A',  'C', 'E','B','G','H','F','D']\n",
    "print(names)\n",
    "names.sort(reverse=True) # sort list in place -> in memory ->  descending order\n",
    "print(names)"
   ]
  },
  {
   "cell_type": "markdown",
   "metadata": {},
   "source": [
    "## Practice"
   ]
  },
  {
   "cell_type": "markdown",
   "metadata": {},
   "source": [
    "- Creating a list: `fruits = [\"apple\", \"banana\", \"cherry\"]`\n",
    "- Accessing items: `print(fruits[0])  # Outputs: apple`\n",
    "- Slicing lists: `print(fruits[1:3])  # Outputs: ['banana', 'cherry']`\n",
    "- Negative indexing: `print(fruits[-1])  # Outputs: cherry`"
   ]
  },
  {
   "cell_type": "code",
   "execution_count": 81,
   "metadata": {},
   "outputs": [
    {
     "name": "stdout",
     "output_type": "stream",
     "text": [
      "apple\n"
     ]
    }
   ],
   "source": [
    "fruits: list[str] = ['apple','banana','cherry']\n",
    "print(fruits[0])"
   ]
  },
  {
   "cell_type": "code",
   "execution_count": 82,
   "metadata": {},
   "outputs": [
    {
     "name": "stdout",
     "output_type": "stream",
     "text": [
      "['banana', 'cherry']\n"
     ]
    }
   ],
   "source": [
    "print(fruits[1:3:1])"
   ]
  },
  {
   "cell_type": "code",
   "execution_count": 83,
   "metadata": {},
   "outputs": [
    {
     "name": "stdout",
     "output_type": "stream",
     "text": [
      "cherry\n"
     ]
    }
   ],
   "source": [
    "print(fruits[-1])"
   ]
  },
  {
   "cell_type": "markdown",
   "metadata": {},
   "source": [
    " <h3 style=\"text-align:center\"><strong style=\"color: green;\">TRY IT YOURSELF</strong></h3>\n",
    "\n",
    "<p> <strong style=\"color: red\">3-1 Names:</strong> Store the names of a few of your friends in a list called names. Print each person's name by accessing each element in the list, one at a time.</p>"
   ]
  },
  {
   "cell_type": "code",
   "execution_count": 102,
   "metadata": {},
   "outputs": [
    {
     "name": "stdout",
     "output_type": "stream",
     "text": [
      "Umer\n",
      "Umair\n",
      "Ahmad\n",
      "Fahad\n",
      "Anzar\n",
      "Ayyan\n"
     ]
    }
   ],
   "source": [
    "#Store the names of a few of your friends in a list called names. Print each person's name by accessing each element in the list, one at a time.\n",
    "names: list[str] = [\"Umer\",\"Umair\",\"Ahmad\",\"Fahad\",\"Anzar\",\"Ayyan\"]\n",
    "for i in names:\n",
    "    print(i)\n"
   ]
  },
  {
   "cell_type": "markdown",
   "metadata": {},
   "source": []
  },
  {
   "cell_type": "markdown",
   "metadata": {},
   "source": [
    "<p> <strong style=\"color: red\">3-2 Greetings:</strong> Start with the list you used in Exercise 3-1, but instead of just printing each person's name, print a message to them. The text of each message should be the same, but each message should be personalized with the person's name.\n"
   ]
  },
  {
   "cell_type": "code",
   "execution_count": 110,
   "metadata": {},
   "outputs": [
    {
     "name": "stdout",
     "output_type": "stream",
     "text": [
      "Hello Umer, how are you?\n",
      "Hello Umair, how are you?\n",
      "Hello Ahmad, how are you?\n",
      "Hello Fahad, how are you?\n",
      "Hello Anzar, how are you?\n",
      "Hello Ayyan, how are you?\n"
     ]
    }
   ],
   "source": [
    "# Start with the list you used in Exercise 3-1, but instead of just printing each person's name, print a message to them. The text of each message should be the same, but each message should be personalized with the person's name.\n",
    "names: list[str] = [\"Umer\",\"Umair\",\"Ahmad\",\"Fahad\",\"Anzar\",\"Ayyan\"]\n",
    "for i in names:\n",
    "    # print(f\"Hello {i}, how are you?\")\n",
    "    # print(\"Hello %s, how are you?\"%(i))\n",
    "    # print (\"Hello {}, how are you?\".format(i))\n",
    "    # print (\"Hello {name}, how are you?\".format(name=i))\n",
    "    print(\"Hello {name}, how are you?\".format(**{\"name\":i})) # **kwargs\n",
    "    # **kwargs -> keyword arguments -> dictionary -> key value pair -> {\"name\":i}\n",
    "    # print(\"Hello {name}, how are you?\".format(**dict(name=i)))\n"
   ]
  },
  {
   "cell_type": "markdown",
   "metadata": {},
   "source": [
    "<p> <strong style=\"color: red\">3-3 Your Own List:</strong> Think of your favorite mode of transportation, such as a motorcycle or a car, and make a list that stores several examples. Use your list to print a series of statements about these items, such as \"I would like to own a Honda motorcycle</p>"
   ]
  },
  {
   "cell_type": "code",
   "execution_count": 116,
   "metadata": {},
   "outputs": [
    {
     "name": "stdout",
     "output_type": "stream",
     "text": [
      "I would like to own a Bike\n",
      "I would like to own a Car\n",
      "I would like to own a Bus\n",
      "I would like to own a bycycle\n"
     ]
    }
   ],
   "source": [
    "transportation: list[str] = [\"Bike\",\"Car\",\"Bus\",\"bycycle\"]\n",
    "for i in range(len(transportation)):\n",
    "    print(f\"I would like to own a {transportation[i]}\")"
   ]
  },
  {
   "cell_type": "markdown",
   "metadata": {},
   "source": [
    " <h3 style=\"text-align:center\"><strong style=\"color: green;\">TRY IT YOURSELF</strong></h3>\n",
    "The following exercises are a bit more complex than those in Chapter 2, but\n",
    "they give you an opportunity to use lists in all of the ways described.\n",
    "<p> <strong style=\"color: red\">3-4. Guest List:</strong> If you could invite anyone, living or deceased, to dinner, who\n",
    "would you invite? Make a list that includes at least three people you’d like to\n",
    "invite to dinner. Then use your list to print a message to each person, inviting\n",
    "them to dinner."
   ]
  },
  {
   "cell_type": "code",
   "execution_count": 117,
   "metadata": {},
   "outputs": [
    {
     "name": "stdout",
     "output_type": "stream",
     "text": [
      "Hello Umer, you are invited to dinner\n",
      "Hello Umair, you are invited to dinner\n",
      "Hello Ahmad, you are invited to dinner\n",
      "Hello Fahad, you are invited to dinner\n",
      "Hello Anzar, you are invited to dinner\n",
      "Hello Ayyan, you are invited to dinner\n"
     ]
    }
   ],
   "source": [
    "#If you could invite anyone, living or deceased, to dinner, who would you invite? Make a list that includes at least three people you’d like to invite to dinner. Then use your list to print a message to each person, inviting them to dinner.\n",
    "names: list[str] = [\"Umer\",\"Umair\",\"Ahmad\",\"Fahad\",\"Anzar\",\"Ayyan\"]\n",
    "for i in names:\n",
    "    print(f\"Hello {i}, you are invited to dinner\")\n"
   ]
  },
  {
   "cell_type": "markdown",
   "metadata": {},
   "source": [
    "<strong style=\"color: red\">3-5. Changing Guest List:</strong> You just heard that one of your guests can’t make the\n",
    "dinner, so you need to send out a new set of invitations. You’ll have to think of\n",
    "someone else to invite.\n",
    "\n",
    "- Start with your program from Exercise 3-4. Add a print() call at the end of your program, stating the name of the guest who can’t make it.\n",
    "- Modify your list, replacing the name of the guest who can’t make it with the name of the new person you are inviting.\n",
    "- Print a second set of invitation messages, one for each person who is still in your list."
   ]
  },
  {
   "cell_type": "code",
   "execution_count": 124,
   "metadata": {},
   "outputs": [
    {
     "name": "stdout",
     "output_type": "stream",
     "text": [
      "Umer\n",
      "Hello Qasim, you are invited to dinner\n",
      "Hello Umair, you are invited to dinner\n",
      "Hello Ahmad, you are invited to dinner\n",
      "Hello Fahad, you are invited to dinner\n",
      "Hello Anzar, you are invited to dinner\n",
      "Hello Ayyan, you are invited to dinner\n",
      "Umer can't make it to dinner\n"
     ]
    }
   ],
   "source": [
    "# 3-5. Changing Guest List:</strong> You just heard that one of your guests can’t make the\n",
    "# dinner, so you need to send out a new set of invitations. You’ll have to think of\n",
    "# someone else to invite.\n",
    "\n",
    "# - Start with your program from Exercise 3-4. Add a print() call at the end of your program, stating the name of the guest who can’t make it.\n",
    "# - Modify your list, replacing the name of the guest who can’t make it with the name of the new person you are inviting.\n",
    "# - Print a second set of invitation messages, one for each person who is still in your list.\n",
    "\n",
    "names: list[str] = [\"Umer\",\"Umair\",\"Ahmad\",\"Fahad\",\"Anzar\",\"Ayyan\"]\n",
    "notComming:str=names[0]\n",
    "names[0] = \"Qasim\"\n",
    "for i in names:\n",
    "    print(f\"Hello {i}, you are invited to dinner\")\n",
    "print(f\"{notComming} can't make it to dinner\")"
   ]
  },
  {
   "cell_type": "markdown",
   "metadata": {},
   "source": [
    "<strong style=\"color: red\">3-6. More Guests:</strong> You just found a bigger dinner table, so now more space is\n",
    "available. Think of three more guests to invite to dinner.\n",
    "- Start with your program from Exercise 3-4 or 3-5. Add a print() call to the end of your program, informing people that you found a bigger table.\n",
    "- Use insert() to add one new guest to the beginning of your list.\n",
    "- Use insert() to add one new guest to the middle of your list.\n",
    "- Use append() to add one new guest to the end of your list.\n",
    "- Print a new set of invitation messages, one for each person in your list.\n"
   ]
  },
  {
   "cell_type": "code",
   "execution_count": 138,
   "metadata": {},
   "outputs": [
    {
     "name": "stdout",
     "output_type": "stream",
     "text": [
      "Hello Sir Zia, you are invited to dinner\n",
      "Hello Qaism, you are invited to dinner\n",
      "Hello Umair, you are invited to dinner\n",
      "Hello Sir Inam, you are invited to dinner\n",
      "Hello Ahmad, you are invited to dinner\n",
      "Hello Fahad, you are invited to dinner\n",
      "Hello Anzar, you are invited to dinner\n",
      "Hello Ayyan, you are invited to dinner\n",
      "Hello Dr. Noman, you are invited to dinner\n",
      "I found a bigger table\n",
      "['Sir Zia', 'Qaism', 'Umair', 'Sir Inam', 'Ahmad', 'Fahad', 'Anzar', 'Ayyan', 'Dr. Noman']\n"
     ]
    }
   ],
   "source": [
    "# You just found a bigger dinner table, so now more space is\n",
    "# available. Think of three more guests to invite to dinner.\n",
    "# - Start with your program from Exercise 3-4 or 3-5. Add a print() call to the end of your program, informing people that you found a bigger table.\n",
    "# - Use insert() to add one new guest to the beginning of your list.\n",
    "# - Use insert() to add one new guest to the middle of your list.\n",
    "# - Use append() to add one new guest to the end of your list.\n",
    "# - Print a new set of invitation messages, one for each person in your list.\n",
    "\n",
    "names: list[str] = [\"Qaism\",\"Umair\",\"Ahmad\",\"Fahad\",\"Anzar\",\"Ayyan\"]\n",
    "names.insert(0,\"Sir Zia\")\n",
    "names.insert(len(names)//2,\"Sir Inam\")\n",
    "names.append(\"Dr. Noman\")\n",
    "for i in names:\n",
    "    print(f\"Hello {i}, you are invited to dinner\")\n",
    "print(\"I found a bigger table\")\n"
   ]
  },
  {
   "cell_type": "markdown",
   "metadata": {},
   "source": [
    "<strong style=\"color: red\">3-7. Shrinking Guest List:</strong> You just found out that your new dinner table won’t\n",
    "arrive in time for the dinner, and now you have space for only two guests.\n",
    "- Start with your program from Exercise 3-6. Add a new line that prints a\n",
    "message saying that you can invite only two people for dinner.\n",
    "- Use pop() to remove guests from your list one at a time until only two\n",
    "names remain in your list. Each time you pop a name from your list, print a\n",
    "message to that person letting them know you’re sorry you can’t invite them\n",
    "to dinner.\n",
    "- Print a message to each of the two people still on your list, letting them\n",
    "know they’re still invited.\n",
    "- Use del to remove the last two names from your list, so you have an empty\n",
    "list. Print your list to make sure you actually have an empty list at the end of\n",
    "your program."
   ]
  },
  {
   "cell_type": "code",
   "execution_count": 145,
   "metadata": {},
   "outputs": [
    {
     "name": "stdout",
     "output_type": "stream",
     "text": [
      "I can only invite two people for dinner\n",
      "Sorry Dr. Noman, I can't invite you to dinner\n",
      "Sorry Ayyan, I can't invite you to dinner\n",
      "Sorry Anzar, I can't invite you to dinner\n",
      "Sorry Fahad, I can't invite you to dinner\n",
      "Sorry Ahmad, I can't invite you to dinner\n",
      "Sorry Sir Inam, I can't invite you to dinner\n",
      "Sorry Umair, I can't invite you to dinner\n",
      "Hello Sir Zia, you are invited to dinner\n",
      "Hello Qaism, you are invited to dinner\n",
      "Final guest list: []\n"
     ]
    }
   ],
   "source": [
    "# You just found out that your new dinner table won’t\n",
    "# arrive in time for the dinner, and now you have space for only two guests.\n",
    "# - Start with your program from Exercise 3-6. Add a new line that prints a\n",
    "# message saying that you can invite only two people for dinner.\n",
    "# - Use pop() to remove guests from your list one at a time until only two\n",
    "# names remain in your list. Each time you pop a name from your list, print a\n",
    "# message to that person letting them know you’re sorry you can’t invite them\n",
    "# to dinner.\n",
    "# - Print a message to each of the two people still on your list, letting them\n",
    "# know they’re still invited.\n",
    "# - Use del to remove the last two names from your list, so you have an empty\n",
    "# list. Print your list to make sure you actually have an empty list at the end of\n",
    "# your program.\n",
    "\n",
    "guests: list[str] =['Sir Zia', 'Qaism', 'Umair', 'Sir Inam', 'Ahmad', 'Fahad', 'Anzar', 'Ayyan', 'Dr. Noman']\n",
    "\n",
    "print(\"I can only invite two people for dinner\")\n",
    "for i in range(len(guests)-2):\n",
    "    print(f\"Sorry {guests.pop()}, I can't invite you to dinner\")\n",
    "for i in guests:\n",
    "    print(f\"Hello {i}, you are invited to dinner\")\n",
    "del guests[0]\n",
    "del guests[0]\n",
    "print(\"Final guest list:\", guests)\n"
   ]
  },
  {
   "cell_type": "markdown",
   "metadata": {},
   "source": [
    "<strong style=\"color: red\"> 3-8. Seeing the World:</strong> Think of at least five places in the world you’d like\n",
    "to visit.\n",
    "\n",
    "- Store the locations in a list. Make sure the list is not in alphabetical order.\n",
    "- Print your list in its original order. Don’t worry about printing the list neatly; just print it as a raw Python list.\n",
    "- Use sorted() to print your list in alphabetical order without modifying the actual list. Show that your list is still in its original order by printing it.\n",
    "- Use sorted() to print your list in reverse-alphabetical order without chang-ing the order of the original list.\n",
    "- Show that your list is still in its original order by printing it again.\n",
    "- Use reverse() to change the order of your list. Print the list to show that its order has changed.\n",
    "- Use reverse() to change the order of your list again. Print the list to show it’s back to its original order.\n",
    "- Use sort() to change your list so it’s stored in alphabetical order. Print the list to show that its order has been changed.\n",
    "- Use sort() to change your list so it’s stored in reverse-alphabetical order. Print the list to show that its order has changed."
   ]
  },
  {
   "cell_type": "code",
   "execution_count": 26,
   "metadata": {},
   "outputs": [
    {
     "name": "stdout",
     "output_type": "stream",
     "text": [
      "original order: ['Mukkah', 'Naran', 'Kaghan', 'Hunza', 'Madina']\n",
      "alphabetical order: ['Hunza', 'Kaghan', 'Madina', 'Mukkah', 'Naran']\n",
      "reverse-alphabetical order: ['Naran', 'Mukkah', 'Madina', 'Kaghan', 'Hunza']\n",
      "Original order:  ['Mukkah', 'Naran', 'Kaghan', 'Hunza', 'Madina']\n",
      "reverse() change the order:  ['Madina', 'Hunza', 'Kaghan', 'Naran', 'Mukkah']\n",
      "Again reverse() to get Original order:  ['Mukkah', 'Naran', 'Kaghan', 'Hunza', 'Madina']\n",
      "sort() change the order:  ['Hunza', 'Kaghan', 'Madina', 'Mukkah', 'Naran']\n",
      "sort() to reverse-alphabetical order:  ['Naran', 'Mukkah', 'Madina', 'Kaghan', 'Hunza']\n"
     ]
    }
   ],
   "source": [
    "# Store the locations in a list. Make sure the list is not in alphabetical order.\n",
    "locations :list = [\"Mukkah\",\"Naran\",\"Kaghan\",\"Hunza\",\"Madina\"]\n",
    "# Print your list in its original order. Don’t worry about printing the list neatly; just print it as a raw Python list.\n",
    "print(f'original order: {locations}')\n",
    "#  Use sorted() to print your list in alphabetical order without modifying the actual list. Show that your list is still in its original order by printing it.\n",
    "print(f'alphabetical order: {sorted(locations)}')\n",
    "#  Use sorted() to print your list in reverse-alphabetical order without chang-ing the order of the original list.\n",
    "print(f'reverse-alphabetical order: {sorted(locations,reverse=True)}')\n",
    "\n",
    "#  Show that your list is still in its original order by printing it again.\n",
    "print(f'Original order:  {locations}')\n",
    "#  Use reverse() to change the order of your list. Print the list to show that its order has changed.\n",
    "\n",
    "locations.reverse()\n",
    "print(f'reverse() change the order:  {locations}')\n",
    "\n",
    "#  Use reverse() to change the order of your list again. Print the list to show it’s back to its original order.\n",
    "\n",
    "locations.reverse()\n",
    "print(f'Again reverse() to get Original order:  {locations}')\n",
    "#  Use sort() to change your list so it’s stored in alphabetical order. Print the list to show that its order has been changed.\n",
    "locations.sort()\n",
    "\n",
    "print(f'sort() change the order:  {locations}')\n",
    "#  Use sort() to change your list so it’s stored in reverse-alphabetical order. Print the list to show that its order has changed.\n",
    "\n",
    "locations.sort(reverse=True)\n",
    "print(f'sort() to reverse-alphabetical order:  {locations}')\n",
    "\n",
    "\n",
    "\n"
   ]
  },
  {
   "cell_type": "markdown",
   "metadata": {},
   "source": [
    "<strong style=\"color: red\">3-9. Dinner Guests:</strong> Working with one of the programs from Exercises 3-4 through 3-7 (pages 41–42), use len() to print a message indicating the number of people you’re inviting to dinner."
   ]
  },
  {
   "cell_type": "markdown",
   "metadata": {},
   "source": [
    " <h3 style=\"text-align:center\"><strong style=\"color: green;\">TRY IT YOURSELF</strong></h3>\n",
    "\n",
    "<strong style=\"color: red\">3-11. Intentional Error:</strong> If you haven’t received an index error in one of your pro-grams yet, try to make one happen. Change an index in one of your programs to produce an index error. Make sure you correct the error before closing the program."
   ]
  },
  {
   "cell_type": "markdown",
   "metadata": {},
   "source": []
  }
 ],
 "metadata": {
  "kernelspec": {
   "display_name": "myenv",
   "language": "python",
   "name": "python3"
  },
  "language_info": {
   "codemirror_mode": {
    "name": "ipython",
    "version": 3
   },
   "file_extension": ".py",
   "mimetype": "text/x-python",
   "name": "python",
   "nbconvert_exporter": "python",
   "pygments_lexer": "ipython3",
   "version": "3.12.0"
  }
 },
 "nbformat": 4,
 "nbformat_minor": 2
}
