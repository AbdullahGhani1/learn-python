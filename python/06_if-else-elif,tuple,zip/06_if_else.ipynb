{
 "cells": [
  {
   "cell_type": "markdown",
   "metadata": {},
   "source": [
    "📚 *Topics Covered:*\n",
    "- If, If-Else, and If-Elif-Else Statements\n",
    "- Nested If-Else-Elif\n",
    "- Python Static Type Variables\n",
    "- Union and Optional Types from the `typing` module\n",
    "- Using the Zip Function with Lists\n",
    "- Sorting a List of Tuples based on the Second Tuple Index"
   ]
  },
  {
   "cell_type": "markdown",
   "metadata": {},
   "source": [
    "# If-else-elif\n",
    "```\n",
    "if logic:\n",
    "    True_block\n",
    "else:\n",
    "    False_block\n",
    "```\n",
    "\n",
    "# Comprehensive if-else\n",
    "\n",
    "```\n",
    "True_block if logic else False_block\n",
    "```"
   ]
  },
  {
   "cell_type": "code",
   "execution_count": 1,
   "metadata": {},
   "outputs": [
    {
     "name": "stdout",
     "output_type": "stream",
     "text": [
      "Pakistan Zinda bad\n"
     ]
    }
   ],
   "source": [
    "if True:\n",
    "    print(\"Pakistan Zinda bad\")\n",
    "else:\n",
    "    print(\"Hello Python\")"
   ]
  },
  {
   "cell_type": "code",
   "execution_count": 2,
   "metadata": {},
   "outputs": [
    {
     "name": "stdout",
     "output_type": "stream",
     "text": [
      "Hello Python\n"
     ]
    }
   ],
   "source": [
    "if False:\n",
    "    print(\"Pakistan Zinda bad\")\n",
    "else:\n",
    "    print(\"Hello Python\")"
   ]
  },
  {
   "cell_type": "code",
   "execution_count": 6,
   "metadata": {},
   "outputs": [
    {
     "name": "stdout",
     "output_type": "stream",
     "text": [
      "Pakistan Zinda bad\n"
     ]
    }
   ],
   "source": [
    "# True_block                if condition else False_block\n",
    "print(\"Pakistan Zinda bad\") if True      else  print(\"Hello Python\")"
   ]
  },
  {
   "cell_type": "markdown",
   "metadata": {},
   "source": [
    "## Compression Operators\n",
    "* ==\n",
    "* <=\n",
    "* \\>=\n",
    "* !=\n",
    "  \n",
    "## logic\n",
    "* and\n",
    "* or\n",
    "* not"
   ]
  },
  {
   "cell_type": "markdown",
   "metadata": {},
   "source": []
  },
  {
   "cell_type": "code",
   "execution_count": 4,
   "metadata": {},
   "outputs": [
    {
     "ename": "AttributeError",
     "evalue": "'NoneType' object has no attribute 'get_text'",
     "output_type": "error",
     "traceback": [
      "\u001b[0;31m---------------------------------------------------------------------------\u001b[0m",
      "\u001b[0;31mAttributeError\u001b[0m                            Traceback (most recent call last)",
      "Cell \u001b[0;32mIn[4], line 18\u001b[0m\n\u001b[1;32m     15\u001b[0m report_section \u001b[38;5;241m=\u001b[39m soup\u001b[38;5;241m.\u001b[39mfind(\u001b[38;5;124m'\u001b[39m\u001b[38;5;124mdiv\u001b[39m\u001b[38;5;124m'\u001b[39m, class_\u001b[38;5;241m=\u001b[39m\u001b[38;5;124m'\u001b[39m\u001b[38;5;124mblog-post-content\u001b[39m\u001b[38;5;124m'\u001b[39m)\n\u001b[1;32m     17\u001b[0m \u001b[38;5;66;03m# Extract the report text\u001b[39;00m\n\u001b[0;32m---> 18\u001b[0m report_text \u001b[38;5;241m=\u001b[39m \u001b[43mreport_section\u001b[49m\u001b[38;5;241;43m.\u001b[39;49m\u001b[43mget_text\u001b[49m()\n\u001b[1;32m     20\u001b[0m \u001b[38;5;66;03m# Split the report text into lines\u001b[39;00m\n\u001b[1;32m     21\u001b[0m report_lines \u001b[38;5;241m=\u001b[39m report_text\u001b[38;5;241m.\u001b[39msplit(\u001b[38;5;124m'\u001b[39m\u001b[38;5;130;01m\\n\u001b[39;00m\u001b[38;5;124m'\u001b[39m)\n",
      "\u001b[0;31mAttributeError\u001b[0m: 'NoneType' object has no attribute 'get_text'"
     ]
    }
   ],
   "source": [
    "import requests\n",
    "from bs4 import BeautifulSoup\n",
    "import json\n",
    "\n",
    "# URL of the webpage containing the membership report\n",
    "url = 'https://shn.pca.org/newsarchive2017.php'\n",
    "\n",
    "# Send a GET request to the URL\n",
    "response = requests.get(url)\n",
    "\n",
    "# Parse the HTML content of the webpage\n",
    "soup = BeautifulSoup(response.content, 'html.parser')\n",
    "\n",
    "# Find the membership report section based on its unique structure\n",
    "report_section = soup.find('div', class_='blog-post-content')\n",
    "\n",
    "# Extract the report text\n",
    "report_text = report_section.get_text()\n",
    "\n",
    "# Split the report text into lines\n",
    "report_lines = report_text.split('\\n')\n",
    "\n",
    "# Initialize variables to store the membership data\n",
    "data = {\n",
    "    \"Primary Members\": 0,\n",
    "    \"Affiliate Members\": 0,\n",
    "    \"Total Membership\": 0,\n",
    "    \"New Members\": []\n",
    "}\n",
    "\n",
    "# Parse the report lines to extract the membership data\n",
    "for line in report_lines:\n",
    "    if \"Primary Members\" in line:\n",
    "        data[\"Primary Members\"] = int(line.split('–')[1].strip())\n",
    "    elif \"Affiliate Members\" in line:\n",
    "        data[\"Affiliate Members\"] = int(line.split('–')[1].strip())\n",
    "    elif \"Total Membership\" in line:\n",
    "        data[\"Total Membership\"] = int(line.split('–')[1].strip())\n",
    "    elif \"New members:\" in line:\n",
    "        new_members = line.split(':')[1].strip().split(',')\n",
    "        for member in new_members:\n",
    "            name, car = member.split('–')\n",
    "            name = name.strip()\n",
    "            car = car.strip()\n",
    "            data[\"New Members\"].append({\"Name\": name, \"Car\": car})\n",
    "\n",
    "# Convert the data to JSON format\n",
    "json_data = json.dumps(data, indent=4)\n",
    "\n",
    "# Print or save the JSON data\n",
    "print(json_data)\n",
    "\n",
    "# Find the membership report section based on its unique structure\n",
    "report_section = soup.find('div', class_='blog-post-content')\n",
    "\n",
    "# Check if report_section is not None\n",
    "if report_section is not None:\n",
    "    report_text = report_section.get_text()\n",
    "      # Split the report text into lines\n",
    "    report_lines = report_text.split('\\n')\n",
    "else:\n",
    "    print(\"The report section was not found in the HTML document.\")\n",
    "    report_text = \"\"\n",
    "\n",
    "\n",
    "\n"
   ]
  },
  {
   "cell_type": "code",
   "execution_count": null,
   "metadata": {},
   "outputs": [],
   "source": []
  }
 ],
 "metadata": {
  "kernelspec": {
   "display_name": "myenv",
   "language": "python",
   "name": "python3"
  },
  "language_info": {
   "codemirror_mode": {
    "name": "ipython",
    "version": 3
   },
   "file_extension": ".py",
   "mimetype": "text/x-python",
   "name": "python",
   "nbconvert_exporter": "python",
   "pygments_lexer": "ipython3",
   "version": "3.12.0"
  }
 },
 "nbformat": 4,
 "nbformat_minor": 2
}
