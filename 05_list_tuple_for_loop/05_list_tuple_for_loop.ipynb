{
 "cells": [
  {
   "cell_type": "markdown",
   "metadata": {},
   "source": [
    "# List\n",
    "- iteration operation with loop\n",
    "- apply any operation on element\n",
    "- Introduction\n",
    "- What is List Comprehension?\n",
    "- Advantages of Using List Comprehensions\n",
    "- Practical Examples of List Comprehensions\n",
    "- Understanding Tuples in Python\n",
    "- Tuple vs List: When to Use Each?\n",
    "- For Loops Explained\n",
    "- Practical Examples Using For Loops\n",
    "- For-Else Loop: What and Why?\n",
    "- Real-world Examples of For-Else Loops\n",
    "- Conclusion and Recap"
   ]
  },
  {
   "cell_type": "code",
   "execution_count": 1,
   "metadata": {},
   "outputs": [
    {
     "name": "stdout",
     "output_type": "stream",
     "text": [
      "['sir Zia', 'Abdullah Ghani', 'Qasim']\n"
     ]
    }
   ],
   "source": [
    "names: list[str] = ['sir Zia','Abdullah Ghani','Qasim']\n",
    "print(f'{names}')"
   ]
  },
  {
   "cell_type": "code",
   "execution_count": 1,
   "metadata": {},
   "outputs": [
    {
     "name": "stdout",
     "output_type": "stream",
     "text": [
      "sir Zia\n",
      "Abdullah Ghani\n",
      "Qasim\n"
     ]
    }
   ],
   "source": [
    "names: list[str] = ['sir Zia','Abdullah Ghani','Qasim']\n",
    "\n",
    "for name in names:\n",
    "    print(f'{name}')"
   ]
  },
  {
   "cell_type": "code",
   "execution_count": 3,
   "metadata": {},
   "outputs": [
    {
     "name": "stdout",
     "output_type": "stream",
     "text": [
      "sir Zia\n",
      "Abdullah Ghani\n",
      "Qasim\n"
     ]
    }
   ],
   "source": [
    "counter: int = 0\n",
    "\n",
    "while counter<len(names):\n",
    "    print(f'{names[counter]}')\n",
    "    counter+=1"
   ]
  },
  {
   "cell_type": "code",
   "execution_count": 8,
   "metadata": {},
   "outputs": [
    {
     "data": {
      "text/plain": [
       "\"\\nfor( counter=0; counter<len(names); counter+=1){\\n    print(f'{names[counter]}')\\n}\\n\""
      ]
     },
     "execution_count": 8,
     "metadata": {},
     "output_type": "execute_result"
    }
   ],
   "source": [
    "'''\n",
    "for( counter=0; counter<len(names); counter+=1){\n",
    "    print(f'{names[counter]}')\n",
    "}\n",
    "'''"
   ]
  },
  {
   "cell_type": "markdown",
   "metadata": {},
   "source": [
    "for `name` in `names` `:`<br>\n",
    "<pre>   print(f'{name}')"
   ]
  },
  {
   "cell_type": "code",
   "execution_count": 14,
   "metadata": {},
   "outputs": [
    {
     "name": "stdout",
     "output_type": "stream",
     "text": [
      "Welcome Dear Teacher Sir Zia\n",
      "PIAIC GEN AI Team\n",
      "Welcome Dear Teacher Abdullah Ghani\n",
      "PIAIC GEN AI Team\n",
      "Welcome Dear Teacher Qasim\n",
      "PIAIC GEN AI Team\n",
      "\n",
      "PAKISTAN Zinda Bad\n"
     ]
    }
   ],
   "source": [
    "for name in names:\n",
    "    print(f'Welcome Dear Teacher {name.title()}')\n",
    "\n",
    "    print (\"PIAIC GEN AI Team\")\n",
    "\n",
    "print (\"\\nPAKISTAN Zinda Bad\")\n"
   ]
  },
  {
   "cell_type": "code",
   "execution_count": 19,
   "metadata": {},
   "outputs": [
    {
     "name": "stdout",
     "output_type": "stream",
     "text": [
      "Welcome Dear Teacher Qasim\n",
      "Welcome Dear Teacher Abdullah Ghani\n",
      "Welcome Dear Teacher Sir Zia\n"
     ]
    }
   ],
   "source": [
    "names: list[str] = ['sir Zia','Abdullah Ghani','Qasim']\n",
    "# reverse the loop\n",
    "for name in names[::-1]:\n",
    "    print(f'Welcome Dear Teacher {name.title()}')"
   ]
  },
  {
   "cell_type": "code",
   "execution_count": 21,
   "metadata": {},
   "outputs": [
    {
     "name": "stdout",
     "output_type": "stream",
     "text": [
      "('sir Zia', '123')\n",
      "('Abdullah Ghani', '223')\n",
      "('Qasim', '323')\n"
     ]
    }
   ],
   "source": [
    "#  not change the original tupples\n",
    "#\n",
    "data_base : list[tuple[str,str]]= [\n",
    "    ('sir Zia','123'),\n",
    "    ('Abdullah Ghani','223'),\n",
    "    ('Qasim','323')\n",
    "]\n",
    "\n",
    "for row in data_base:\n",
    "    user,password = row\n",
    "    print(f'{user,password}')"
   ]
  },
  {
   "cell_type": "code",
   "execution_count": 2,
   "metadata": {},
   "outputs": [
    {
     "name": "stdout",
     "output_type": "stream",
     "text": [
      "('sir Zia', '123')\n",
      "('Abdullah Ghani', '223')\n",
      "Valid User\n"
     ]
    }
   ],
   "source": [
    "data_base : list[tuple[str,str]]= [\n",
    "    ('sir Zia','123'),\n",
    "    ('Abdullah Ghani','223'),\n",
    "    ('Qasim','323')\n",
    "]\n",
    "input_user = input('Enter user name')\n",
    "input_password = input('Enter password')\n",
    "\n",
    "for row in data_base:\n",
    "    user,password = row\n",
    "    if input_user == user and input_password == password:\n",
    "        print('Valid User')\n",
    "        break\n",
    "    print(f'{user,password}')\n",
    "else:\n",
    "    print('not found or Invalid User')"
   ]
  },
  {
   "cell_type": "code",
   "execution_count": 4,
   "metadata": {},
   "outputs": [
    {
     "name": "stdout",
     "output_type": "stream",
     "text": [
      "Sir Zia\n",
      "Abdullah Ghani\n",
      "Qasim\n",
      "No Name Found\n"
     ]
    }
   ],
   "source": [
    "names: list[str] = ['sir Zia','Abdullah Ghani','Qasim']\n",
    "# reverse the loop\n",
    "for name in names:\n",
    "    print(f'{name.title()}')\n",
    "\n",
    "else:\n",
    "    print('No Name Found')"
   ]
  },
  {
   "cell_type": "code",
   "execution_count": 5,
   "metadata": {},
   "outputs": [
    {
     "ename": "SyntaxError",
     "evalue": "expected ':' (951424784.py, line 2)",
     "output_type": "error",
     "traceback": [
      "\u001b[0;36m  Cell \u001b[0;32mIn[5], line 2\u001b[0;36m\u001b[0m\n\u001b[0;31m    for name in names\u001b[0m\n\u001b[0m                     ^\u001b[0m\n\u001b[0;31mSyntaxError\u001b[0m\u001b[0;31m:\u001b[0m expected ':'\n"
     ]
    }
   ],
   "source": [
    "names: list[str] = ['sir Zia','Abdullah Ghani','Qasim']\n",
    "for name in names\n",
    "    print(f'{name.title()}')"
   ]
  },
  {
   "cell_type": "code",
   "execution_count": 6,
   "metadata": {},
   "outputs": [
    {
     "ename": "IndentationError",
     "evalue": "expected an indented block after 'for' statement on line 3 (3745816924.py, line 4)",
     "output_type": "error",
     "traceback": [
      "\u001b[0;36m  Cell \u001b[0;32mIn[6], line 4\u001b[0;36m\u001b[0m\n\u001b[0;31m    print(f'{name.title()}')\u001b[0m\n\u001b[0m    ^\u001b[0m\n\u001b[0;31mIndentationError\u001b[0m\u001b[0;31m:\u001b[0m expected an indented block after 'for' statement on line 3\n"
     ]
    }
   ],
   "source": [
    "names: list[str] = ['sir Zia','Abdullah Ghani','Qasim']\n",
    "# reverse the loop\n",
    "for name in names:\n",
    "print(f'{name.title()}')"
   ]
  },
  {
   "cell_type": "code",
   "execution_count": 11,
   "metadata": {},
   "outputs": [
    {
     "name": "stdout",
     "output_type": "stream",
     "text": [
      "Alice\n",
      "David\n",
      "Carolina\n",
      "I can't wait to see your next trick, Carolina\n"
     ]
    }
   ],
   "source": [
    "magicians: list[str] = ['alice','david','carolina']\n",
    "for magician in magicians:\n",
    "    print(f'{magician.title()}')\n",
    "\n",
    "print(f'I can\\'t wait to see your next trick, {magician.title()}')"
   ]
  },
  {
   "cell_type": "code",
   "execution_count": 13,
   "metadata": {},
   "outputs": [
    {
     "ename": "IndentationError",
     "evalue": "unexpected indent (3115137365.py, line 2)",
     "output_type": "error",
     "traceback": [
      "\u001b[0;36m  Cell \u001b[0;32mIn[13], line 2\u001b[0;36m\u001b[0m\n\u001b[0;31m    print(message)\u001b[0m\n\u001b[0m    ^\u001b[0m\n\u001b[0;31mIndentationError\u001b[0m\u001b[0;31m:\u001b[0m unexpected indent\n"
     ]
    }
   ],
   "source": [
    "message= \"Hello Un nacessary indentation\"\n",
    "    print(message)\n"
   ]
  },
  {
   "cell_type": "markdown",
   "metadata": {},
   "source": [
    "# Numbers with loop\n",
    " * range(start,end,step)"
   ]
  },
  {
   "cell_type": "code",
   "execution_count": 1,
   "metadata": {},
   "outputs": [
    {
     "data": {
      "text/plain": [
       "range(0, 10)"
      ]
     },
     "execution_count": 1,
     "metadata": {},
     "output_type": "execute_result"
    }
   ],
   "source": [
    "range(1,10)"
   ]
  },
  {
   "cell_type": "code",
   "execution_count": 2,
   "metadata": {},
   "outputs": [
    {
     "data": {
      "text/plain": [
       "[0, 1, 2, 3, 4, 5, 6, 7, 8, 9]"
      ]
     },
     "execution_count": 2,
     "metadata": {},
     "output_type": "execute_result"
    }
   ],
   "source": [
    "list(range(10)) # starting=0 ending n-1"
   ]
  },
  {
   "cell_type": "code",
   "execution_count": 8,
   "metadata": {},
   "outputs": [
    {
     "data": {
      "text/plain": [
       "[2, 4, 6, 8, 10, 12, 14, 16, 18, 20]"
      ]
     },
     "execution_count": 8,
     "metadata": {},
     "output_type": "execute_result"
    }
   ],
   "source": [
    "list(range(2,21,2))"
   ]
  },
  {
   "cell_type": "code",
   "execution_count": 7,
   "metadata": {},
   "outputs": [
    {
     "data": {
      "text/plain": [
       "[3, 6, 9, 12, 15, 18, 21, 24, 27, 30]"
      ]
     },
     "execution_count": 7,
     "metadata": {},
     "output_type": "execute_result"
    }
   ],
   "source": [
    "list(range(3,31,3))"
   ]
  },
  {
   "cell_type": "code",
   "execution_count": 14,
   "metadata": {},
   "outputs": [
    {
     "name": "stdout",
     "output_type": "stream",
     "text": [
      "2 * 1 = 2\n",
      "2 * 2 = 4\n",
      "2 * 3 = 6\n",
      "2 * 4 = 8\n",
      "2 * 5 = 10\n",
      "2 * 6 = 12\n",
      "2 * 7 = 14\n",
      "2 * 8 = 16\n",
      "2 * 9 = 18\n",
      "2 * 10 = 20\n"
     ]
    }
   ],
   "source": [
    "for n in range(2,21,2):\n",
    "    print(f'2 * {int(n/2)} = {n}')"
   ]
  },
  {
   "cell_type": "code",
   "execution_count": 18,
   "metadata": {},
   "outputs": [
    {
     "data": {
      "text/plain": [
       "[(0, 'alice'), (1, 'david'), (2, 'carolina')]"
      ]
     },
     "execution_count": 18,
     "metadata": {},
     "output_type": "execute_result"
    }
   ],
   "source": [
    "                    #      0       0       0\n",
    "magicians: list[str] = ['alice','david','carolina']\n",
    "list(enumerate(magicians))"
   ]
  },
  {
   "cell_type": "code",
   "execution_count": 21,
   "metadata": {},
   "outputs": [
    {
     "name": "stdout",
     "output_type": "stream",
     "text": [
      "0 alice\n",
      "1 david\n",
      "2 carolina\n"
     ]
    }
   ],
   "source": [
    "for index, name in enumerate(magicians):\n",
    "    print(f'{index} {name}')"
   ]
  },
  {
   "cell_type": "code",
   "execution_count": 24,
   "metadata": {},
   "outputs": [
    {
     "name": "stdout",
     "output_type": "stream",
     "text": [
      "5 * 1 = 5\n",
      "5 * 2 = 10\n",
      "5 * 3 = 15\n",
      "5 * 4 = 20\n",
      "5 * 5 = 25\n",
      "5 * 6 = 30\n",
      "5 * 7 = 35\n",
      "5 * 8 = 40\n",
      "5 * 9 = 45\n",
      "5 * 10 = 50\n"
     ]
    }
   ],
   "source": [
    "table = input('Enter a number to print table')\n",
    "for n in range(1,11,1):\n",
    "    print(f'{table} * {n} = {n*int(table)}')"
   ]
  },
  {
   "cell_type": "code",
   "execution_count": 25,
   "metadata": {},
   "outputs": [
    {
     "name": "stdout",
     "output_type": "stream",
     "text": [
      "[1, 4, 9, 16, 25, 36, 49, 64, 81, 100]\n"
     ]
    }
   ],
   "source": [
    "squares= [ ]\n",
    "for value in range(1,11):\n",
    "    square= value **2\n",
    "    squares.append(square)\n",
    "print(squares)"
   ]
  },
  {
   "cell_type": "markdown",
   "metadata": {},
   "source": [
    "# List Comprehansive\n",
    "```\n",
    "for item in item_list:\n",
    "    loop_body\n",
    "```\n",
    "\n",
    "### Comprehensive Style\n",
    "\n",
    "```\n",
    "loop_body for item in items_list\n",
    "```\n"
   ]
  },
  {
   "cell_type": "code",
   "execution_count": 27,
   "metadata": {},
   "outputs": [
    {
     "data": {
      "text/plain": [
       "[1, 4, 9, 16, 25, 36, 49, 64, 81, 100]"
      ]
     },
     "execution_count": 27,
     "metadata": {},
     "output_type": "execute_result"
    }
   ],
   "source": [
    "[i**2 for i in range(1,11)]"
   ]
  },
  {
   "cell_type": "code",
   "execution_count": 30,
   "metadata": {},
   "outputs": [
    {
     "name": "stdout",
     "output_type": "stream",
     "text": [
      "[0, 1, 2, 3, 4, 5, 6, 7, 8, 9]\n",
      "9\n",
      "0\n",
      "45\n"
     ]
    }
   ],
   "source": [
    "digits :list[int] = [0,1,2,3,4,5,6,7,8,9]\n",
    "print(digits)\n",
    "print(max(digits))\n",
    "print(min(digits))\n",
    "print(sum(digits))"
   ]
  },
  {
   "cell_type": "markdown",
   "metadata": {},
   "source": [
    "### Shallow Copy | Deep Copy"
   ]
  },
  {
   "cell_type": "code",
   "execution_count": 34,
   "metadata": {},
   "outputs": [
    {
     "name": "stdout",
     "output_type": "stream",
     "text": [
      "['pizza', 'falafel', 'carrot cake']\n",
      "['pizza', 'falafel', 'carrot cake']\n",
      "['pizza', 'falafel', 'carrot cake']\n",
      "['Tikka', 'falafel', 'carrot cake']\n"
     ]
    }
   ],
   "source": [
    "my_foods = ['pizza','falafel','carrot cake']\n",
    "friend_foods = my_foods[:] #slicing alway provide deep copy\n",
    "\n",
    "print(f'{my_foods}')\n",
    "print(f'{friend_foods}')\n",
    "\n",
    "friend_foods[0] = \"Tikka\"\n",
    "\n",
    "print(f'{my_foods}')\n",
    "print(f'{friend_foods}')\n",
    "\n"
   ]
  },
  {
   "cell_type": "markdown",
   "metadata": {},
   "source": [
    "## Tuples"
   ]
  },
  {
   "cell_type": "code",
   "execution_count": 38,
   "metadata": {},
   "outputs": [
    {
     "name": "stdout",
     "output_type": "stream",
     "text": [
      "A\n",
      "('A', 'B')\n"
     ]
    }
   ],
   "source": [
    "names: tuple[str] = (\"A\",\"B\",\"C\")\n",
    "print(f'{names[0]}')\n",
    "print(f'{names[0:2]}')"
   ]
  },
  {
   "cell_type": "code",
   "execution_count": 39,
   "metadata": {},
   "outputs": [
    {
     "ename": "TypeError",
     "evalue": "'tuple' object does not support item assignment",
     "output_type": "error",
     "traceback": [
      "\u001b[0;31m---------------------------------------------------------------------------\u001b[0m",
      "\u001b[0;31mTypeError\u001b[0m                                 Traceback (most recent call last)",
      "Cell \u001b[0;32mIn[39], line 2\u001b[0m\n\u001b[1;32m      1\u001b[0m names: \u001b[38;5;28mtuple\u001b[39m[\u001b[38;5;28mstr\u001b[39m] \u001b[38;5;241m=\u001b[39m (\u001b[38;5;124m\"\u001b[39m\u001b[38;5;124mA\u001b[39m\u001b[38;5;124m\"\u001b[39m,\u001b[38;5;124m\"\u001b[39m\u001b[38;5;124mB\u001b[39m\u001b[38;5;124m\"\u001b[39m,\u001b[38;5;124m\"\u001b[39m\u001b[38;5;124mC\u001b[39m\u001b[38;5;124m\"\u001b[39m)\n\u001b[0;32m----> 2\u001b[0m \u001b[43mnames\u001b[49m\u001b[43m[\u001b[49m\u001b[38;5;241;43m0\u001b[39;49m\u001b[43m]\u001b[49m \u001b[38;5;241m=\u001b[39m \u001b[38;5;124m\"\u001b[39m\u001b[38;5;124mPakistan\u001b[39m\u001b[38;5;124m\"\u001b[39m\n",
      "\u001b[0;31mTypeError\u001b[0m: 'tuple' object does not support item assignment"
     ]
    }
   ],
   "source": [
    "names: tuple[str] = (\"A\",\"B\",\"C\")\n",
    "names[0] = \"Pakistan\" #tupple does not support item assignment and uodation\n"
   ]
  },
  {
   "cell_type": "code",
   "execution_count": 42,
   "metadata": {},
   "outputs": [
    {
     "name": "stdout",
     "output_type": "stream",
     "text": [
      "Pakistan\n",
      "('Pakistan', [100, 2, 3], 'C')\n"
     ]
    }
   ],
   "source": [
    "data: tuple = (\"Pakistan\",[1,2,3],\"C\")\n",
    "print(f'{data[0]}')\n",
    "# data[0]=\"China\"\n",
    "data[1][0]=100\n",
    "print(f'{data}')\n",
    "\n"
   ]
  },
  {
   "cell_type": "code",
   "execution_count": null,
   "metadata": {},
   "outputs": [],
   "source": []
  }
 ],
 "metadata": {
  "kernelspec": {
   "display_name": "myenv",
   "language": "python",
   "name": "python3"
  },
  "language_info": {
   "codemirror_mode": {
    "name": "ipython",
    "version": 3
   },
   "file_extension": ".py",
   "mimetype": "text/x-python",
   "name": "python",
   "nbconvert_exporter": "python",
   "pygments_lexer": "ipython3",
   "version": "3.12.0"
  }
 },
 "nbformat": 4,
 "nbformat_minor": 2
}
