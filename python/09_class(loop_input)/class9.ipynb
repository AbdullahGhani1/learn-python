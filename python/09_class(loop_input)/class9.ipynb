{
 "cells": [
  {
   "cell_type": "markdown",
   "metadata": {},
   "source": [
    "📜 *In This Video:*\n",
    "We cover key topics to help you master Python programming:\n",
    "**While Loops**: Learn to use while loops for repeated execution as long as a condition is true.\n",
    "**For Loops**: Discover the power of for loops for iterating over sequences and other iterable objects.\n",
    "**Control Statements**: Understand how to use `break`, `continue`, and `pass` to control the flow of your loops.\n",
    "**Input Function**: Get hands-on experience with the `input()` function for gathering user input.\n",
    "**Command Line Arguments**: Explore how to use `sys.argv` for handling command line arguments in your scripts.\n",
    "\n",
    "📊 *Static Type Annotations:*\n",
    "We emphasize static type annotations to make your code more readable and maintainable.\n",
    "\n",
    "💻 *Code Along:*\n",
    "Code along as we go through practical examples and use cases, demonstrating how to effectively use these concepts in real-world scenarios.\n",
    "\n",
    "🛠️ *Tools and Resources:*\n",
    "Python Official Documentation: https://docs.python.org/3/\n",
    "VS Code: https://code.visualstudio.com/\n",
    "Github: https://github.com/panaverse/learn-mo..."
   ]
  },
  {
   "cell_type": "markdown",
   "metadata": {},
   "source": [
    "### Loop and input from user\n",
    "- while\n",
    "- for\n",
    "- controls\n",
    "  - break\n",
    "  - continue\n",
    "  - pass\n",
    "- input with input function\n",
    "- input from console\n",
    "\n",
    "#### Loop working on iterative data types\n",
    "- list\n",
    "- dictionary\n",
    "- typle\n",
    "- string"
   ]
  },
  {
   "cell_type": "markdown",
   "metadata": {},
   "source": []
  },
  {
   "cell_type": "code",
   "execution_count": 1,
   "metadata": {},
   "outputs": [
    {
     "name": "stdout",
     "output_type": "stream",
     "text": [
      "[1, 2, 3, 4, 5, 6]\n"
     ]
    }
   ],
   "source": [
    "l1: list[int] = list(range(1, 7))\n",
    "\n",
    "\n",
    "print(l1)"
   ]
  },
  {
   "cell_type": "code",
   "execution_count": 2,
   "metadata": {},
   "outputs": [
    {
     "name": "stdout",
     "output_type": "stream",
     "text": [
      "1\n",
      "2\n",
      "3\n",
      "4\n",
      "5\n",
      "6\n"
     ]
    }
   ],
   "source": [
    "#  performing an iteration\n",
    "l1: list[int] = list(range(1, 7))\n",
    "\n",
    "\n",
    "for n in l1:\n",
    "    print(n)"
   ]
  },
  {
   "cell_type": "code",
   "execution_count": 4,
   "metadata": {},
   "outputs": [
    {
     "name": "stdout",
     "output_type": "stream",
     "text": [
      "1\n",
      "2\n",
      "3\n",
      "4\n",
      "5\n",
      "6\n"
     ]
    }
   ],
   "source": [
    "for n in [1, 2,3,4,5,6]:\n",
    "    print(n)    "
   ]
  },
  {
   "cell_type": "code",
   "execution_count": 6,
   "metadata": {},
   "outputs": [
    {
     "name": "stdout",
     "output_type": "stream",
     "text": [
      "current number: 1\n",
      "current number: 2\n",
      "current number: 3\n",
      "current number: 4\n",
      "current number: 5\n",
      "current number: 6\n"
     ]
    }
   ],
   "source": [
    "l1: list[int] = list(range(1, 7))\n",
    "\n",
    "\n",
    "for n in l1:\n",
    "    print(f'current number: {n}')"
   ]
  },
  {
   "cell_type": "code",
   "execution_count": 8,
   "metadata": {},
   "outputs": [
    {
     "name": "stdout",
     "output_type": "stream",
     "text": [
      "current number: 1\n",
      "current number: 2\n",
      "current number: 3\n",
      "current number: 4\n",
      "current number: 5\n",
      "current number: 6\n"
     ]
    }
   ],
   "source": [
    "from typing import Tuple\n",
    "\n",
    "# Indicate that l1 is a tuple of integers with any number of elements\n",
    "l1: Tuple[int, ...] = (1, 2, 3, 4, 5, 6)\n",
    "\n",
    "for n in l1:\n",
    "    print(f'current number: {n}')"
   ]
  },
  {
   "cell_type": "code",
   "execution_count": 9,
   "metadata": {},
   "outputs": [
    {
     "name": "stdout",
     "output_type": "stream",
     "text": [
      "currenr letter: h\n",
      "currenr letter: e\n",
      "currenr letter: l\n",
      "currenr letter: l\n",
      "currenr letter: o\n"
     ]
    }
   ],
   "source": [
    "# string iteration\n",
    "s1: str = 'hello'\n",
    "for letter in s1:\n",
    "    print(f'currenr letter: {letter}')"
   ]
  },
  {
   "cell_type": "code",
   "execution_count": 12,
   "metadata": {},
   "outputs": [
    {
     "name": "stdout",
     "output_type": "stream",
     "text": [
      "current key: name\tcurrent value: Abdullah Ghani\n",
      "current key: fname\tcurrent value: Hafiz Abdul Ghani\n"
     ]
    }
   ],
   "source": [
    "# iterating over a dictionary on keys\n",
    "l1: dict[str, str ] = {\n",
    "    \"name\":\"Abdullah Ghani\",\n",
    "    \"fname\":\"Hafiz Abdul Ghani\"\n",
    "}\n",
    "\n",
    "for key in l1:\n",
    "    print(f'current key: {key}\\tcurrent value: {l1[key]}')"
   ]
  },
  {
   "cell_type": "code",
   "execution_count": 22,
   "metadata": {},
   "outputs": [
    {
     "name": "stdout",
     "output_type": "stream",
     "text": [
      "value from set: 1\n",
      "value from set: 2\n",
      "value from set: 3\n",
      "value from set: 4\n",
      "value from set: 5\n",
      "value from set: 6\n"
     ]
    }
   ],
   "source": [
    "#iteration on set\n",
    "\n",
    "s1: set[int]= {1,2,3,4,5,5,4,4,3,2,6} # set does not allow duplicate values\n",
    "for k in s1:\n",
    "    print(f\"value from set: {k}\") "
   ]
  },
  {
   "cell_type": "markdown",
   "metadata": {},
   "source": [
    "### input from user\n",
    "\n",
    "- input function\n",
    "  - default type = string\n",
    "-  sys.argv (for console input in abc.py file)\n",
    "   -  default type =str"
   ]
  },
  {
   "cell_type": "code",
   "execution_count": 20,
   "metadata": {},
   "outputs": [
    {
     "name": "stdout",
     "output_type": "stream",
     "text": [
      "List1\n",
      "list2\n",
      "['/opt/anaconda3/envs/python12/lib/python3.12/site-packages/ipykernel_launcher.py', '--f=/Users/abdullahghani/Library/Jupyter/runtime/kernel-v3cc0c25b26a990c9148ae0e83da53f47fa7bc2d9e.json']\n",
      "<class 'list'>\n"
     ]
    }
   ],
   "source": [
    "import sys\n",
    "print(\"List1\")\n",
    "print(\"list2\")\n",
    "print(sys.argv) # argv is a list of command line arguments passed to a Python script\n",
    "\n",
    "print(type(sys.argv)) # argv is a list of command line arguments passed to a Python script"
   ]
  },
  {
   "cell_type": "code",
   "execution_count": 23,
   "metadata": {},
   "outputs": [
    {
     "data": {
      "text/plain": [
       "['__abs__',\n",
       " '__add__',\n",
       " '__and__',\n",
       " '__bool__',\n",
       " '__ceil__',\n",
       " '__class__',\n",
       " '__delattr__',\n",
       " '__dir__',\n",
       " '__divmod__',\n",
       " '__doc__',\n",
       " '__eq__',\n",
       " '__float__',\n",
       " '__floor__',\n",
       " '__floordiv__',\n",
       " '__format__',\n",
       " '__ge__',\n",
       " '__getattribute__',\n",
       " '__getnewargs__',\n",
       " '__getstate__',\n",
       " '__gt__',\n",
       " '__hash__',\n",
       " '__index__',\n",
       " '__init__',\n",
       " '__init_subclass__',\n",
       " '__int__',\n",
       " '__invert__',\n",
       " '__le__',\n",
       " '__lshift__',\n",
       " '__lt__',\n",
       " '__mod__',\n",
       " '__mul__',\n",
       " '__ne__',\n",
       " '__neg__',\n",
       " '__new__',\n",
       " '__or__',\n",
       " '__pos__',\n",
       " '__pow__',\n",
       " '__radd__',\n",
       " '__rand__',\n",
       " '__rdivmod__',\n",
       " '__reduce__',\n",
       " '__reduce_ex__',\n",
       " '__repr__',\n",
       " '__rfloordiv__',\n",
       " '__rlshift__',\n",
       " '__rmod__',\n",
       " '__rmul__',\n",
       " '__ror__',\n",
       " '__round__',\n",
       " '__rpow__',\n",
       " '__rrshift__',\n",
       " '__rshift__',\n",
       " '__rsub__',\n",
       " '__rtruediv__',\n",
       " '__rxor__',\n",
       " '__setattr__',\n",
       " '__sizeof__',\n",
       " '__str__',\n",
       " '__sub__',\n",
       " '__subclasshook__',\n",
       " '__truediv__',\n",
       " '__trunc__',\n",
       " '__xor__',\n",
       " 'as_integer_ratio',\n",
       " 'bit_count',\n",
       " 'bit_length',\n",
       " 'conjugate',\n",
       " 'denominator',\n",
       " 'from_bytes',\n",
       " 'imag',\n",
       " 'is_integer',\n",
       " 'numerator',\n",
       " 'real',\n",
       " 'to_bytes']"
      ]
     },
     "execution_count": 23,
     "metadata": {},
     "output_type": "execute_result"
    }
   ],
   "source": [
    "dir(int)"
   ]
  },
  {
   "cell_type": "code",
   "execution_count": 25,
   "metadata": {},
   "outputs": [
    {
     "name": "stdout",
     "output_type": "stream",
     "text": [
      "name: a\t fname: ah\t age: 3\n"
     ]
    }
   ],
   "source": [
    "names: list[str] = ['a', 'b', 'd', 'u', 'l']\n",
    "fname: list[str] = ['a' 'h']\n",
    "age: list[int] = [3,0]\n",
    "\n",
    "list(zip(names, fname, age))\n",
    "\n",
    "for name,fn,ag in zip(names, fname, age):\n",
    "    print(f'name: {name}\\t fname: {fn}\\t age: {ag}')\n",
    "\n"
   ]
  },
  {
   "cell_type": "markdown",
   "metadata": {},
   "source": [
    "### While Loop\n",
    "\n",
    "```python\n",
    "while logic  # true / false\n",
    "    loop_body\n",
    "```"
   ]
  },
  {
   "cell_type": "code",
   "execution_count": 28,
   "metadata": {},
   "outputs": [
    {
     "name": "stdout",
     "output_type": "stream",
     "text": [
      "Current number is: 1\n",
      "Current number is: 2\n",
      "Current number is: 3\n",
      "Current number is: 4\n",
      "Current number is: 5\n",
      "Current number is: 6\n",
      "Current number is: 7\n",
      "Current number is: 8\n",
      "Current number is: 9\n"
     ]
    }
   ],
   "source": [
    "flags: bool = True\n",
    "current_number: int = 1\n",
    "\n",
    "while flags:\n",
    "    print(f\"Current number is: {current_number}\")\n",
    "    current_number +=1\n",
    "    if current_number == 10:\n",
    "        flags = False"
   ]
  },
  {
   "cell_type": "code",
   "execution_count": 30,
   "metadata": {},
   "outputs": [
    {
     "name": "stdout",
     "output_type": "stream",
     "text": [
      "Write quite or exit to stop this program\n",
      "Write quite or exit to stop this program\n"
     ]
    },
    {
     "data": {
      "text/plain": [
       "[{'name': 'abdullah', 'education': 'BSC'}]"
      ]
     },
     "metadata": {},
     "output_type": "display_data"
    }
   ],
   "source": [
    "data: list[dict[str,str]] = []\n",
    "\n",
    "flag: bool = True\n",
    "\n",
    "while flag:\n",
    "    print(\"Write quite or exit to stop this program\")\n",
    "    name: str = input(\"Enter your good name:\\t\")\n",
    "    education: str = input(\"your last education:\\t\")\n",
    "\n",
    "    if name in ['exit', 'quite','close','stop'] or education in ['exit', 'quite','close','stop']:\n",
    "        flag = False\n",
    "        break\n",
    "    data.append({\"name\":name, \"education\":education})   \n",
    "\n",
    "display(data)"
   ]
  },
  {
   "cell_type": "markdown",
   "metadata": {},
   "source": [
    "## Controls\n",
    "\n",
    "- break\n",
    "- continue (skip particular part)\n",
    "- pass"
   ]
  },
  {
   "cell_type": "code",
   "execution_count": 1,
   "metadata": {},
   "outputs": [
    {
     "name": "stdout",
     "output_type": "stream",
     "text": [
      "1\n",
      "2\n",
      "3\n",
      "4\n",
      "5\n",
      "6\n"
     ]
    }
   ],
   "source": [
    "for i in range(1, 11):\n",
    "    print(i)\n",
    "    if i ==6:\n",
    "        break"
   ]
  },
  {
   "cell_type": "code",
   "execution_count": 5,
   "metadata": {},
   "outputs": [
    {
     "name": "stdout",
     "output_type": "stream",
     "text": [
      "2 x 1 = 2\n"
     ]
    }
   ],
   "source": [
    "for i in range(1, 11):\n",
    "    print(f\"2 x {i} = {2*i}\")\n",
    "    break\n",
    "\n",
    "    "
   ]
  },
  {
   "cell_type": "code",
   "execution_count": 6,
   "metadata": {},
   "outputs": [
    {
     "name": "stdout",
     "output_type": "stream",
     "text": [
      "1\n",
      "2\n",
      "3\n",
      "4\n",
      "5\n",
      "7\n",
      "8\n",
      "9\n",
      "10\n"
     ]
    }
   ],
   "source": [
    "for i in range(1, 11):\n",
    "    if i ==6:\n",
    "        continue\n",
    "    print(i)"
   ]
  },
  {
   "cell_type": "markdown",
   "metadata": {},
   "source": [
    "### Pass"
   ]
  },
  {
   "cell_type": "code",
   "execution_count": 7,
   "metadata": {},
   "outputs": [],
   "source": [
    "for i in range(1, 11):\n",
    "    pass"
   ]
  },
  {
   "cell_type": "code",
   "execution_count": null,
   "metadata": {},
   "outputs": [],
   "source": []
  }
 ],
 "metadata": {
  "kernelspec": {
   "display_name": "python12",
   "language": "python",
   "name": "python3"
  },
  "language_info": {
   "codemirror_mode": {
    "name": "ipython",
    "version": 3
   },
   "file_extension": ".py",
   "mimetype": "text/x-python",
   "name": "python",
   "nbconvert_exporter": "python",
   "pygments_lexer": "ipython3",
   "version": "3.12.4"
  }
 },
 "nbformat": 4,
 "nbformat_minor": 2
}
