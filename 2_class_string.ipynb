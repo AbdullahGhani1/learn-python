{
 "cells": [
  {
   "cell_type": "markdown",
   "metadata": {},
   "source": [
    "### String Data Type in python"
   ]
  },
  {
   "cell_type": "code",
   "execution_count": 1,
   "metadata": {},
   "outputs": [
    {
     "name": "stdout",
     "output_type": "stream",
     "text": [
      "<class 'str'>\n",
      "Abdullah Ghani\n"
     ]
    }
   ],
   "source": [
    "# boundaries\n",
    "# \"string text\", 'string text' , ''' stringm text ''', \"\"\" string text  \"\"\"\n",
    "name : str ='Abdullah Ghani'\n",
    "print(type(name))\n",
    "print(name)\n"
   ]
  },
  {
   "cell_type": "code",
   "execution_count": null,
   "metadata": {},
   "outputs": [],
   "source": [
    "message: str = \"PIAIC Student Card\\n Father's Name\"\n",
    "#  if we need both single quote ' and double quote  \" in a string we will use tripple quote    ``` message``` or \"\"\" message \"\"\"\n",
    "message: str = \"\"\"\n",
    "PIAIC special meaning quote's\n",
    "\n",
    "\"\"\"\n"
   ]
  },
  {
   "cell_type": "code",
   "execution_count": 2,
   "metadata": {},
   "outputs": [
    {
     "name": "stdout",
     "output_type": "stream",
     "text": [
      "PIAIC Student Card\n",
      "Student Name: Abdullah Ghani\n"
     ]
    }
   ],
   "source": [
    "card :str =  \"PIAIC Student Card\\nStudent Name: \" + name\n",
    "print(card)\n"
   ]
  },
  {
   "cell_type": "markdown",
   "metadata": {},
   "source": [
    "## Concatination"
   ]
  },
  {
   "cell_type": "code",
   "execution_count": 3,
   "metadata": {},
   "outputs": [
    {
     "data": {
      "text/plain": [
       "'abc'"
      ]
     },
     "execution_count": 3,
     "metadata": {},
     "output_type": "execute_result"
    }
   ],
   "source": [
    "# stings value concatination\n",
    "'a' + 'b' + 'c'\n"
   ]
  },
  {
   "cell_type": "code",
   "execution_count": 10,
   "metadata": {},
   "outputs": [
    {
     "ename": "TypeError",
     "evalue": "can only concatenate str (not \"int\") to str",
     "output_type": "error",
     "traceback": [
      "\u001b[0;31m---------------------------------------------------------------------------\u001b[0m",
      "\u001b[0;31mTypeError\u001b[0m                                 Traceback (most recent call last)",
      "\u001b[1;32m/Users/abdullahghani/Work/practice/python/panacloudDao/python/2_class_string.ipynb Cell 7\u001b[0m line \u001b[0;36m2\n\u001b[1;32m      <a href='vscode-notebook-cell:/Users/abdullahghani/Work/practice/python/panacloudDao/python/2_class_string.ipynb#W4sZmlsZQ%3D%3D?line=0'>1</a>\u001b[0m \u001b[39m#  it will give error only string concatinate with strings\u001b[39;00m\n\u001b[0;32m----> <a href='vscode-notebook-cell:/Users/abdullahghani/Work/practice/python/panacloudDao/python/2_class_string.ipynb#W4sZmlsZQ%3D%3D?line=1'>2</a>\u001b[0m \u001b[39m'\u001b[39;49m\u001b[39ma\u001b[39;49m\u001b[39m'\u001b[39;49m \u001b[39m+\u001b[39;49m\u001b[39m9\u001b[39;49m\n",
      "\u001b[0;31mTypeError\u001b[0m: can only concatenate str (not \"int\") to str"
     ]
    }
   ],
   "source": [
    "#  it will give error only string concatinate with strings\n",
    "'a' +9\n"
   ]
  },
  {
   "cell_type": "code",
   "execution_count": 11,
   "metadata": {},
   "outputs": [
    {
     "data": {
      "text/plain": [
       "'a9'"
      ]
     },
     "execution_count": 11,
     "metadata": {},
     "output_type": "execute_result"
    }
   ],
   "source": [
    "# we have to make int 9 into string\n",
    "'a' +'9'\n",
    "'a' + str(9)\n"
   ]
  },
  {
   "cell_type": "markdown",
   "metadata": {},
   "source": [
    "#### \\ Line Continue\n",
    "#### Define multiline String \"\"\" , \"\"\""
   ]
  },
  {
   "cell_type": "code",
   "execution_count": 13,
   "metadata": {},
   "outputs": [
    {
     "data": {
      "text/plain": [
       "\"\\nPIAIC Student Card\\nStudent Name:\\nFather's Name:\\n\""
      ]
     },
     "execution_count": 13,
     "metadata": {},
     "output_type": "execute_result"
    }
   ],
   "source": [
    "card : str= \"\"\"\n",
    "PIAIC Student Card\n",
    "Student Name:\n",
    "Father's Name:\n",
    "\"\"\"\n",
    "\n",
    "card\n"
   ]
  },
  {
   "cell_type": "markdown",
   "metadata": {},
   "source": [
    "## F-string"
   ]
  },
  {
   "cell_type": "code",
   "execution_count": 24,
   "metadata": {},
   "outputs": [
    {
     "name": "stdout",
     "output_type": "stream",
     "text": [
      "\n",
      "PIAIC Student Card\n",
      "Student Name: Abdullah Ghani\n",
      "Father's Name:Hafiz Abdul Ghani Bari\n",
      "Age:30\n",
      "\n",
      "Total : 15\n",
      "\n"
     ]
    }
   ],
   "source": [
    "name:str = \"Abdullah Ghani\"\n",
    "fatherName: str = \"Hafiz Abdul Ghani Bari\"\n",
    "age: int= 30;\n",
    "card : str= f\"\"\"\n",
    "PIAIC Student Card\n",
    "Student Name: {name}\n",
    "Father's Name:{fatherName}\n",
    "Age:{age}\n",
    "\n",
    "Total : {2+3+4+2+4}\n",
    "\"\"\"\n",
    "print(card)\n"
   ]
  },
  {
   "cell_type": "markdown",
   "metadata": {},
   "source": [
    "## F-string and Jinja String"
   ]
  },
  {
   "cell_type": "code",
   "execution_count": 30,
   "metadata": {},
   "outputs": [
    {
     "name": "stdout",
     "output_type": "stream",
     "text": [
      "\n",
      "PIAIC Student Card\n",
      "Student Name: {{name}}\n",
      "Father's Name:{{fatherName}}\n",
      "Age: {{age}}\n",
      "Total : {{2+3+4+2+4}}\n",
      "\n"
     ]
    }
   ],
   "source": [
    "card : str= \"\"\"\n",
    "PIAIC Student Card\n",
    "Student Name: {{name}}\n",
    "Father's Name:{{fatherName}}\n",
    "Age: {{age}}\n",
    "Total : {{2+3+4+2+4}}\n",
    "\"\"\"\n",
    "print(card)\n"
   ]
  },
  {
   "cell_type": "code",
   "execution_count": 31,
   "metadata": {},
   "outputs": [
    {
     "name": "stdout",
     "output_type": "stream",
     "text": [
      "\n",
      "PIAIC Student Card\n",
      "Student Name: Abdullah Ghani\n",
      "Father's Name: Hafiz Abdul Ghani Bari\n",
      "Age: 30\n",
      "Total : {{2+3+4+2+4}}\n",
      "\n"
     ]
    }
   ],
   "source": [
    "card : str= \"\"\"\n",
    "PIAIC Student Card\n",
    "Student Name: %s\n",
    "Father's Name: %s\n",
    "Age: %d\n",
    "Total : {{2+3+4+2+4}}\n",
    "\"\"\"%(name,fatherName,age)\n",
    "print(card)\n"
   ]
  },
  {
   "cell_type": "code",
   "execution_count": 32,
   "metadata": {},
   "outputs": [
    {
     "data": {
      "text/plain": [
       "['capitalize',\n",
       " 'casefold',\n",
       " 'center',\n",
       " 'count',\n",
       " 'encode',\n",
       " 'endswith',\n",
       " 'expandtabs',\n",
       " 'find',\n",
       " 'format',\n",
       " 'format_map',\n",
       " 'index',\n",
       " 'isalnum',\n",
       " 'isalpha',\n",
       " 'isascii',\n",
       " 'isdecimal',\n",
       " 'isdigit',\n",
       " 'isidentifier',\n",
       " 'islower',\n",
       " 'isnumeric',\n",
       " 'isprintable',\n",
       " 'isspace',\n",
       " 'istitle',\n",
       " 'isupper',\n",
       " 'join',\n",
       " 'ljust',\n",
       " 'lower',\n",
       " 'lstrip',\n",
       " 'maketrans',\n",
       " 'partition',\n",
       " 'removeprefix',\n",
       " 'removesuffix',\n",
       " 'replace',\n",
       " 'rfind',\n",
       " 'rindex',\n",
       " 'rjust',\n",
       " 'rpartition',\n",
       " 'rsplit',\n",
       " 'rstrip',\n",
       " 'split',\n",
       " 'splitlines',\n",
       " 'startswith',\n",
       " 'strip',\n",
       " 'swapcase',\n",
       " 'title',\n",
       " 'translate',\n",
       " 'upper',\n",
       " 'zfill']"
      ]
     },
     "execution_count": 32,
     "metadata": {},
     "output_type": "execute_result"
    }
   ],
   "source": [
    "[i for i in dir(str) if \"__\" not in i]\n"
   ]
  },
  {
   "cell_type": "code",
   "execution_count": 40,
   "metadata": {},
   "outputs": [
    {
     "name": "stdout",
     "output_type": "stream",
     "text": [
      "Abdullah ghani \n",
      " Abdullah Ghani\n"
     ]
    }
   ],
   "source": [
    "name:str = \"ABdUlLah gHaNi\"\n",
    "print(name.capitalize(),\"\\n\",name.title())\n",
    "\n"
   ]
  },
  {
   "cell_type": "code",
   "execution_count": 41,
   "metadata": {},
   "outputs": [
    {
     "name": "stdout",
     "output_type": "stream",
     "text": [
      "\n",
      "PIAIC Student Card\n",
      "Student Name: ABdUlLah gHaNi\n",
      "Father's Name: Hafiz Abdul Ghani Bari\n",
      "Age: 30\n",
      "\n"
     ]
    }
   ],
   "source": [
    "card : str= \"\"\"\n",
    "PIAIC Student Card\n",
    "Student Name: {2}\n",
    "Father's Name: {0}\n",
    "Age: {1}\n",
    "\"\"\".format(fatherName,age,name)\n",
    "print(card)\n"
   ]
  },
  {
   "cell_type": "code",
   "execution_count": 43,
   "metadata": {},
   "outputs": [
    {
     "name": "stdout",
     "output_type": "stream",
     "text": [
      "This is the exec\n",
      "81\n"
     ]
    }
   ],
   "source": [
    "card : str= \"\"\"\n",
    "print(\"This is the exec\")\n",
    "a:int=3\n",
    "b:int= 4\n",
    "print(a**b)\n",
    "\"\"\"\n",
    "exec(card)\n"
   ]
  },
  {
   "cell_type": "code",
   "execution_count": 48,
   "metadata": {},
   "outputs": [
    {
     "name": "stdout",
     "output_type": "stream",
     "text": [
      "ABDULLAH GHANI\n",
      "abdullah ghani\n"
     ]
    }
   ],
   "source": [
    "name = \"Abdullah Ghani\"\n",
    "print(name.upper())\n",
    "print(name.lower())\n",
    "\n"
   ]
  },
  {
   "cell_type": "code",
   "execution_count": 52,
   "metadata": {},
   "outputs": [
    {
     "name": "stdout",
     "output_type": "stream",
     "text": [
      "Abdullah Ghani\n",
      "Python\n"
     ]
    }
   ],
   "source": [
    "f_name = \"Abdullah\"\n",
    "l_name = \"Ghani\"\n",
    "full_name = f\"{f_name} {l_name}\"\n",
    "print(full_name.title())\n",
    "print(\n",
    "    \"Python\"\n",
    ")\n"
   ]
  },
  {
   "cell_type": "code",
   "execution_count": 59,
   "metadata": {},
   "outputs": [
    {
     "name": "stdout",
     "output_type": "stream",
     "text": [
      "Name:\tAbdullah\tGhani\n",
      "Name:\n",
      "Abdullah\n",
      "Ghani\n",
      "NameAbdullah\tGhani\n"
     ]
    }
   ],
   "source": [
    "# /n\n",
    "# /t\n",
    "# /b\n",
    "\n",
    "print(\"Name:\\tAbdullah\\tGhani\")\n",
    "print(\"Name:\\nAbdullah\\nGhani\")\n",
    "print(\"Name:\\bAbdullah\\tGhani\")\n"
   ]
  },
  {
   "cell_type": "code",
   "execution_count": 63,
   "metadata": {},
   "outputs": [],
   "source": [
    "best_Language = '   python  '\n"
   ]
  },
  {
   "cell_type": "code",
   "execution_count": 64,
   "metadata": {},
   "outputs": [
    {
     "data": {
      "text/plain": [
       "'   python'"
      ]
     },
     "execution_count": 64,
     "metadata": {},
     "output_type": "execute_result"
    }
   ],
   "source": [
    "best_Language.rstrip()\n"
   ]
  },
  {
   "cell_type": "code",
   "execution_count": 65,
   "metadata": {},
   "outputs": [
    {
     "data": {
      "text/plain": [
       "'python  '"
      ]
     },
     "execution_count": 65,
     "metadata": {},
     "output_type": "execute_result"
    }
   ],
   "source": [
    "best_Language.lstrip()\n"
   ]
  },
  {
   "cell_type": "code",
   "execution_count": 66,
   "metadata": {},
   "outputs": [
    {
     "data": {
      "text/plain": [
       "'python'"
      ]
     },
     "execution_count": 66,
     "metadata": {},
     "output_type": "execute_result"
    }
   ],
   "source": [
    "best_Language.strip()\n"
   ]
  },
  {
   "cell_type": "code",
   "execution_count": 67,
   "metadata": {},
   "outputs": [],
   "source": [
    "nostarch_url: str = \"https://nostarch.com,https://google.com\"\n"
   ]
  },
  {
   "cell_type": "code",
   "execution_count": 71,
   "metadata": {},
   "outputs": [
    {
     "data": {
      "text/plain": [
       "'nostarch.com,https://google.com'"
      ]
     },
     "execution_count": 71,
     "metadata": {},
     "output_type": "execute_result"
    }
   ],
   "source": [
    "nostarch_url.removeprefix('https://')\n"
   ]
  },
  {
   "cell_type": "code",
   "execution_count": null,
   "metadata": {},
   "outputs": [],
   "source": []
  }
 ],
 "metadata": {
  "kernelspec": {
   "display_name": "Python 3 (ipykernel)",
   "language": "python",
   "name": "python3"
  },
  "language_info": {
   "codemirror_mode": {
    "name": "ipython",
    "version": 3
   },
   "file_extension": ".py",
   "mimetype": "text/x-python",
   "name": "python",
   "nbconvert_exporter": "python",
   "pygments_lexer": "ipython3",
   "version": "3.12.0"
  }
 },
 "nbformat": 4,
 "nbformat_minor": 2
}
