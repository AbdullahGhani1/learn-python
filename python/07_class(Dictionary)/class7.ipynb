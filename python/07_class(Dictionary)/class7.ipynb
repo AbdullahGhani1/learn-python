{
 "cells": [
  {
   "cell_type": "markdown",
   "metadata": {},
   "source": [
    "# CHAPTER 6 (Page 90 to 112)\n",
    "\n",
    "### D I C T I O N A R I E S\n",
    "#### 07 Python Crash Course | Dictionary, set, tuple, dictionary comprehensive\n",
    "\n",
    "🔗 *Resources & Further Reading:*\n",
    "Python Official Documentation: [Dictionaries](https://docs.python.org/3/tutorial/da...)\n",
    "Typing in Python: [Mypy Documentation](http://mypy-lang.org/)\n",
    "github source: [Source code](https://github.com/panaverse/learn-mo...)"
   ]
  },
  {
   "cell_type": "markdown",
   "metadata": {},
   "source": []
  },
  {
   "cell_type": "markdown",
   "metadata": {},
   "source": [
    "In today's tutorial, we dive deep into the world of dictionaries in Python, exploring various ways to create and manipulate them using static typing. \n",
    "\n",
    "🛠 *Setting up Static Typing:*\n",
    "First, we’ll start by setting up static typing in Python. Make sure you have the `typing` module imported to access types like `Any`, `Optional`, and `Union`.\n",
    "\n",
    "```python\n",
    "from typing import Any, Optional, Union\n",
    "```"
   ]
  },
  {
   "cell_type": "markdown",
   "metadata": {},
   "source": [
    "💡 *Creating Dictionaries:*\n",
    "\n",
    "**`Any` Type**: Embrace flexibility! With `Any`, your keys and values can be of any type.\n",
    "  ```python\n",
    "  my_dict: Dict[Any, Any] = {1: \"one\", \"two\": 2, (3, 4): [3, 4]}\n",
    "  ```\n",
    "\n",
    "**`Optional` Type**: Sometimes, values can be `None`. That's where `Optional` comes into play.\n",
    "  ```python\n",
    "  my_optional_dict: Dict[Any, Optional[int]] = {1: 10, \"two\": None, (3, 4): 34}\n",
    "  ```\n",
    "\n",
    "**`Union` Type**: Need more types for your values? `Union` has got you covered!\n",
    "  ```python\n",
    "  my_union_dict: Dict[Any, Union[int, str]] = {1: \"one\", \"two\": 2, (3, 4): \"three-four\"}\n",
    "  ```"
   ]
  },
  {
   "cell_type": "markdown",
   "metadata": {},
   "source": [
    "🔍 *Dictionary Comprehensions:*\n",
    "Learn to create dictionaries like a pro with dictionary comprehensions!\n",
    "```python\n",
    "squared_numbers = {i: i**2 for i in range(5)}\n",
    "```\n",
    "\n",
    "🔄 *Swapping Keys and Values:*\n",
    "Ever wanted to turn things around? Here’s how to swap keys and values:\n",
    "```python\n",
    "swapped_dict = {v: k for k, v in my_dict.items()}\n",
    "```"
   ]
  },
  {
   "cell_type": "markdown",
   "metadata": {},
   "source": [
    "- key: value (items)\n",
    "  - key replacement of indexes\n",
    "  - value item\n",
    "\n",
    "- dict_variable[key]\n",
    "  -  dict_variable[new_key] = new_value\n",
    "  -  add new value\n",
    "  -  update value"
   ]
  },
  {
   "cell_type": "code",
   "execution_count": 24,
   "metadata": {},
   "outputs": [
    {
     "name": "stdout",
     "output_type": "stream",
     "text": [
      "{'city': 'Lahore',\n",
      " 'education': 'MSDS',\n",
      " 'fName': 'Abdul Ghani',\n",
      " 'mobileNo': '+923008108534',\n",
      " 'name': 'Abdullah',\n",
      " 'rollNo': '23L8027',\n",
      " 'university': 'Fast-NUCES'}\n"
     ]
    }
   ],
   "source": [
    "from typing import Dict\n",
    "import pprint\n",
    "data : Dict[str,str] = {\n",
    "    \"fName\":\"Abdul Ghani\",\n",
    "    \"name\":\"Abdullah\",\n",
    "    \"education\":\"MSDS\",\n",
    "    \"rollNo\":\"23L8027\",\n",
    "    \"city\":\"Lahore\",\n",
    "    \"university\":\"Fast-NUCES\",\n",
    "    \"mobileNo\":\"+923008108534\",  \n",
    "    }\n",
    "pprint.pprint(data)"
   ]
  },
  {
   "cell_type": "code",
   "execution_count": 29,
   "metadata": {},
   "outputs": [
    {
     "name": "stdout",
     "output_type": "stream",
     "text": [
      "Abdul Ghani\n"
     ]
    }
   ],
   "source": [
    "from typing import Dict,Union,Optional\n",
    "from pprint import pprint\n",
    "\n",
    "Key = Union[str,int] # Create Custom Type\n",
    "Value = Union[str,int,list,dict,bool,tuple,set] # Create Custom Type\n",
    "data : Dict[Key,Value] = {\n",
    "    \"fName\":\"Abdul Ghani\",\n",
    "    \"name\":\"Abdullah\",\n",
    "    \"education\":\"MSDS\",\n",
    "    \"rollNo\":\"23L8027\",\n",
    "    \"city\":\"Lahore\",\n",
    "    \"university\":\"Fast-NUCES\",\n",
    "    \"mobileNo\":\"+923008108534\",  \n",
    "    }\n",
    "# pprint(data)\n",
    "print(data[\"fName\"])"
   ]
  },
  {
   "cell_type": "code",
   "execution_count": 30,
   "metadata": {},
   "outputs": [
    {
     "name": "stdout",
     "output_type": "stream",
     "text": [
      "Theet\n"
     ]
    }
   ],
   "source": [
    "from typing import Dict,Union\n",
    "\n",
    "Key = Union[str,int] # Create Custom Type\n",
    "Value = Union[str,int,list,dict,bool,tuple,set] # Create Custom Type\n",
    "data : Dict[Key,Value] = {\n",
    "    \"fName\":\"Abdul Ghani\",\n",
    "    \"name\":\"Abdullah\",\n",
    "    \"education\":\"MSDS\",\n",
    "    \"rollNo\":\"23L8027\",\n",
    "    \"city\":\"Lahore\",\n",
    "    \"university\":\"Fast-NUCES\",\n",
    "    \"mobileNo\":\"+923008108534\",  \n",
    "    0:\"Theet\"\n",
    "    }\n",
    "print(data[0]) # pick value of 0 key not from index\n"
   ]
  },
  {
   "cell_type": "code",
   "execution_count": 47,
   "metadata": {},
   "outputs": [
    {
     "name": "stdout",
     "output_type": "stream",
     "text": [
      "{0: 'Theet',\n",
      " 'city': 'Lahore',\n",
      " 'education': {'BSC': {'degree': 'Bachoular of Computer Enginering',\n",
      "                       'institute': 'University of Lahore',\n",
      "                       'year': 2018},\n",
      "               'msc': {'degree': 'Data Science',\n",
      "                       'institute': 'Fast-NUCES',\n",
      "                       'year': 2026}},\n",
      " 'fName': 'Abdul Ghani',\n",
      " 'gender': 'male',\n",
      " 'mobileNo': '+923008108534',\n",
      " 'name': 'Abdullah',\n",
      " 'rollNo': '23L8027',\n",
      " 'university': 'Fast-NUCES'}\n"
     ]
    }
   ],
   "source": [
    "from typing import Dict,Union\n",
    "\n",
    "Key = Union[str,int] # Create Custom Type\n",
    "Value = Union[str,int,list,dict,bool,tuple,set] # Create Custom Type\n",
    "data : Dict[Key,Value] = {\n",
    "    \"fName\":\"Abdul Ghani\",\n",
    "    \"name\":\"Abdullah\",\n",
    "    \"rollNo\":\"23L8027\",\n",
    "    \"city\":\"Lahore\",\n",
    "    \"university\":\"Fast-NUCES\",\n",
    "    \"mobileNo\":\"+923008108534\",  \n",
    "    0:\"Theet\",\n",
    "    # [1]: \"unhashable type\", # TypeError: unhashable type: 'list'\n",
    "    # {1,2,3}:\"lahore\" #error\n",
    "    # (\"3\",2,4):\"Lahore\", //allow\n",
    "    \"gender\": (\"male\"),\n",
    "    \"education\":{\n",
    "        \"msc\":{ \n",
    "            \"year\":2026,\n",
    "            \"institute\":\"Fast-NUCES\",\n",
    "            \"degree\": \"Data Science\"\n",
    "        },\n",
    "        \"BSC\":\n",
    "        {\n",
    "            \"year\": 2018,\n",
    "            \"institute\": \"University of Lahore\",\n",
    "            \"degree\":\"Bachoular of Computer Enginering\"\n",
    "        }\n",
    "    },\n",
    "    \n",
    "\n",
    "    }\n",
    "pprint(data) # pick value of 0 key not from index\n"
   ]
  },
  {
   "cell_type": "code",
   "execution_count": 51,
   "metadata": {},
   "outputs": [
    {
     "name": "stdout",
     "output_type": "stream",
     "text": [
      "{1, 2, 3, 4, 5}\n",
      "1\n"
     ]
    }
   ],
   "source": [
    "abc: set = {1,2,3,4,5,2,1,1,1,1}\n",
    "print(abc)\n",
    "xyz: list[int]= list(abc)\n",
    "print(xyz[0])\n"
   ]
  },
  {
   "cell_type": "code",
   "execution_count": 58,
   "metadata": {},
   "outputs": [
    {
     "data": {
      "text/plain": [
       "['add',\n",
       " 'clear',\n",
       " 'copy',\n",
       " 'difference',\n",
       " 'difference_update',\n",
       " 'discard',\n",
       " 'intersection',\n",
       " 'intersection_update',\n",
       " 'isdisjoint',\n",
       " 'issubset',\n",
       " 'issuperset',\n",
       " 'pop',\n",
       " 'remove',\n",
       " 'symmetric_difference',\n",
       " 'symmetric_difference_update',\n",
       " 'union',\n",
       " 'update']"
      ]
     },
     "execution_count": 58,
     "metadata": {},
     "output_type": "execute_result"
    }
   ],
   "source": [
    "[i for i in dir(set) if \"__\"  not in i]"
   ]
  },
  {
   "cell_type": "code",
   "execution_count": 88,
   "metadata": {},
   "outputs": [
    {
     "name": "stdout",
     "output_type": "stream",
     "text": [
      "{'degree': 'Bachoular of Computer Enginering',\n",
      " 'institute': 'University of Lahore',\n",
      " 'year': 2018}\n"
     ]
    }
   ],
   "source": [
    "from typing import Dict,Union,Any\n",
    "\n",
    "Key = Union[str,int] # Create Custom Type\n",
    "Value = Union[str,int,list,Dict[Key, Any],bool,tuple,set] # Create Custom Type\n",
    "data : Dict[Key,Value] = {\n",
    "    \"fName\":\"Abdul Ghani\",\n",
    "    \"name\":\"Abdullah\",\n",
    "    \"rollNo\":\"23L8027\",\n",
    "    \"city\":\"Lahore\",\n",
    "    \"university\":\"Fast-NUCES\",\n",
    "    \"mobileNo\":\"+923008108534\",  \n",
    "    0:\"Theet\",\n",
    "    # [1]: \"unhashable type\", # TypeError: unhashable type: 'list'\n",
    "    # {1,2,3}:\"lahore\" #error\n",
    "    # (\"3\",2,4):\"Lahore\", //allow\n",
    "    \"gender\": (\"male\"),\n",
    "    \"education\":{\n",
    "        \"msc\":{ \n",
    "            \"year\":2026,\n",
    "            \"institute\":\"Fast-NUCES\",\n",
    "            \"degree\": \"Data Science\"\n",
    "        },\n",
    "        \"BSC\":\n",
    "        {\n",
    "            \"year\": 2018,\n",
    "            \"institute\": \"University of Lahore\",\n",
    "            \"degree\":\"Bachoular of Computer Enginering\"\n",
    "        }\n",
    "    },\n",
    "    \n",
    "\n",
    "    }\n",
    "pprint(data['education']['BSC']) # pick value of 0 key not from index\n",
    "\n"
   ]
  },
  {
   "cell_type": "code",
   "execution_count": 64,
   "metadata": {},
   "outputs": [
    {
     "name": "stdout",
     "output_type": "stream",
     "text": [
      "{'fName': 'Abdul Ghani', 'name': 'Abdullah', 'rollNo': '23L8027', 'city': 'Lahore', 'university': 'Fast-NUCES', 'mobileNo': '+923008108534'}\n",
      "{'fName': 'Abdul Ghani', 'name': 'Abdullah Ghani', 'rollNo': '23L8027', 'city': 'Lahore', 'university': 'Fast-NUCES', 'mobileNo': '+923008108534', 'section': 'A'}\n"
     ]
    }
   ],
   "source": [
    "from typing import Dict,Union\n",
    "\n",
    "Key = Union[str,int] # Create Custom Type\n",
    "NestedDict = Dict[Key, Union[str, int, bool, tuple, 'NestedDict']]\n",
    "\n",
    "Value = Union[str,int,list,NestedDict,bool,tuple,set] # Create Custom Type\n",
    "\n",
    "data : Dict[Key,Value] = {\n",
    "    \"fName\":\"Abdul Ghani\",\n",
    "    \"name\":\"Abdullah\",\n",
    "    \"rollNo\":\"23L8027\",\n",
    "    \"city\":\"Lahore\",\n",
    "    \"university\":\"Fast-NUCES\",\n",
    "    \"mobileNo\":\"+923008108534\",\n",
    "}\n",
    "\n",
    "print(data)\n",
    "data[\"name\"] = \"Abdullah Ghani\" # update value\n",
    "data['section'] = \"A\" # add new key value\n",
    "print(data)\n"
   ]
  },
  {
   "cell_type": "code",
   "execution_count": 65,
   "metadata": {},
   "outputs": [
    {
     "data": {
      "text/plain": [
       "['clear',\n",
       " 'copy',\n",
       " 'fromkeys',\n",
       " 'get',\n",
       " 'items',\n",
       " 'keys',\n",
       " 'pop',\n",
       " 'popitem',\n",
       " 'setdefault',\n",
       " 'update',\n",
       " 'values']"
      ]
     },
     "execution_count": 65,
     "metadata": {},
     "output_type": "execute_result"
    }
   ],
   "source": [
    "[i for i in dir(dict) if \"__\" not in i]"
   ]
  },
  {
   "cell_type": "code",
   "execution_count": 69,
   "metadata": {},
   "outputs": [
    {
     "name": "stdout",
     "output_type": "stream",
     "text": [
      "None\n",
      "Abdullah\n",
      "Not Found\n"
     ]
    },
    {
     "data": {
      "text/plain": [
       "['clear',\n",
       " 'copy',\n",
       " 'fromkeys',\n",
       " 'get',\n",
       " 'items',\n",
       " 'keys',\n",
       " 'pop',\n",
       " 'popitem',\n",
       " 'setdefault',\n",
       " 'update',\n",
       " 'values']"
      ]
     },
     "execution_count": 69,
     "metadata": {},
     "output_type": "execute_result"
    }
   ],
   "source": [
    "from typing import Dict,Union\n",
    "\n",
    "Key = Union[str,int] # Create Custom Type\n",
    "Value = Union[str,int,list,dict,bool,tuple,set] # Create Custom Type\n",
    "\n",
    "data : Dict[Key,Value] = {\n",
    "    \"fName\":\"Abdul Ghani\",\n",
    "    \"name\":\"Abdullah\",\n",
    "    \"rollNo\":\"23L8027\",\n",
    "    \"city\":\"Lahore\",\n",
    "    \"university\":\"Fast-NUCES\",\n",
    "    \"mobileNo\":\"+923008108534\",\n",
    "}\n",
    "\n",
    "print(data.get('pakistan')) # return None if key not found\n",
    "print(data.get('name'))\n",
    "print(data.get('pakistan','Not Found')) # return Not Found if key not found\n",
    "\n",
    "[i for i in dir(dict) if \"__\" not in i]\n"
   ]
  },
  {
   "cell_type": "code",
   "execution_count": 73,
   "metadata": {},
   "outputs": [
    {
     "name": "stdout",
     "output_type": "stream",
     "text": [
      "fName\n",
      "name\n",
      "rollNo\n",
      "city\n",
      "university\n",
      "mobileNo\n",
      "dict_keys(['fName', 'name', 'rollNo', 'city', 'university', 'mobileNo'])\n",
      "dict_values(['Abdul Ghani', 'Abdullah', '23L8027', 'Lahore', 'Fast-NUCES', '+923008108534'])\n",
      "dict_items([('fName', 'Abdul Ghani'), ('name', 'Abdullah'), ('rollNo', '23L8027'), ('city', 'Lahore'), ('university', 'Fast-NUCES'), ('mobileNo', '+923008108534')])\n"
     ]
    },
    {
     "data": {
      "text/plain": [
       "['clear',\n",
       " 'copy',\n",
       " 'fromkeys',\n",
       " 'get',\n",
       " 'items',\n",
       " 'keys',\n",
       " 'pop',\n",
       " 'popitem',\n",
       " 'setdefault',\n",
       " 'update',\n",
       " 'values']"
      ]
     },
     "execution_count": 73,
     "metadata": {},
     "output_type": "execute_result"
    }
   ],
   "source": [
    "from typing import Dict,Union\n",
    "\n",
    "Key = Union[str,int] # Create Custom Type\n",
    "Value = Union[str,int,list,dict,bool,tuple,set] # Create Custom Type\n",
    "\n",
    "data : Dict[Key,Value] = {\n",
    "    \"fName\":\"Abdul Ghani\",\n",
    "    \"name\":\"Abdullah\",\n",
    "    \"rollNo\":\"23L8027\",\n",
    "    \"city\":\"Lahore\",\n",
    "    \"university\":\"Fast-NUCES\",\n",
    "    \"mobileNo\":\"+923008108534\",\n",
    "}\n",
    "\n",
    "for key in data:\n",
    "    print(key)\n",
    "\n",
    "\n",
    "print(data.keys()) # return all keys\n",
    "print(data.values()) # return all values\n",
    "\n",
    "print(data.items()) # return all items\n",
    "\n",
    "\n",
    "[i for i in dir(dict) if \"__\" not in i]\n"
   ]
  },
  {
   "cell_type": "code",
   "execution_count": 74,
   "metadata": {},
   "outputs": [
    {
     "name": "stdout",
     "output_type": "stream",
     "text": [
      "fName\n",
      "name\n",
      "rollNo\n",
      "city\n",
      "university\n",
      "mobileNo\n",
      "dict_keys(['fName', 'name', 'rollNo', 'city', 'university', 'mobileNo'])\n"
     ]
    }
   ],
   "source": [
    "from typing import Dict,Union\n",
    "\n",
    "Key = Union[str,int] # Create Custom Type\n",
    "Value = Union[str,int,list,dict,bool,tuple,set] # Create Custom Type\n",
    "\n",
    "data : Dict[Key,Value] = {\n",
    "    \"fName\":\"Abdul Ghani\",\n",
    "    \"name\":\"Abdullah\",\n",
    "    \"rollNo\":\"23L8027\",\n",
    "    \"city\":\"Lahore\",\n",
    "    \"university\":\"Fast-NUCES\",\n",
    "    \"mobileNo\":\"+923008108534\",\n",
    "}\n",
    "\n",
    "for key in data.keys():\n",
    "    print(key)\n",
    "print(data.keys()) # return all keys"
   ]
  },
  {
   "cell_type": "code",
   "execution_count": 76,
   "metadata": {},
   "outputs": [
    {
     "name": "stdout",
     "output_type": "stream",
     "text": [
      "Abdul Ghani\n",
      "Abdullah\n",
      "23L8027\n",
      "Lahore\n",
      "Fast-NUCES\n",
      "+923008108534\n",
      "\n",
      "\n",
      "fName Abdul Ghani\n",
      "name Abdullah\n",
      "rollNo 23L8027\n",
      "city Lahore\n",
      "university Fast-NUCES\n",
      "mobileNo +923008108534\n",
      "\n",
      "\n",
      "dict_values(['Abdul Ghani', 'Abdullah', '23L8027', 'Lahore', 'Fast-NUCES', '+923008108534'])\n"
     ]
    }
   ],
   "source": [
    "from typing import Dict,Union\n",
    "\n",
    "Key = Union[str,int] # Create Custom Type\n",
    "Value = Union[str,int,list,dict,bool,tuple,set] # Create Custom Type\n",
    "\n",
    "data : Dict[Key,Value] = {\n",
    "    \"fName\":\"Abdul Ghani\",\n",
    "    \"name\":\"Abdullah\",\n",
    "    \"rollNo\":\"23L8027\",\n",
    "    \"city\":\"Lahore\",\n",
    "    \"university\":\"Fast-NUCES\",\n",
    "    \"mobileNo\":\"+923008108534\",\n",
    "}\n",
    "\n",
    "for value in data.values():\n",
    "    print(value)\n",
    "print('\\n')\n",
    "for key in data:\n",
    "    print(key, data[key])\n",
    "print('\\n')    \n",
    "print(data.values()) # return all values\n"
   ]
  },
  {
   "cell_type": "code",
   "execution_count": 78,
   "metadata": {},
   "outputs": [
    {
     "name": "stdout",
     "output_type": "stream",
     "text": [
      "('fName', 'Abdul Ghani')\n",
      "('name', 'Abdullah')\n",
      "('rollNo', '23L8027')\n",
      "('city', 'Lahore')\n",
      "('university', 'Fast-NUCES')\n",
      "('mobileNo', '+923008108534')\n",
      "\n",
      "\n",
      "fName Abdul Ghani\n",
      "name Abdullah\n",
      "rollNo 23L8027\n",
      "city Lahore\n",
      "university Fast-NUCES\n",
      "mobileNo +923008108534\n",
      "\n",
      "\n",
      "dict_items([('fName', 'Abdul Ghani'), ('name', 'Abdullah'), ('rollNo', '23L8027'), ('city', 'Lahore'), ('university', 'Fast-NUCES'), ('mobileNo', '+923008108534')])\n"
     ]
    }
   ],
   "source": [
    "from typing import Dict,Union\n",
    "\n",
    "Key = Union[str,int] # Create Custom Type\n",
    "Value = Union[str,int,list,dict,bool,tuple,set] # Create Custom Type\n",
    "\n",
    "data : Dict[Key,Value] = {\n",
    "    \"fName\":\"Abdul Ghani\",\n",
    "    \"name\":\"Abdullah\",\n",
    "    \"rollNo\":\"23L8027\",\n",
    "    \"city\":\"Lahore\",\n",
    "    \"university\":\"Fast-NUCES\",\n",
    "    \"mobileNo\":\"+923008108534\",\n",
    "}\n",
    "\n",
    "for key in data.items():\n",
    "    print(key)\n",
    "print('\\n')\n",
    "\n",
    "for key,value in data.items():\n",
    "    print(key, value)\n",
    "\n",
    "print('\\n')\n",
    "\n",
    "print(data.items()) # return all items\n"
   ]
  },
  {
   "cell_type": "code",
   "execution_count": 81,
   "metadata": {},
   "outputs": [
    {
     "data": {
      "text/plain": [
       "{'fName': 'Abdul Ghani',\n",
       " 'name': 'Abdullah',\n",
       " 'rollNo': '23L8027',\n",
       " 'city': 'Lahore',\n",
       " 'university': 'Fast-NUCES',\n",
       " 'mobileNo': '+923008108534'}"
      ]
     },
     "execution_count": 81,
     "metadata": {},
     "output_type": "execute_result"
    }
   ],
   "source": [
    "data : Dict[Key,Value] = {\n",
    "    \"fName\":\"Abdul Ghani\",\n",
    "    \"name\":\"Abdullah\",\n",
    "    \"rollNo\":\"23L8027\",\n",
    "    \"city\":\"Lahore\",\n",
    "    \"university\":\"Fast-NUCES\",\n",
    "    \"mobileNo\":\"+923008108534\",\n",
    "}\n",
    "\n",
    "{key:value for key,value in data.items() } #Dictionary Comprehension"
   ]
  },
  {
   "cell_type": "code",
   "execution_count": 83,
   "metadata": {},
   "outputs": [
    {
     "name": "stdout",
     "output_type": "stream",
     "text": [
      "8 7\n"
     ]
    }
   ],
   "source": [
    "a: int = 7\n",
    "b: int = 8\n",
    "\n",
    "a,b =b,a # swap values / shuffle\n",
    "\n",
    "print(a,b)"
   ]
  },
  {
   "cell_type": "code",
   "execution_count": 87,
   "metadata": {},
   "outputs": [
    {
     "name": "stdout",
     "output_type": "stream",
     "text": [
      "{}\n",
      "{'fName': None, 'name': None, 'rollNo': None, 'city': None, 'university': None, 'mobileNo': None}\n"
     ]
    }
   ],
   "source": [
    "keys: list[str] = [ \"fName\",\"name\",\"rollNo\",\"city\",\"university\",\"mobileNo\"]\n",
    "\n",
    "data : dict[Key,Value] = {}\n",
    "\n",
    "print(data)\n",
    "\n",
    "data = data.fromkeys(keys) # inline create dictionary with keys and None values\n",
    "\n",
    "print(data)"
   ]
  },
  {
   "cell_type": "code",
   "execution_count": null,
   "metadata": {},
   "outputs": [],
   "source": []
  }
 ],
 "metadata": {
  "kernelspec": {
   "display_name": "python12",
   "language": "python",
   "name": "python3"
  },
  "language_info": {
   "codemirror_mode": {
    "name": "ipython",
    "version": 3
   },
   "file_extension": ".py",
   "mimetype": "text/x-python",
   "name": "python",
   "nbconvert_exporter": "python",
   "pygments_lexer": "ipython3",
   "version": "3.12.4"
  }
 },
 "nbformat": 4,
 "nbformat_minor": 2
}
